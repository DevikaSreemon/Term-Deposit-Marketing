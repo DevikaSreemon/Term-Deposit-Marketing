{
  "nbformat": 4,
  "nbformat_minor": 0,
  "metadata": {
    "colab": {
      "provenance": [],
      "authorship_tag": "ABX9TyNWJlz2T/sa+03PPvFYm6iW",
      "include_colab_link": true
    },
    "kernelspec": {
      "name": "python3",
      "display_name": "Python 3"
    },
    "language_info": {
      "name": "python"
    },
    "widgets": {
      "application/vnd.jupyter.widget-state+json": {
        "c12fc6b9f70a40d4a4d5c4f4d8017de8": {
          "model_module": "@jupyter-widgets/controls",
          "model_name": "HBoxModel",
          "model_module_version": "1.5.0",
          "state": {
            "_dom_classes": [],
            "_model_module": "@jupyter-widgets/controls",
            "_model_module_version": "1.5.0",
            "_model_name": "HBoxModel",
            "_view_count": null,
            "_view_module": "@jupyter-widgets/controls",
            "_view_module_version": "1.5.0",
            "_view_name": "HBoxView",
            "box_style": "",
            "children": [
              "IPY_MODEL_c4357b9ede3e4a38b3e13d5caf423e91",
              "IPY_MODEL_ce7769a6904244a4a84f59d984566b8d",
              "IPY_MODEL_cc7b5072ed5241e0862a4d22a1f77a4a"
            ],
            "layout": "IPY_MODEL_3014fd4e77ab4145b21511bebc55f282"
          }
        },
        "c4357b9ede3e4a38b3e13d5caf423e91": {
          "model_module": "@jupyter-widgets/controls",
          "model_name": "HTMLModel",
          "model_module_version": "1.5.0",
          "state": {
            "_dom_classes": [],
            "_model_module": "@jupyter-widgets/controls",
            "_model_module_version": "1.5.0",
            "_model_name": "HTMLModel",
            "_view_count": null,
            "_view_module": "@jupyter-widgets/controls",
            "_view_module_version": "1.5.0",
            "_view_name": "HTMLView",
            "description": "",
            "description_tooltip": null,
            "layout": "IPY_MODEL_87684130b459435ea36c1e589228a5cd",
            "placeholder": "​",
            "style": "IPY_MODEL_50cca39df5b94d5ea6d05e07a2c14d72",
            "value": "Processing: 100%"
          }
        },
        "ce7769a6904244a4a84f59d984566b8d": {
          "model_module": "@jupyter-widgets/controls",
          "model_name": "FloatProgressModel",
          "model_module_version": "1.5.0",
          "state": {
            "_dom_classes": [],
            "_model_module": "@jupyter-widgets/controls",
            "_model_module_version": "1.5.0",
            "_model_name": "FloatProgressModel",
            "_view_count": null,
            "_view_module": "@jupyter-widgets/controls",
            "_view_module_version": "1.5.0",
            "_view_name": "ProgressView",
            "bar_style": "",
            "description": "",
            "description_tooltip": null,
            "layout": "IPY_MODEL_fd8202f3e8e9488fb0f3a26898b0ef4f",
            "max": 65,
            "min": 0,
            "orientation": "horizontal",
            "style": "IPY_MODEL_8387714de55b43e6b68e37414397d41b",
            "value": 65
          }
        },
        "cc7b5072ed5241e0862a4d22a1f77a4a": {
          "model_module": "@jupyter-widgets/controls",
          "model_name": "HTMLModel",
          "model_module_version": "1.5.0",
          "state": {
            "_dom_classes": [],
            "_model_module": "@jupyter-widgets/controls",
            "_model_module_version": "1.5.0",
            "_model_name": "HTMLModel",
            "_view_count": null,
            "_view_module": "@jupyter-widgets/controls",
            "_view_module_version": "1.5.0",
            "_view_name": "HTMLView",
            "description": "",
            "description_tooltip": null,
            "layout": "IPY_MODEL_d6cb847d969b49bfae72acb1685b377b",
            "placeholder": "​",
            "style": "IPY_MODEL_f4ec5e26abc947559ce5a9aa823a6065",
            "value": " 65/65 [04:57&lt;00:00,  2.35s/it]"
          }
        },
        "3014fd4e77ab4145b21511bebc55f282": {
          "model_module": "@jupyter-widgets/base",
          "model_name": "LayoutModel",
          "model_module_version": "1.2.0",
          "state": {
            "_model_module": "@jupyter-widgets/base",
            "_model_module_version": "1.2.0",
            "_model_name": "LayoutModel",
            "_view_count": null,
            "_view_module": "@jupyter-widgets/base",
            "_view_module_version": "1.2.0",
            "_view_name": "LayoutView",
            "align_content": null,
            "align_items": null,
            "align_self": null,
            "border": null,
            "bottom": null,
            "display": null,
            "flex": null,
            "flex_flow": null,
            "grid_area": null,
            "grid_auto_columns": null,
            "grid_auto_flow": null,
            "grid_auto_rows": null,
            "grid_column": null,
            "grid_gap": null,
            "grid_row": null,
            "grid_template_areas": null,
            "grid_template_columns": null,
            "grid_template_rows": null,
            "height": null,
            "justify_content": null,
            "justify_items": null,
            "left": null,
            "margin": null,
            "max_height": null,
            "max_width": null,
            "min_height": null,
            "min_width": null,
            "object_fit": null,
            "object_position": null,
            "order": null,
            "overflow": null,
            "overflow_x": null,
            "overflow_y": null,
            "padding": null,
            "right": null,
            "top": null,
            "visibility": "hidden",
            "width": null
          }
        },
        "87684130b459435ea36c1e589228a5cd": {
          "model_module": "@jupyter-widgets/base",
          "model_name": "LayoutModel",
          "model_module_version": "1.2.0",
          "state": {
            "_model_module": "@jupyter-widgets/base",
            "_model_module_version": "1.2.0",
            "_model_name": "LayoutModel",
            "_view_count": null,
            "_view_module": "@jupyter-widgets/base",
            "_view_module_version": "1.2.0",
            "_view_name": "LayoutView",
            "align_content": null,
            "align_items": null,
            "align_self": null,
            "border": null,
            "bottom": null,
            "display": null,
            "flex": null,
            "flex_flow": null,
            "grid_area": null,
            "grid_auto_columns": null,
            "grid_auto_flow": null,
            "grid_auto_rows": null,
            "grid_column": null,
            "grid_gap": null,
            "grid_row": null,
            "grid_template_areas": null,
            "grid_template_columns": null,
            "grid_template_rows": null,
            "height": null,
            "justify_content": null,
            "justify_items": null,
            "left": null,
            "margin": null,
            "max_height": null,
            "max_width": null,
            "min_height": null,
            "min_width": null,
            "object_fit": null,
            "object_position": null,
            "order": null,
            "overflow": null,
            "overflow_x": null,
            "overflow_y": null,
            "padding": null,
            "right": null,
            "top": null,
            "visibility": null,
            "width": null
          }
        },
        "50cca39df5b94d5ea6d05e07a2c14d72": {
          "model_module": "@jupyter-widgets/controls",
          "model_name": "DescriptionStyleModel",
          "model_module_version": "1.5.0",
          "state": {
            "_model_module": "@jupyter-widgets/controls",
            "_model_module_version": "1.5.0",
            "_model_name": "DescriptionStyleModel",
            "_view_count": null,
            "_view_module": "@jupyter-widgets/base",
            "_view_module_version": "1.2.0",
            "_view_name": "StyleView",
            "description_width": ""
          }
        },
        "fd8202f3e8e9488fb0f3a26898b0ef4f": {
          "model_module": "@jupyter-widgets/base",
          "model_name": "LayoutModel",
          "model_module_version": "1.2.0",
          "state": {
            "_model_module": "@jupyter-widgets/base",
            "_model_module_version": "1.2.0",
            "_model_name": "LayoutModel",
            "_view_count": null,
            "_view_module": "@jupyter-widgets/base",
            "_view_module_version": "1.2.0",
            "_view_name": "LayoutView",
            "align_content": null,
            "align_items": null,
            "align_self": null,
            "border": null,
            "bottom": null,
            "display": null,
            "flex": null,
            "flex_flow": null,
            "grid_area": null,
            "grid_auto_columns": null,
            "grid_auto_flow": null,
            "grid_auto_rows": null,
            "grid_column": null,
            "grid_gap": null,
            "grid_row": null,
            "grid_template_areas": null,
            "grid_template_columns": null,
            "grid_template_rows": null,
            "height": null,
            "justify_content": null,
            "justify_items": null,
            "left": null,
            "margin": null,
            "max_height": null,
            "max_width": null,
            "min_height": null,
            "min_width": null,
            "object_fit": null,
            "object_position": null,
            "order": null,
            "overflow": null,
            "overflow_x": null,
            "overflow_y": null,
            "padding": null,
            "right": null,
            "top": null,
            "visibility": null,
            "width": null
          }
        },
        "8387714de55b43e6b68e37414397d41b": {
          "model_module": "@jupyter-widgets/controls",
          "model_name": "ProgressStyleModel",
          "model_module_version": "1.5.0",
          "state": {
            "_model_module": "@jupyter-widgets/controls",
            "_model_module_version": "1.5.0",
            "_model_name": "ProgressStyleModel",
            "_view_count": null,
            "_view_module": "@jupyter-widgets/base",
            "_view_module_version": "1.2.0",
            "_view_name": "StyleView",
            "bar_color": null,
            "description_width": ""
          }
        },
        "d6cb847d969b49bfae72acb1685b377b": {
          "model_module": "@jupyter-widgets/base",
          "model_name": "LayoutModel",
          "model_module_version": "1.2.0",
          "state": {
            "_model_module": "@jupyter-widgets/base",
            "_model_module_version": "1.2.0",
            "_model_name": "LayoutModel",
            "_view_count": null,
            "_view_module": "@jupyter-widgets/base",
            "_view_module_version": "1.2.0",
            "_view_name": "LayoutView",
            "align_content": null,
            "align_items": null,
            "align_self": null,
            "border": null,
            "bottom": null,
            "display": null,
            "flex": null,
            "flex_flow": null,
            "grid_area": null,
            "grid_auto_columns": null,
            "grid_auto_flow": null,
            "grid_auto_rows": null,
            "grid_column": null,
            "grid_gap": null,
            "grid_row": null,
            "grid_template_areas": null,
            "grid_template_columns": null,
            "grid_template_rows": null,
            "height": null,
            "justify_content": null,
            "justify_items": null,
            "left": null,
            "margin": null,
            "max_height": null,
            "max_width": null,
            "min_height": null,
            "min_width": null,
            "object_fit": null,
            "object_position": null,
            "order": null,
            "overflow": null,
            "overflow_x": null,
            "overflow_y": null,
            "padding": null,
            "right": null,
            "top": null,
            "visibility": null,
            "width": null
          }
        },
        "f4ec5e26abc947559ce5a9aa823a6065": {
          "model_module": "@jupyter-widgets/controls",
          "model_name": "DescriptionStyleModel",
          "model_module_version": "1.5.0",
          "state": {
            "_model_module": "@jupyter-widgets/controls",
            "_model_module_version": "1.5.0",
            "_model_name": "DescriptionStyleModel",
            "_view_count": null,
            "_view_module": "@jupyter-widgets/base",
            "_view_module_version": "1.2.0",
            "_view_name": "StyleView",
            "description_width": ""
          }
        },
        "21a26424bf4b4c5f802063fa2b6eb286": {
          "model_module": "@jupyter-widgets/base",
          "model_name": "LayoutModel",
          "model_module_version": "1.2.0",
          "state": {
            "_model_module": "@jupyter-widgets/base",
            "_model_module_version": "1.2.0",
            "_model_name": "LayoutModel",
            "_view_count": null,
            "_view_module": "@jupyter-widgets/base",
            "_view_module_version": "1.2.0",
            "_view_name": "LayoutView",
            "align_content": null,
            "align_items": null,
            "align_self": null,
            "border": null,
            "bottom": null,
            "display": null,
            "flex": null,
            "flex_flow": null,
            "grid_area": null,
            "grid_auto_columns": null,
            "grid_auto_flow": null,
            "grid_auto_rows": null,
            "grid_column": null,
            "grid_gap": null,
            "grid_row": null,
            "grid_template_areas": null,
            "grid_template_columns": null,
            "grid_template_rows": null,
            "height": null,
            "justify_content": null,
            "justify_items": null,
            "left": null,
            "margin": null,
            "max_height": null,
            "max_width": null,
            "min_height": null,
            "min_width": null,
            "object_fit": null,
            "object_position": null,
            "order": null,
            "overflow": null,
            "overflow_x": null,
            "overflow_y": null,
            "padding": null,
            "right": null,
            "top": null,
            "visibility": null,
            "width": null
          }
        },
        "66c42d57f867452e9994e69b88ca0ce2": {
          "model_module": "@jupyter-widgets/controls",
          "model_name": "ProgressStyleModel",
          "model_module_version": "1.5.0",
          "state": {
            "_model_module": "@jupyter-widgets/controls",
            "_model_module_version": "1.5.0",
            "_model_name": "ProgressStyleModel",
            "_view_count": null,
            "_view_module": "@jupyter-widgets/base",
            "_view_module_version": "1.2.0",
            "_view_name": "StyleView",
            "bar_color": null,
            "description_width": ""
          }
        },
        "842061b389364864be2d6bf4bca4b2b4": {
          "model_module": "@jupyter-widgets/base",
          "model_name": "LayoutModel",
          "model_module_version": "1.2.0",
          "state": {
            "_model_module": "@jupyter-widgets/base",
            "_model_module_version": "1.2.0",
            "_model_name": "LayoutModel",
            "_view_count": null,
            "_view_module": "@jupyter-widgets/base",
            "_view_module_version": "1.2.0",
            "_view_name": "LayoutView",
            "align_content": null,
            "align_items": null,
            "align_self": null,
            "border": null,
            "bottom": null,
            "display": null,
            "flex": null,
            "flex_flow": null,
            "grid_area": null,
            "grid_auto_columns": null,
            "grid_auto_flow": null,
            "grid_auto_rows": null,
            "grid_column": null,
            "grid_gap": null,
            "grid_row": null,
            "grid_template_areas": null,
            "grid_template_columns": null,
            "grid_template_rows": null,
            "height": null,
            "justify_content": null,
            "justify_items": null,
            "left": null,
            "margin": null,
            "max_height": null,
            "max_width": null,
            "min_height": null,
            "min_width": null,
            "object_fit": null,
            "object_position": null,
            "order": null,
            "overflow": null,
            "overflow_x": null,
            "overflow_y": null,
            "padding": null,
            "right": null,
            "top": null,
            "visibility": null,
            "width": null
          }
        },
        "0beab3f17e38459aa2ec8693d5d5e7c1": {
          "model_module": "@jupyter-widgets/controls",
          "model_name": "DescriptionStyleModel",
          "model_module_version": "1.5.0",
          "state": {
            "_model_module": "@jupyter-widgets/controls",
            "_model_module_version": "1.5.0",
            "_model_name": "DescriptionStyleModel",
            "_view_count": null,
            "_view_module": "@jupyter-widgets/base",
            "_view_module_version": "1.2.0",
            "_view_name": "StyleView",
            "description_width": ""
          }
        },
        "055ef259567040b89ab03968a5f73fe0": {
          "model_module": "@jupyter-widgets/base",
          "model_name": "LayoutModel",
          "model_module_version": "1.2.0",
          "state": {
            "_model_module": "@jupyter-widgets/base",
            "_model_module_version": "1.2.0",
            "_model_name": "LayoutModel",
            "_view_count": null,
            "_view_module": "@jupyter-widgets/base",
            "_view_module_version": "1.2.0",
            "_view_name": "LayoutView",
            "align_content": null,
            "align_items": null,
            "align_self": null,
            "border": null,
            "bottom": null,
            "display": null,
            "flex": null,
            "flex_flow": null,
            "grid_area": null,
            "grid_auto_columns": null,
            "grid_auto_flow": null,
            "grid_auto_rows": null,
            "grid_column": null,
            "grid_gap": null,
            "grid_row": null,
            "grid_template_areas": null,
            "grid_template_columns": null,
            "grid_template_rows": null,
            "height": null,
            "justify_content": null,
            "justify_items": null,
            "left": null,
            "margin": null,
            "max_height": null,
            "max_width": null,
            "min_height": null,
            "min_width": null,
            "object_fit": null,
            "object_position": null,
            "order": null,
            "overflow": null,
            "overflow_x": null,
            "overflow_y": null,
            "padding": null,
            "right": null,
            "top": null,
            "visibility": null,
            "width": null
          }
        },
        "0faf6924c47347ca850961e4faf8209c": {
          "model_module": "@jupyter-widgets/controls",
          "model_name": "DescriptionStyleModel",
          "model_module_version": "1.5.0",
          "state": {
            "_model_module": "@jupyter-widgets/controls",
            "_model_module_version": "1.5.0",
            "_model_name": "DescriptionStyleModel",
            "_view_count": null,
            "_view_module": "@jupyter-widgets/base",
            "_view_module_version": "1.2.0",
            "_view_name": "StyleView",
            "description_width": ""
          }
        },
        "530496b96d4f4ee2a1ff17a694e77479": {
          "model_module": "@jupyter-widgets/controls",
          "model_name": "HTMLModel",
          "model_module_version": "1.5.0",
          "state": {
            "_dom_classes": [],
            "_model_module": "@jupyter-widgets/controls",
            "_model_module_version": "1.5.0",
            "_model_name": "HTMLModel",
            "_view_count": null,
            "_view_module": "@jupyter-widgets/controls",
            "_view_module_version": "1.5.0",
            "_view_name": "HTMLView",
            "description": "",
            "description_tooltip": null,
            "layout": "IPY_MODEL_842061b389364864be2d6bf4bca4b2b4",
            "placeholder": "​",
            "style": "IPY_MODEL_0beab3f17e38459aa2ec8693d5d5e7c1",
            "value": "Processing: 100%"
          }
        },
        "3d9e8775780d431ba82f92338e66de46": {
          "model_module": "@jupyter-widgets/controls",
          "model_name": "FloatProgressModel",
          "model_module_version": "1.5.0",
          "state": {
            "_dom_classes": [],
            "_model_module": "@jupyter-widgets/controls",
            "_model_module_version": "1.5.0",
            "_model_name": "FloatProgressModel",
            "_view_count": null,
            "_view_module": "@jupyter-widgets/controls",
            "_view_module_version": "1.5.0",
            "_view_name": "ProgressView",
            "bar_style": "",
            "description": "",
            "description_tooltip": null,
            "layout": "IPY_MODEL_21a26424bf4b4c5f802063fa2b6eb286",
            "max": 4,
            "min": 0,
            "orientation": "horizontal",
            "style": "IPY_MODEL_66c42d57f867452e9994e69b88ca0ce2",
            "value": 4
          }
        },
        "db091573e5a1465f94d70c49678debab": {
          "model_module": "@jupyter-widgets/controls",
          "model_name": "HTMLModel",
          "model_module_version": "1.5.0",
          "state": {
            "_dom_classes": [],
            "_model_module": "@jupyter-widgets/controls",
            "_model_module_version": "1.5.0",
            "_model_name": "HTMLModel",
            "_view_count": null,
            "_view_module": "@jupyter-widgets/controls",
            "_view_module_version": "1.5.0",
            "_view_name": "HTMLView",
            "description": "",
            "description_tooltip": null,
            "layout": "IPY_MODEL_055ef259567040b89ab03968a5f73fe0",
            "placeholder": "​",
            "style": "IPY_MODEL_0faf6924c47347ca850961e4faf8209c",
            "value": " 4/4 [00:37&lt;00:00,  8.95s/it]"
          }
        },
        "a3d27abc260247049c96aac131d943d7": {
          "model_module": "@jupyter-widgets/base",
          "model_name": "LayoutModel",
          "model_module_version": "1.2.0",
          "state": {
            "_model_module": "@jupyter-widgets/base",
            "_model_module_version": "1.2.0",
            "_model_name": "LayoutModel",
            "_view_count": null,
            "_view_module": "@jupyter-widgets/base",
            "_view_module_version": "1.2.0",
            "_view_name": "LayoutView",
            "align_content": null,
            "align_items": null,
            "align_self": null,
            "border": null,
            "bottom": null,
            "display": null,
            "flex": null,
            "flex_flow": null,
            "grid_area": null,
            "grid_auto_columns": null,
            "grid_auto_flow": null,
            "grid_auto_rows": null,
            "grid_column": null,
            "grid_gap": null,
            "grid_row": null,
            "grid_template_areas": null,
            "grid_template_columns": null,
            "grid_template_rows": null,
            "height": null,
            "justify_content": null,
            "justify_items": null,
            "left": null,
            "margin": null,
            "max_height": null,
            "max_width": null,
            "min_height": null,
            "min_width": null,
            "object_fit": null,
            "object_position": null,
            "order": null,
            "overflow": null,
            "overflow_x": null,
            "overflow_y": null,
            "padding": null,
            "right": null,
            "top": null,
            "visibility": "hidden",
            "width": null
          }
        },
        "8a07d76dfba9410b996eeb0001aa4416": {
          "model_module": "@jupyter-widgets/controls",
          "model_name": "HBoxModel",
          "model_module_version": "1.5.0",
          "state": {
            "_dom_classes": [],
            "_model_module": "@jupyter-widgets/controls",
            "_model_module_version": "1.5.0",
            "_model_name": "HBoxModel",
            "_view_count": null,
            "_view_module": "@jupyter-widgets/controls",
            "_view_module_version": "1.5.0",
            "_view_name": "HBoxView",
            "box_style": "",
            "children": [
              "IPY_MODEL_530496b96d4f4ee2a1ff17a694e77479",
              "IPY_MODEL_3d9e8775780d431ba82f92338e66de46",
              "IPY_MODEL_db091573e5a1465f94d70c49678debab"
            ],
            "layout": "IPY_MODEL_a3d27abc260247049c96aac131d943d7"
          }
        },
        "961bb647be25433d8ae9924c83c79724": {
          "model_module": "@jupyter-widgets/base",
          "model_name": "LayoutModel",
          "model_module_version": "1.2.0",
          "state": {
            "_model_module": "@jupyter-widgets/base",
            "_model_module_version": "1.2.0",
            "_model_name": "LayoutModel",
            "_view_count": null,
            "_view_module": "@jupyter-widgets/base",
            "_view_module_version": "1.2.0",
            "_view_name": "LayoutView",
            "align_content": null,
            "align_items": null,
            "align_self": null,
            "border": null,
            "bottom": null,
            "display": null,
            "flex": null,
            "flex_flow": null,
            "grid_area": null,
            "grid_auto_columns": null,
            "grid_auto_flow": null,
            "grid_auto_rows": null,
            "grid_column": null,
            "grid_gap": null,
            "grid_row": null,
            "grid_template_areas": null,
            "grid_template_columns": null,
            "grid_template_rows": null,
            "height": null,
            "justify_content": null,
            "justify_items": null,
            "left": null,
            "margin": null,
            "max_height": null,
            "max_width": null,
            "min_height": null,
            "min_width": null,
            "object_fit": null,
            "object_position": null,
            "order": null,
            "overflow": null,
            "overflow_x": null,
            "overflow_y": null,
            "padding": null,
            "right": null,
            "top": null,
            "visibility": null,
            "width": null
          }
        },
        "571148e113fd46b1bdcce963414caebe": {
          "model_module": "@jupyter-widgets/controls",
          "model_name": "ToggleButtonsStyleModel",
          "model_module_version": "1.5.0",
          "state": {
            "_model_module": "@jupyter-widgets/controls",
            "_model_module_version": "1.5.0",
            "_model_name": "ToggleButtonsStyleModel",
            "_view_count": null,
            "_view_module": "@jupyter-widgets/base",
            "_view_module_version": "1.2.0",
            "_view_name": "StyleView",
            "button_width": "",
            "description_width": "",
            "font_weight": ""
          }
        },
        "fedaa98dd0cf47a1b896341c73f29c69": {
          "model_module": "@jupyter-widgets/base",
          "model_name": "LayoutModel",
          "model_module_version": "1.2.0",
          "state": {
            "_model_module": "@jupyter-widgets/base",
            "_model_module_version": "1.2.0",
            "_model_name": "LayoutModel",
            "_view_count": null,
            "_view_module": "@jupyter-widgets/base",
            "_view_module_version": "1.2.0",
            "_view_name": "LayoutView",
            "align_content": null,
            "align_items": null,
            "align_self": null,
            "border": null,
            "bottom": null,
            "display": null,
            "flex": null,
            "flex_flow": null,
            "grid_area": null,
            "grid_auto_columns": null,
            "grid_auto_flow": null,
            "grid_auto_rows": null,
            "grid_column": null,
            "grid_gap": null,
            "grid_row": null,
            "grid_template_areas": null,
            "grid_template_columns": null,
            "grid_template_rows": null,
            "height": null,
            "justify_content": null,
            "justify_items": null,
            "left": null,
            "margin": null,
            "max_height": null,
            "max_width": null,
            "min_height": null,
            "min_width": null,
            "object_fit": null,
            "object_position": null,
            "order": null,
            "overflow": null,
            "overflow_x": null,
            "overflow_y": null,
            "padding": null,
            "right": null,
            "top": null,
            "visibility": null,
            "width": null
          }
        },
        "96fe2827d7c148c19e4f92faf76cc945": {
          "model_module": "@jupyter-widgets/base",
          "model_name": "LayoutModel",
          "model_module_version": "1.2.0",
          "state": {
            "_model_module": "@jupyter-widgets/base",
            "_model_module_version": "1.2.0",
            "_model_name": "LayoutModel",
            "_view_count": null,
            "_view_module": "@jupyter-widgets/base",
            "_view_module_version": "1.2.0",
            "_view_name": "LayoutView",
            "align_content": null,
            "align_items": null,
            "align_self": null,
            "border": null,
            "bottom": null,
            "display": null,
            "flex": null,
            "flex_flow": null,
            "grid_area": null,
            "grid_auto_columns": null,
            "grid_auto_flow": null,
            "grid_auto_rows": null,
            "grid_column": null,
            "grid_gap": null,
            "grid_row": null,
            "grid_template_areas": null,
            "grid_template_columns": null,
            "grid_template_rows": null,
            "height": null,
            "justify_content": null,
            "justify_items": null,
            "left": null,
            "margin": null,
            "max_height": null,
            "max_width": null,
            "min_height": null,
            "min_width": null,
            "object_fit": null,
            "object_position": null,
            "order": null,
            "overflow": null,
            "overflow_x": null,
            "overflow_y": null,
            "padding": null,
            "right": null,
            "top": null,
            "visibility": null,
            "width": null
          }
        },
        "68980ec20a5e4c67b2f83d9d7aef8a1f": {
          "model_module": "@jupyter-widgets/controls",
          "model_name": "VBoxModel",
          "model_module_version": "1.5.0",
          "state": {
            "_dom_classes": [
              "widget-interact"
            ],
            "_model_module": "@jupyter-widgets/controls",
            "_model_module_version": "1.5.0",
            "_model_name": "VBoxModel",
            "_view_count": null,
            "_view_module": "@jupyter-widgets/controls",
            "_view_module_version": "1.5.0",
            "_view_name": "VBoxView",
            "box_style": "",
            "children": [
              "IPY_MODEL_a60681e0335c4a5abbb5d242909078de",
              "IPY_MODEL_77556f4e05d94f06941b0235f905778e"
            ],
            "layout": "IPY_MODEL_fedaa98dd0cf47a1b896341c73f29c69"
          }
        },
        "a60681e0335c4a5abbb5d242909078de": {
          "model_module": "@jupyter-widgets/controls",
          "model_name": "ToggleButtonsModel",
          "model_module_version": "1.5.0",
          "state": {
            "_dom_classes": [],
            "_model_module": "@jupyter-widgets/controls",
            "_model_module_version": "1.5.0",
            "_model_name": "ToggleButtonsModel",
            "_options_labels": [
              "Pipeline Plot",
              "Hyperparameters",
              "AUC",
              "Confusion Matrix",
              "Threshold",
              "Precision Recall",
              "Prediction Error",
              "Class Report",
              "Feature Selection",
              "Learning Curve",
              "Manifold Learning",
              "Calibration Curve",
              "Validation Curve",
              "Dimensions",
              "Feature Importance",
              "Feature Importance (All)",
              "Decision Boundary",
              "Lift Chart",
              "Gain Chart",
              "Decision Tree",
              "KS Statistic Plot"
            ],
            "_view_count": null,
            "_view_module": "@jupyter-widgets/controls",
            "_view_module_version": "1.5.0",
            "_view_name": "ToggleButtonsView",
            "button_style": "",
            "description": "Plot Type:",
            "description_tooltip": null,
            "disabled": false,
            "icons": [
              ""
            ],
            "index": 0,
            "layout": "IPY_MODEL_961bb647be25433d8ae9924c83c79724",
            "style": "IPY_MODEL_571148e113fd46b1bdcce963414caebe",
            "tooltips": []
          }
        },
        "77556f4e05d94f06941b0235f905778e": {
          "model_module": "@jupyter-widgets/output",
          "model_name": "OutputModel",
          "model_module_version": "1.0.0",
          "state": {
            "_dom_classes": [],
            "_model_module": "@jupyter-widgets/output",
            "_model_module_version": "1.0.0",
            "_model_name": "OutputModel",
            "_view_count": null,
            "_view_module": "@jupyter-widgets/output",
            "_view_module_version": "1.0.0",
            "_view_name": "OutputView",
            "layout": "IPY_MODEL_96fe2827d7c148c19e4f92faf76cc945",
            "msg_id": "",
            "outputs": [
              {
                "output_type": "display_data",
                "data": {
                  "text/plain": "<Figure size 2700x600 with 1 Axes>",
                  "image/png": "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\n"
                },
                "metadata": {}
              }
            ]
          }
        },
        "f2c93fdc991e48d6a1542c7ad12c8a48": {
          "model_module": "@jupyter-widgets/base",
          "model_name": "LayoutModel",
          "model_module_version": "1.2.0",
          "state": {
            "_model_module": "@jupyter-widgets/base",
            "_model_module_version": "1.2.0",
            "_model_name": "LayoutModel",
            "_view_count": null,
            "_view_module": "@jupyter-widgets/base",
            "_view_module_version": "1.2.0",
            "_view_name": "LayoutView",
            "align_content": null,
            "align_items": null,
            "align_self": null,
            "border": null,
            "bottom": null,
            "display": null,
            "flex": null,
            "flex_flow": null,
            "grid_area": null,
            "grid_auto_columns": null,
            "grid_auto_flow": null,
            "grid_auto_rows": null,
            "grid_column": null,
            "grid_gap": null,
            "grid_row": null,
            "grid_template_areas": null,
            "grid_template_columns": null,
            "grid_template_rows": null,
            "height": null,
            "justify_content": null,
            "justify_items": null,
            "left": null,
            "margin": null,
            "max_height": null,
            "max_width": null,
            "min_height": null,
            "min_width": null,
            "object_fit": null,
            "object_position": null,
            "order": null,
            "overflow": null,
            "overflow_x": null,
            "overflow_y": null,
            "padding": null,
            "right": null,
            "top": null,
            "visibility": null,
            "width": null
          }
        },
        "c1a74aa51df64b268f6c8a0bf5b00871": {
          "model_module": "@jupyter-widgets/controls",
          "model_name": "ProgressStyleModel",
          "model_module_version": "1.5.0",
          "state": {
            "_model_module": "@jupyter-widgets/controls",
            "_model_module_version": "1.5.0",
            "_model_name": "ProgressStyleModel",
            "_view_count": null,
            "_view_module": "@jupyter-widgets/base",
            "_view_module_version": "1.2.0",
            "_view_name": "StyleView",
            "bar_color": null,
            "description_width": ""
          }
        },
        "150fb8713b554bc98d17e376f67a6487": {
          "model_module": "@jupyter-widgets/base",
          "model_name": "LayoutModel",
          "model_module_version": "1.2.0",
          "state": {
            "_model_module": "@jupyter-widgets/base",
            "_model_module_version": "1.2.0",
            "_model_name": "LayoutModel",
            "_view_count": null,
            "_view_module": "@jupyter-widgets/base",
            "_view_module_version": "1.2.0",
            "_view_name": "LayoutView",
            "align_content": null,
            "align_items": null,
            "align_self": null,
            "border": null,
            "bottom": null,
            "display": null,
            "flex": null,
            "flex_flow": null,
            "grid_area": null,
            "grid_auto_columns": null,
            "grid_auto_flow": null,
            "grid_auto_rows": null,
            "grid_column": null,
            "grid_gap": null,
            "grid_row": null,
            "grid_template_areas": null,
            "grid_template_columns": null,
            "grid_template_rows": null,
            "height": null,
            "justify_content": null,
            "justify_items": null,
            "left": null,
            "margin": null,
            "max_height": null,
            "max_width": null,
            "min_height": null,
            "min_width": null,
            "object_fit": null,
            "object_position": null,
            "order": null,
            "overflow": null,
            "overflow_x": null,
            "overflow_y": null,
            "padding": null,
            "right": null,
            "top": null,
            "visibility": null,
            "width": null
          }
        },
        "b526eb41884148738bd55d0bfbdd4738": {
          "model_module": "@jupyter-widgets/controls",
          "model_name": "DescriptionStyleModel",
          "model_module_version": "1.5.0",
          "state": {
            "_model_module": "@jupyter-widgets/controls",
            "_model_module_version": "1.5.0",
            "_model_name": "DescriptionStyleModel",
            "_view_count": null,
            "_view_module": "@jupyter-widgets/base",
            "_view_module_version": "1.2.0",
            "_view_name": "StyleView",
            "description_width": ""
          }
        },
        "55616463066346e48b7929b24c16c4b9": {
          "model_module": "@jupyter-widgets/base",
          "model_name": "LayoutModel",
          "model_module_version": "1.2.0",
          "state": {
            "_model_module": "@jupyter-widgets/base",
            "_model_module_version": "1.2.0",
            "_model_name": "LayoutModel",
            "_view_count": null,
            "_view_module": "@jupyter-widgets/base",
            "_view_module_version": "1.2.0",
            "_view_name": "LayoutView",
            "align_content": null,
            "align_items": null,
            "align_self": null,
            "border": null,
            "bottom": null,
            "display": null,
            "flex": null,
            "flex_flow": null,
            "grid_area": null,
            "grid_auto_columns": null,
            "grid_auto_flow": null,
            "grid_auto_rows": null,
            "grid_column": null,
            "grid_gap": null,
            "grid_row": null,
            "grid_template_areas": null,
            "grid_template_columns": null,
            "grid_template_rows": null,
            "height": null,
            "justify_content": null,
            "justify_items": null,
            "left": null,
            "margin": null,
            "max_height": null,
            "max_width": null,
            "min_height": null,
            "min_width": null,
            "object_fit": null,
            "object_position": null,
            "order": null,
            "overflow": null,
            "overflow_x": null,
            "overflow_y": null,
            "padding": null,
            "right": null,
            "top": null,
            "visibility": null,
            "width": null
          }
        },
        "5d2e0bfcafc24825b9add390d8f6cedc": {
          "model_module": "@jupyter-widgets/controls",
          "model_name": "DescriptionStyleModel",
          "model_module_version": "1.5.0",
          "state": {
            "_model_module": "@jupyter-widgets/controls",
            "_model_module_version": "1.5.0",
            "_model_name": "DescriptionStyleModel",
            "_view_count": null,
            "_view_module": "@jupyter-widgets/base",
            "_view_module_version": "1.2.0",
            "_view_name": "StyleView",
            "description_width": ""
          }
        },
        "d4a7436a795b4239a30d03ee828116b9": {
          "model_module": "@jupyter-widgets/controls",
          "model_name": "HTMLModel",
          "model_module_version": "1.5.0",
          "state": {
            "_dom_classes": [],
            "_model_module": "@jupyter-widgets/controls",
            "_model_module_version": "1.5.0",
            "_model_name": "HTMLModel",
            "_view_count": null,
            "_view_module": "@jupyter-widgets/controls",
            "_view_module_version": "1.5.0",
            "_view_name": "HTMLView",
            "description": "",
            "description_tooltip": null,
            "layout": "IPY_MODEL_150fb8713b554bc98d17e376f67a6487",
            "placeholder": "​",
            "style": "IPY_MODEL_b526eb41884148738bd55d0bfbdd4738",
            "value": "Processing: 100%"
          }
        },
        "f261ca81c9724b398b295bdc9ebd1652": {
          "model_module": "@jupyter-widgets/controls",
          "model_name": "FloatProgressModel",
          "model_module_version": "1.5.0",
          "state": {
            "_dom_classes": [],
            "_model_module": "@jupyter-widgets/controls",
            "_model_module_version": "1.5.0",
            "_model_name": "FloatProgressModel",
            "_view_count": null,
            "_view_module": "@jupyter-widgets/controls",
            "_view_module_version": "1.5.0",
            "_view_name": "ProgressView",
            "bar_style": "",
            "description": "",
            "description_tooltip": null,
            "layout": "IPY_MODEL_f2c93fdc991e48d6a1542c7ad12c8a48",
            "max": 7,
            "min": 0,
            "orientation": "horizontal",
            "style": "IPY_MODEL_c1a74aa51df64b268f6c8a0bf5b00871",
            "value": 7
          }
        },
        "ff31ad3793d64476847f30f8fcbe83a8": {
          "model_module": "@jupyter-widgets/controls",
          "model_name": "HTMLModel",
          "model_module_version": "1.5.0",
          "state": {
            "_dom_classes": [],
            "_model_module": "@jupyter-widgets/controls",
            "_model_module_version": "1.5.0",
            "_model_name": "HTMLModel",
            "_view_count": null,
            "_view_module": "@jupyter-widgets/controls",
            "_view_module_version": "1.5.0",
            "_view_name": "HTMLView",
            "description": "",
            "description_tooltip": null,
            "layout": "IPY_MODEL_55616463066346e48b7929b24c16c4b9",
            "placeholder": "​",
            "style": "IPY_MODEL_5d2e0bfcafc24825b9add390d8f6cedc",
            "value": " 7/7 [04:58&lt;00:00, 32.79s/it]"
          }
        },
        "2e98a3f122a3496fa931d7b67096a7c9": {
          "model_module": "@jupyter-widgets/base",
          "model_name": "LayoutModel",
          "model_module_version": "1.2.0",
          "state": {
            "_model_module": "@jupyter-widgets/base",
            "_model_module_version": "1.2.0",
            "_model_name": "LayoutModel",
            "_view_count": null,
            "_view_module": "@jupyter-widgets/base",
            "_view_module_version": "1.2.0",
            "_view_name": "LayoutView",
            "align_content": null,
            "align_items": null,
            "align_self": null,
            "border": null,
            "bottom": null,
            "display": null,
            "flex": null,
            "flex_flow": null,
            "grid_area": null,
            "grid_auto_columns": null,
            "grid_auto_flow": null,
            "grid_auto_rows": null,
            "grid_column": null,
            "grid_gap": null,
            "grid_row": null,
            "grid_template_areas": null,
            "grid_template_columns": null,
            "grid_template_rows": null,
            "height": null,
            "justify_content": null,
            "justify_items": null,
            "left": null,
            "margin": null,
            "max_height": null,
            "max_width": null,
            "min_height": null,
            "min_width": null,
            "object_fit": null,
            "object_position": null,
            "order": null,
            "overflow": null,
            "overflow_x": null,
            "overflow_y": null,
            "padding": null,
            "right": null,
            "top": null,
            "visibility": "hidden",
            "width": null
          }
        },
        "2579942d07fa4c21aa419d9670f8b1d6": {
          "model_module": "@jupyter-widgets/controls",
          "model_name": "HBoxModel",
          "model_module_version": "1.5.0",
          "state": {
            "_dom_classes": [],
            "_model_module": "@jupyter-widgets/controls",
            "_model_module_version": "1.5.0",
            "_model_name": "HBoxModel",
            "_view_count": null,
            "_view_module": "@jupyter-widgets/controls",
            "_view_module_version": "1.5.0",
            "_view_name": "HBoxView",
            "box_style": "",
            "children": [
              "IPY_MODEL_d4a7436a795b4239a30d03ee828116b9",
              "IPY_MODEL_f261ca81c9724b398b295bdc9ebd1652",
              "IPY_MODEL_ff31ad3793d64476847f30f8fcbe83a8"
            ],
            "layout": "IPY_MODEL_2e98a3f122a3496fa931d7b67096a7c9"
          }
        }
      }
    }
  },
  "cells": [
    {
      "cell_type": "markdown",
      "metadata": {
        "id": "view-in-github",
        "colab_type": "text"
      },
      "source": [
        "<a href=\"https://colab.research.google.com/github/DevikaSreemon/Term-Deposit-Marketing/blob/project/Term_Market_Deposit_Part_II.ipynb\" target=\"_parent\"><img src=\"https://colab.research.google.com/assets/colab-badge.svg\" alt=\"Open In Colab\"/></a>"
      ]
    },
    {
      "cell_type": "markdown",
      "source": [
        "### Enhanced Modeling Approach: Predicting Customer Call Outcomes and Saving Time\n"
      ],
      "metadata": {
        "id": "UBVV83x1dSIj"
      }
    },
    {
      "cell_type": "markdown",
      "source": [
        "**Objective**\n",
        "\n",
        "To refine the modeling process by incorporating all features of the dataset, including call-related attributes, to:\n",
        "\n",
        "Predict whether a customer should continue being contacted (potential subscribers) or not (non-subscribers).\n",
        "\n",
        "Quantify the time saved by the company by reducing unnecessary customer calls.\n"
      ],
      "metadata": {
        "id": "9_CrukWidShP"
      }
    },
    {
      "cell_type": "markdown",
      "source": [
        "### 1. Installing Libraries"
      ],
      "metadata": {
        "id": "wsHvZOAkdtGw"
      }
    },
    {
      "cell_type": "code",
      "source": [
        "!pip install pycaret"
      ],
      "metadata": {
        "colab": {
          "base_uri": "https://localhost:8080/"
        },
        "id": "7VKHB78G4UBk",
        "outputId": "b9f88a18-0311-43ba-dd53-847f73199bf9"
      },
      "execution_count": null,
      "outputs": [
        {
          "output_type": "stream",
          "name": "stdout",
          "text": [
            "Collecting pycaret\n",
            "  Downloading pycaret-3.3.2-py3-none-any.whl.metadata (17 kB)\n",
            "Requirement already satisfied: ipython>=5.5.0 in /usr/local/lib/python3.10/dist-packages (from pycaret) (7.34.0)\n",
            "Requirement already satisfied: ipywidgets>=7.6.5 in /usr/local/lib/python3.10/dist-packages (from pycaret) (7.7.1)\n",
            "Requirement already satisfied: tqdm>=4.62.0 in /usr/local/lib/python3.10/dist-packages (from pycaret) (4.66.5)\n",
            "Requirement already satisfied: numpy<1.27,>=1.21 in /usr/local/lib/python3.10/dist-packages (from pycaret) (1.26.4)\n",
            "Collecting pandas<2.2.0 (from pycaret)\n",
            "  Downloading pandas-2.1.4-cp310-cp310-manylinux_2_17_x86_64.manylinux2014_x86_64.whl.metadata (18 kB)\n",
            "Requirement already satisfied: jinja2>=3 in /usr/local/lib/python3.10/dist-packages (from pycaret) (3.1.4)\n",
            "Collecting scipy<=1.11.4,>=1.6.1 (from pycaret)\n",
            "  Downloading scipy-1.11.4-cp310-cp310-manylinux_2_17_x86_64.manylinux2014_x86_64.whl.metadata (60 kB)\n",
            "\u001b[2K     \u001b[90m━━━━━━━━━━━━━━━━━━━━━━━━━━━━━━━━━━━━━━━━\u001b[0m \u001b[32m60.4/60.4 kB\u001b[0m \u001b[31m1.3 MB/s\u001b[0m eta \u001b[36m0:00:00\u001b[0m\n",
            "\u001b[?25hCollecting joblib<1.4,>=1.2.0 (from pycaret)\n",
            "  Downloading joblib-1.3.2-py3-none-any.whl.metadata (5.4 kB)\n",
            "Requirement already satisfied: scikit-learn>1.4.0 in /usr/local/lib/python3.10/dist-packages (from pycaret) (1.5.2)\n",
            "Collecting pyod>=1.1.3 (from pycaret)\n",
            "  Downloading pyod-2.0.2.tar.gz (165 kB)\n",
            "\u001b[2K     \u001b[90m━━━━━━━━━━━━━━━━━━━━━━━━━━━━━━━━━━━━━━━━\u001b[0m \u001b[32m165.8/165.8 kB\u001b[0m \u001b[31m3.9 MB/s\u001b[0m eta \u001b[36m0:00:00\u001b[0m\n",
            "\u001b[?25h  Preparing metadata (setup.py) ... \u001b[?25l\u001b[?25hdone\n",
            "Requirement already satisfied: imbalanced-learn>=0.12.0 in /usr/local/lib/python3.10/dist-packages (from pycaret) (0.12.4)\n",
            "Collecting category-encoders>=2.4.0 (from pycaret)\n",
            "  Downloading category_encoders-2.6.4-py2.py3-none-any.whl.metadata (8.0 kB)\n",
            "Requirement already satisfied: lightgbm>=3.0.0 in /usr/local/lib/python3.10/dist-packages (from pycaret) (4.5.0)\n",
            "Requirement already satisfied: numba>=0.55.0 in /usr/local/lib/python3.10/dist-packages (from pycaret) (0.60.0)\n",
            "Requirement already satisfied: requests>=2.27.1 in /usr/local/lib/python3.10/dist-packages (from pycaret) (2.32.3)\n",
            "Requirement already satisfied: psutil>=5.9.0 in /usr/local/lib/python3.10/dist-packages (from pycaret) (5.9.5)\n",
            "Requirement already satisfied: markupsafe>=2.0.1 in /usr/local/lib/python3.10/dist-packages (from pycaret) (3.0.2)\n",
            "Requirement already satisfied: importlib-metadata>=4.12.0 in /usr/local/lib/python3.10/dist-packages (from pycaret) (8.5.0)\n",
            "Requirement already satisfied: nbformat>=4.2.0 in /usr/local/lib/python3.10/dist-packages (from pycaret) (5.10.4)\n",
            "Requirement already satisfied: cloudpickle in /usr/local/lib/python3.10/dist-packages (from pycaret) (3.1.0)\n",
            "Collecting deprecation>=2.1.0 (from pycaret)\n",
            "  Downloading deprecation-2.1.0-py2.py3-none-any.whl.metadata (4.6 kB)\n",
            "Collecting xxhash (from pycaret)\n",
            "  Downloading xxhash-3.5.0-cp310-cp310-manylinux_2_17_x86_64.manylinux2014_x86_64.whl.metadata (12 kB)\n",
            "Requirement already satisfied: matplotlib<3.8.0 in /usr/local/lib/python3.10/dist-packages (from pycaret) (3.7.1)\n",
            "Collecting scikit-plot>=0.3.7 (from pycaret)\n",
            "  Downloading scikit_plot-0.3.7-py3-none-any.whl.metadata (7.1 kB)\n",
            "Requirement already satisfied: yellowbrick>=1.4 in /usr/local/lib/python3.10/dist-packages (from pycaret) (1.5)\n",
            "Requirement already satisfied: plotly>=5.14.0 in /usr/local/lib/python3.10/dist-packages (from pycaret) (5.24.1)\n",
            "Collecting kaleido>=0.2.1 (from pycaret)\n",
            "  Downloading kaleido-0.2.1-py2.py3-none-manylinux1_x86_64.whl.metadata (15 kB)\n",
            "Collecting schemdraw==0.15 (from pycaret)\n",
            "  Downloading schemdraw-0.15-py3-none-any.whl.metadata (2.2 kB)\n",
            "Collecting plotly-resampler>=0.8.3.1 (from pycaret)\n",
            "  Downloading plotly_resampler-0.10.0-py3-none-any.whl.metadata (13 kB)\n",
            "Requirement already satisfied: statsmodels>=0.12.1 in /usr/local/lib/python3.10/dist-packages (from pycaret) (0.14.4)\n",
            "Collecting sktime==0.26.0 (from pycaret)\n",
            "  Downloading sktime-0.26.0-py3-none-any.whl.metadata (29 kB)\n",
            "Collecting tbats>=1.1.3 (from pycaret)\n",
            "  Downloading tbats-1.1.3-py3-none-any.whl.metadata (3.8 kB)\n",
            "Collecting pmdarima>=2.0.4 (from pycaret)\n",
            "  Downloading pmdarima-2.0.4-cp310-cp310-manylinux_2_17_x86_64.manylinux2014_x86_64.manylinux_2_28_x86_64.whl.metadata (7.8 kB)\n",
            "Collecting wurlitzer (from pycaret)\n",
            "  Downloading wurlitzer-3.1.1-py3-none-any.whl.metadata (2.5 kB)\n",
            "Requirement already satisfied: packaging in /usr/local/lib/python3.10/dist-packages (from sktime==0.26.0->pycaret) (24.1)\n",
            "Collecting scikit-base<0.8.0 (from sktime==0.26.0->pycaret)\n",
            "  Downloading scikit_base-0.7.8-py3-none-any.whl.metadata (8.8 kB)\n",
            "Collecting scikit-learn>1.4.0 (from pycaret)\n",
            "  Downloading scikit_learn-1.4.2-cp310-cp310-manylinux_2_17_x86_64.manylinux2014_x86_64.whl.metadata (11 kB)\n",
            "Requirement already satisfied: patsy>=0.5.1 in /usr/local/lib/python3.10/dist-packages (from category-encoders>=2.4.0->pycaret) (0.5.6)\n",
            "Requirement already satisfied: threadpoolctl>=2.0.0 in /usr/local/lib/python3.10/dist-packages (from imbalanced-learn>=0.12.0->pycaret) (3.5.0)\n",
            "Requirement already satisfied: zipp>=3.20 in /usr/local/lib/python3.10/dist-packages (from importlib-metadata>=4.12.0->pycaret) (3.20.2)\n",
            "Requirement already satisfied: setuptools>=18.5 in /usr/local/lib/python3.10/dist-packages (from ipython>=5.5.0->pycaret) (75.1.0)\n",
            "Collecting jedi>=0.16 (from ipython>=5.5.0->pycaret)\n",
            "  Downloading jedi-0.19.1-py2.py3-none-any.whl.metadata (22 kB)\n",
            "Requirement already satisfied: decorator in /usr/local/lib/python3.10/dist-packages (from ipython>=5.5.0->pycaret) (4.4.2)\n",
            "Requirement already satisfied: pickleshare in /usr/local/lib/python3.10/dist-packages (from ipython>=5.5.0->pycaret) (0.7.5)\n",
            "Requirement already satisfied: traitlets>=4.2 in /usr/local/lib/python3.10/dist-packages (from ipython>=5.5.0->pycaret) (5.7.1)\n",
            "Requirement already satisfied: prompt-toolkit!=3.0.0,!=3.0.1,<3.1.0,>=2.0.0 in /usr/local/lib/python3.10/dist-packages (from ipython>=5.5.0->pycaret) (3.0.48)\n",
            "Requirement already satisfied: pygments in /usr/local/lib/python3.10/dist-packages (from ipython>=5.5.0->pycaret) (2.18.0)\n",
            "Requirement already satisfied: backcall in /usr/local/lib/python3.10/dist-packages (from ipython>=5.5.0->pycaret) (0.2.0)\n",
            "Requirement already satisfied: matplotlib-inline in /usr/local/lib/python3.10/dist-packages (from ipython>=5.5.0->pycaret) (0.1.7)\n",
            "Requirement already satisfied: pexpect>4.3 in /usr/local/lib/python3.10/dist-packages (from ipython>=5.5.0->pycaret) (4.9.0)\n",
            "Requirement already satisfied: ipykernel>=4.5.1 in /usr/local/lib/python3.10/dist-packages (from ipywidgets>=7.6.5->pycaret) (5.5.6)\n",
            "Requirement already satisfied: ipython-genutils~=0.2.0 in /usr/local/lib/python3.10/dist-packages (from ipywidgets>=7.6.5->pycaret) (0.2.0)\n",
            "Requirement already satisfied: widgetsnbextension~=3.6.0 in /usr/local/lib/python3.10/dist-packages (from ipywidgets>=7.6.5->pycaret) (3.6.10)\n",
            "Requirement already satisfied: jupyterlab-widgets>=1.0.0 in /usr/local/lib/python3.10/dist-packages (from ipywidgets>=7.6.5->pycaret) (3.0.13)\n",
            "Requirement already satisfied: contourpy>=1.0.1 in /usr/local/lib/python3.10/dist-packages (from matplotlib<3.8.0->pycaret) (1.3.0)\n",
            "Requirement already satisfied: cycler>=0.10 in /usr/local/lib/python3.10/dist-packages (from matplotlib<3.8.0->pycaret) (0.12.1)\n",
            "Requirement already satisfied: fonttools>=4.22.0 in /usr/local/lib/python3.10/dist-packages (from matplotlib<3.8.0->pycaret) (4.54.1)\n",
            "Requirement already satisfied: kiwisolver>=1.0.1 in /usr/local/lib/python3.10/dist-packages (from matplotlib<3.8.0->pycaret) (1.4.7)\n",
            "Requirement already satisfied: pillow>=6.2.0 in /usr/local/lib/python3.10/dist-packages (from matplotlib<3.8.0->pycaret) (10.4.0)\n",
            "Requirement already satisfied: pyparsing>=2.3.1 in /usr/local/lib/python3.10/dist-packages (from matplotlib<3.8.0->pycaret) (3.2.0)\n",
            "Requirement already satisfied: python-dateutil>=2.7 in /usr/local/lib/python3.10/dist-packages (from matplotlib<3.8.0->pycaret) (2.8.2)\n",
            "Requirement already satisfied: fastjsonschema>=2.15 in /usr/local/lib/python3.10/dist-packages (from nbformat>=4.2.0->pycaret) (2.20.0)\n",
            "Requirement already satisfied: jsonschema>=2.6 in /usr/local/lib/python3.10/dist-packages (from nbformat>=4.2.0->pycaret) (4.23.0)\n",
            "Requirement already satisfied: jupyter-core!=5.0.*,>=4.12 in /usr/local/lib/python3.10/dist-packages (from nbformat>=4.2.0->pycaret) (5.7.2)\n",
            "Requirement already satisfied: llvmlite<0.44,>=0.43.0dev0 in /usr/local/lib/python3.10/dist-packages (from numba>=0.55.0->pycaret) (0.43.0)\n",
            "Requirement already satisfied: pytz>=2020.1 in /usr/local/lib/python3.10/dist-packages (from pandas<2.2.0->pycaret) (2024.2)\n",
            "Requirement already satisfied: tzdata>=2022.1 in /usr/local/lib/python3.10/dist-packages (from pandas<2.2.0->pycaret) (2024.2)\n",
            "Requirement already satisfied: tenacity>=6.2.0 in /usr/local/lib/python3.10/dist-packages (from plotly>=5.14.0->pycaret) (9.0.0)\n",
            "Collecting dash>=2.9.0 (from plotly-resampler>=0.8.3.1->pycaret)\n",
            "  Downloading dash-2.18.1-py3-none-any.whl.metadata (10 kB)\n",
            "Collecting orjson<4.0.0,>=3.8.0 (from plotly-resampler>=0.8.3.1->pycaret)\n",
            "  Downloading orjson-3.10.10-cp310-cp310-manylinux_2_17_x86_64.manylinux2014_x86_64.whl.metadata (50 kB)\n",
            "\u001b[2K     \u001b[90m━━━━━━━━━━━━━━━━━━━━━━━━━━━━━━━━━━━━━━━━\u001b[0m \u001b[32m50.6/50.6 kB\u001b[0m \u001b[31m355.7 kB/s\u001b[0m eta \u001b[36m0:00:00\u001b[0m\n",
            "\u001b[?25hCollecting tsdownsample>=0.1.3 (from plotly-resampler>=0.8.3.1->pycaret)\n",
            "  Downloading tsdownsample-0.1.3-cp310-cp310-manylinux_2_17_x86_64.manylinux2014_x86_64.whl.metadata (7.9 kB)\n",
            "Requirement already satisfied: Cython!=0.29.18,!=0.29.31,>=0.29 in /usr/local/lib/python3.10/dist-packages (from pmdarima>=2.0.4->pycaret) (3.0.11)\n",
            "Requirement already satisfied: urllib3 in /usr/local/lib/python3.10/dist-packages (from pmdarima>=2.0.4->pycaret) (2.2.3)\n",
            "Requirement already satisfied: charset-normalizer<4,>=2 in /usr/local/lib/python3.10/dist-packages (from requests>=2.27.1->pycaret) (3.4.0)\n",
            "Requirement already satisfied: idna<4,>=2.5 in /usr/local/lib/python3.10/dist-packages (from requests>=2.27.1->pycaret) (3.10)\n",
            "Requirement already satisfied: certifi>=2017.4.17 in /usr/local/lib/python3.10/dist-packages (from requests>=2.27.1->pycaret) (2024.8.30)\n",
            "Requirement already satisfied: Flask<3.1,>=1.0.4 in /usr/local/lib/python3.10/dist-packages (from dash>=2.9.0->plotly-resampler>=0.8.3.1->pycaret) (2.2.5)\n",
            "Requirement already satisfied: Werkzeug<3.1 in /usr/local/lib/python3.10/dist-packages (from dash>=2.9.0->plotly-resampler>=0.8.3.1->pycaret) (3.0.4)\n",
            "Collecting dash-html-components==2.0.0 (from dash>=2.9.0->plotly-resampler>=0.8.3.1->pycaret)\n",
            "  Downloading dash_html_components-2.0.0-py3-none-any.whl.metadata (3.8 kB)\n",
            "Collecting dash-core-components==2.0.0 (from dash>=2.9.0->plotly-resampler>=0.8.3.1->pycaret)\n",
            "  Downloading dash_core_components-2.0.0-py3-none-any.whl.metadata (2.9 kB)\n",
            "Collecting dash-table==5.0.0 (from dash>=2.9.0->plotly-resampler>=0.8.3.1->pycaret)\n",
            "  Downloading dash_table-5.0.0-py3-none-any.whl.metadata (2.4 kB)\n",
            "Requirement already satisfied: typing-extensions>=4.1.1 in /usr/local/lib/python3.10/dist-packages (from dash>=2.9.0->plotly-resampler>=0.8.3.1->pycaret) (4.12.2)\n",
            "Collecting retrying (from dash>=2.9.0->plotly-resampler>=0.8.3.1->pycaret)\n",
            "  Downloading retrying-1.3.4-py3-none-any.whl.metadata (6.9 kB)\n",
            "Requirement already satisfied: nest-asyncio in /usr/local/lib/python3.10/dist-packages (from dash>=2.9.0->plotly-resampler>=0.8.3.1->pycaret) (1.6.0)\n",
            "Requirement already satisfied: jupyter-client in /usr/local/lib/python3.10/dist-packages (from ipykernel>=4.5.1->ipywidgets>=7.6.5->pycaret) (6.1.12)\n",
            "Requirement already satisfied: tornado>=4.2 in /usr/local/lib/python3.10/dist-packages (from ipykernel>=4.5.1->ipywidgets>=7.6.5->pycaret) (6.3.3)\n",
            "Requirement already satisfied: parso<0.9.0,>=0.8.3 in /usr/local/lib/python3.10/dist-packages (from jedi>=0.16->ipython>=5.5.0->pycaret) (0.8.4)\n",
            "Requirement already satisfied: attrs>=22.2.0 in /usr/local/lib/python3.10/dist-packages (from jsonschema>=2.6->nbformat>=4.2.0->pycaret) (24.2.0)\n",
            "Requirement already satisfied: jsonschema-specifications>=2023.03.6 in /usr/local/lib/python3.10/dist-packages (from jsonschema>=2.6->nbformat>=4.2.0->pycaret) (2024.10.1)\n",
            "Requirement already satisfied: referencing>=0.28.4 in /usr/local/lib/python3.10/dist-packages (from jsonschema>=2.6->nbformat>=4.2.0->pycaret) (0.35.1)\n",
            "Requirement already satisfied: rpds-py>=0.7.1 in /usr/local/lib/python3.10/dist-packages (from jsonschema>=2.6->nbformat>=4.2.0->pycaret) (0.20.0)\n",
            "Requirement already satisfied: platformdirs>=2.5 in /usr/local/lib/python3.10/dist-packages (from jupyter-core!=5.0.*,>=4.12->nbformat>=4.2.0->pycaret) (4.3.6)\n",
            "Requirement already satisfied: six in /usr/local/lib/python3.10/dist-packages (from patsy>=0.5.1->category-encoders>=2.4.0->pycaret) (1.16.0)\n",
            "Requirement already satisfied: ptyprocess>=0.5 in /usr/local/lib/python3.10/dist-packages (from pexpect>4.3->ipython>=5.5.0->pycaret) (0.7.0)\n",
            "Requirement already satisfied: wcwidth in /usr/local/lib/python3.10/dist-packages (from prompt-toolkit!=3.0.0,!=3.0.1,<3.1.0,>=2.0.0->ipython>=5.5.0->pycaret) (0.2.13)\n",
            "Requirement already satisfied: notebook>=4.4.1 in /usr/local/lib/python3.10/dist-packages (from widgetsnbextension~=3.6.0->ipywidgets>=7.6.5->pycaret) (6.5.5)\n",
            "Requirement already satisfied: itsdangerous>=2.0 in /usr/local/lib/python3.10/dist-packages (from Flask<3.1,>=1.0.4->dash>=2.9.0->plotly-resampler>=0.8.3.1->pycaret) (2.2.0)\n",
            "Requirement already satisfied: click>=8.0 in /usr/local/lib/python3.10/dist-packages (from Flask<3.1,>=1.0.4->dash>=2.9.0->plotly-resampler>=0.8.3.1->pycaret) (8.1.7)\n",
            "Requirement already satisfied: pyzmq<25,>=17 in /usr/local/lib/python3.10/dist-packages (from notebook>=4.4.1->widgetsnbextension~=3.6.0->ipywidgets>=7.6.5->pycaret) (24.0.1)\n",
            "Requirement already satisfied: argon2-cffi in /usr/local/lib/python3.10/dist-packages (from notebook>=4.4.1->widgetsnbextension~=3.6.0->ipywidgets>=7.6.5->pycaret) (23.1.0)\n",
            "Requirement already satisfied: nbconvert>=5 in /usr/local/lib/python3.10/dist-packages (from notebook>=4.4.1->widgetsnbextension~=3.6.0->ipywidgets>=7.6.5->pycaret) (6.5.4)\n",
            "Requirement already satisfied: Send2Trash>=1.8.0 in /usr/local/lib/python3.10/dist-packages (from notebook>=4.4.1->widgetsnbextension~=3.6.0->ipywidgets>=7.6.5->pycaret) (1.8.3)\n",
            "Requirement already satisfied: terminado>=0.8.3 in /usr/local/lib/python3.10/dist-packages (from notebook>=4.4.1->widgetsnbextension~=3.6.0->ipywidgets>=7.6.5->pycaret) (0.18.1)\n",
            "Requirement already satisfied: prometheus-client in /usr/local/lib/python3.10/dist-packages (from notebook>=4.4.1->widgetsnbextension~=3.6.0->ipywidgets>=7.6.5->pycaret) (0.21.0)\n",
            "Requirement already satisfied: nbclassic>=0.4.7 in /usr/local/lib/python3.10/dist-packages (from notebook>=4.4.1->widgetsnbextension~=3.6.0->ipywidgets>=7.6.5->pycaret) (1.1.0)\n",
            "Requirement already satisfied: notebook-shim>=0.2.3 in /usr/local/lib/python3.10/dist-packages (from nbclassic>=0.4.7->notebook>=4.4.1->widgetsnbextension~=3.6.0->ipywidgets>=7.6.5->pycaret) (0.2.4)\n",
            "Requirement already satisfied: lxml in /usr/local/lib/python3.10/dist-packages (from nbconvert>=5->notebook>=4.4.1->widgetsnbextension~=3.6.0->ipywidgets>=7.6.5->pycaret) (4.9.4)\n",
            "Requirement already satisfied: beautifulsoup4 in /usr/local/lib/python3.10/dist-packages (from nbconvert>=5->notebook>=4.4.1->widgetsnbextension~=3.6.0->ipywidgets>=7.6.5->pycaret) (4.12.3)\n",
            "Requirement already satisfied: bleach in /usr/local/lib/python3.10/dist-packages (from nbconvert>=5->notebook>=4.4.1->widgetsnbextension~=3.6.0->ipywidgets>=7.6.5->pycaret) (6.1.0)\n",
            "Requirement already satisfied: defusedxml in /usr/local/lib/python3.10/dist-packages (from nbconvert>=5->notebook>=4.4.1->widgetsnbextension~=3.6.0->ipywidgets>=7.6.5->pycaret) (0.7.1)\n",
            "Requirement already satisfied: entrypoints>=0.2.2 in /usr/local/lib/python3.10/dist-packages (from nbconvert>=5->notebook>=4.4.1->widgetsnbextension~=3.6.0->ipywidgets>=7.6.5->pycaret) (0.4)\n",
            "Requirement already satisfied: jupyterlab-pygments in /usr/local/lib/python3.10/dist-packages (from nbconvert>=5->notebook>=4.4.1->widgetsnbextension~=3.6.0->ipywidgets>=7.6.5->pycaret) (0.3.0)\n",
            "Requirement already satisfied: mistune<2,>=0.8.1 in /usr/local/lib/python3.10/dist-packages (from nbconvert>=5->notebook>=4.4.1->widgetsnbextension~=3.6.0->ipywidgets>=7.6.5->pycaret) (0.8.4)\n",
            "Requirement already satisfied: nbclient>=0.5.0 in /usr/local/lib/python3.10/dist-packages (from nbconvert>=5->notebook>=4.4.1->widgetsnbextension~=3.6.0->ipywidgets>=7.6.5->pycaret) (0.10.0)\n",
            "Requirement already satisfied: pandocfilters>=1.4.1 in /usr/local/lib/python3.10/dist-packages (from nbconvert>=5->notebook>=4.4.1->widgetsnbextension~=3.6.0->ipywidgets>=7.6.5->pycaret) (1.5.1)\n",
            "Requirement already satisfied: tinycss2 in /usr/local/lib/python3.10/dist-packages (from nbconvert>=5->notebook>=4.4.1->widgetsnbextension~=3.6.0->ipywidgets>=7.6.5->pycaret) (1.3.0)\n",
            "Requirement already satisfied: argon2-cffi-bindings in /usr/local/lib/python3.10/dist-packages (from argon2-cffi->notebook>=4.4.1->widgetsnbextension~=3.6.0->ipywidgets>=7.6.5->pycaret) (21.2.0)\n",
            "Requirement already satisfied: jupyter-server<3,>=1.8 in /usr/local/lib/python3.10/dist-packages (from notebook-shim>=0.2.3->nbclassic>=0.4.7->notebook>=4.4.1->widgetsnbextension~=3.6.0->ipywidgets>=7.6.5->pycaret) (1.24.0)\n",
            "Requirement already satisfied: cffi>=1.0.1 in /usr/local/lib/python3.10/dist-packages (from argon2-cffi-bindings->argon2-cffi->notebook>=4.4.1->widgetsnbextension~=3.6.0->ipywidgets>=7.6.5->pycaret) (1.17.1)\n",
            "Requirement already satisfied: soupsieve>1.2 in /usr/local/lib/python3.10/dist-packages (from beautifulsoup4->nbconvert>=5->notebook>=4.4.1->widgetsnbextension~=3.6.0->ipywidgets>=7.6.5->pycaret) (2.6)\n",
            "Requirement already satisfied: webencodings in /usr/local/lib/python3.10/dist-packages (from bleach->nbconvert>=5->notebook>=4.4.1->widgetsnbextension~=3.6.0->ipywidgets>=7.6.5->pycaret) (0.5.1)\n",
            "Requirement already satisfied: pycparser in /usr/local/lib/python3.10/dist-packages (from cffi>=1.0.1->argon2-cffi-bindings->argon2-cffi->notebook>=4.4.1->widgetsnbextension~=3.6.0->ipywidgets>=7.6.5->pycaret) (2.22)\n",
            "Requirement already satisfied: anyio<4,>=3.1.0 in /usr/local/lib/python3.10/dist-packages (from jupyter-server<3,>=1.8->notebook-shim>=0.2.3->nbclassic>=0.4.7->notebook>=4.4.1->widgetsnbextension~=3.6.0->ipywidgets>=7.6.5->pycaret) (3.7.1)\n",
            "Requirement already satisfied: websocket-client in /usr/local/lib/python3.10/dist-packages (from jupyter-server<3,>=1.8->notebook-shim>=0.2.3->nbclassic>=0.4.7->notebook>=4.4.1->widgetsnbextension~=3.6.0->ipywidgets>=7.6.5->pycaret) (1.8.0)\n",
            "Requirement already satisfied: sniffio>=1.1 in /usr/local/lib/python3.10/dist-packages (from anyio<4,>=3.1.0->jupyter-server<3,>=1.8->notebook-shim>=0.2.3->nbclassic>=0.4.7->notebook>=4.4.1->widgetsnbextension~=3.6.0->ipywidgets>=7.6.5->pycaret) (1.3.1)\n",
            "Requirement already satisfied: exceptiongroup in /usr/local/lib/python3.10/dist-packages (from anyio<4,>=3.1.0->jupyter-server<3,>=1.8->notebook-shim>=0.2.3->nbclassic>=0.4.7->notebook>=4.4.1->widgetsnbextension~=3.6.0->ipywidgets>=7.6.5->pycaret) (1.2.2)\n",
            "Downloading pycaret-3.3.2-py3-none-any.whl (486 kB)\n",
            "\u001b[2K   \u001b[90m━━━━━━━━━━━━━━━━━━━━━━━━━━━━━━━━━━━━━━━━\u001b[0m \u001b[32m486.1/486.1 kB\u001b[0m \u001b[31m11.1 MB/s\u001b[0m eta \u001b[36m0:00:00\u001b[0m\n",
            "\u001b[?25hDownloading schemdraw-0.15-py3-none-any.whl (106 kB)\n",
            "\u001b[2K   \u001b[90m━━━━━━━━━━━━━━━━━━━━━━━━━━━━━━━━━━━━━━━━\u001b[0m \u001b[32m106.8/106.8 kB\u001b[0m \u001b[31m6.7 MB/s\u001b[0m eta \u001b[36m0:00:00\u001b[0m\n",
            "\u001b[?25hDownloading sktime-0.26.0-py3-none-any.whl (21.8 MB)\n",
            "\u001b[2K   \u001b[90m━━━━━━━━━━━━━━━━━━━━━━━━━━━━━━━━━━━━━━━━\u001b[0m \u001b[32m21.8/21.8 MB\u001b[0m \u001b[31m57.7 MB/s\u001b[0m eta \u001b[36m0:00:00\u001b[0m\n",
            "\u001b[?25hDownloading category_encoders-2.6.4-py2.py3-none-any.whl (82 kB)\n",
            "\u001b[2K   \u001b[90m━━━━━━━━━━━━━━━━━━━━━━━━━━━━━━━━━━━━━━━━\u001b[0m \u001b[32m82.0/82.0 kB\u001b[0m \u001b[31m5.1 MB/s\u001b[0m eta \u001b[36m0:00:00\u001b[0m\n",
            "\u001b[?25hDownloading deprecation-2.1.0-py2.py3-none-any.whl (11 kB)\n",
            "Downloading joblib-1.3.2-py3-none-any.whl (302 kB)\n",
            "\u001b[2K   \u001b[90m━━━━━━━━━━━━━━━━━━━━━━━━━━━━━━━━━━━━━━━━\u001b[0m \u001b[32m302.2/302.2 kB\u001b[0m \u001b[31m16.2 MB/s\u001b[0m eta \u001b[36m0:00:00\u001b[0m\n",
            "\u001b[?25hDownloading kaleido-0.2.1-py2.py3-none-manylinux1_x86_64.whl (79.9 MB)\n",
            "\u001b[2K   \u001b[90m━━━━━━━━━━━━━━━━━━━━━━━━━━━━━━━━━━━━━━━━\u001b[0m \u001b[32m79.9/79.9 MB\u001b[0m \u001b[31m9.5 MB/s\u001b[0m eta \u001b[36m0:00:00\u001b[0m\n",
            "\u001b[?25hDownloading pandas-2.1.4-cp310-cp310-manylinux_2_17_x86_64.manylinux2014_x86_64.whl (12.3 MB)\n",
            "\u001b[2K   \u001b[90m━━━━━━━━━━━━━━━━━━━━━━━━━━━━━━━━━━━━━━━━\u001b[0m \u001b[32m12.3/12.3 MB\u001b[0m \u001b[31m67.4 MB/s\u001b[0m eta \u001b[36m0:00:00\u001b[0m\n",
            "\u001b[?25hDownloading plotly_resampler-0.10.0-py3-none-any.whl (80 kB)\n",
            "\u001b[2K   \u001b[90m━━━━━━━━━━━━━━━━━━━━━━━━━━━━━━━━━━━━━━━━\u001b[0m \u001b[32m80.7/80.7 kB\u001b[0m \u001b[31m5.9 MB/s\u001b[0m eta \u001b[36m0:00:00\u001b[0m\n",
            "\u001b[?25hDownloading pmdarima-2.0.4-cp310-cp310-manylinux_2_17_x86_64.manylinux2014_x86_64.manylinux_2_28_x86_64.whl (2.1 MB)\n",
            "\u001b[2K   \u001b[90m━━━━━━━━━━━━━━━━━━━━━━━━━━━━━━━━━━━━━━━━\u001b[0m \u001b[32m2.1/2.1 MB\u001b[0m \u001b[31m57.1 MB/s\u001b[0m eta \u001b[36m0:00:00\u001b[0m\n",
            "\u001b[?25hDownloading scikit_learn-1.4.2-cp310-cp310-manylinux_2_17_x86_64.manylinux2014_x86_64.whl (12.1 MB)\n",
            "\u001b[2K   \u001b[90m━━━━━━━━━━━━━━━━━━━━━━━━━━━━━━━━━━━━━━━━\u001b[0m \u001b[32m12.1/12.1 MB\u001b[0m \u001b[31m67.8 MB/s\u001b[0m eta \u001b[36m0:00:00\u001b[0m\n",
            "\u001b[?25hDownloading scikit_plot-0.3.7-py3-none-any.whl (33 kB)\n",
            "Downloading scipy-1.11.4-cp310-cp310-manylinux_2_17_x86_64.manylinux2014_x86_64.whl (36.4 MB)\n",
            "\u001b[2K   \u001b[90m━━━━━━━━━━━━━━━━━━━━━━━━━━━━━━━━━━━━━━━━\u001b[0m \u001b[32m36.4/36.4 MB\u001b[0m \u001b[31m23.5 MB/s\u001b[0m eta \u001b[36m0:00:00\u001b[0m\n",
            "\u001b[?25hDownloading tbats-1.1.3-py3-none-any.whl (44 kB)\n",
            "\u001b[2K   \u001b[90m━━━━━━━━━━━━━━━━━━━━━━━━━━━━━━━━━━━━━━━━\u001b[0m \u001b[32m44.0/44.0 kB\u001b[0m \u001b[31m1.6 MB/s\u001b[0m eta \u001b[36m0:00:00\u001b[0m\n",
            "\u001b[?25hDownloading wurlitzer-3.1.1-py3-none-any.whl (8.6 kB)\n",
            "Downloading xxhash-3.5.0-cp310-cp310-manylinux_2_17_x86_64.manylinux2014_x86_64.whl (194 kB)\n",
            "\u001b[2K   \u001b[90m━━━━━━━━━━━━━━━━━━━━━━━━━━━━━━━━━━━━━━━━\u001b[0m \u001b[32m194.1/194.1 kB\u001b[0m \u001b[31m9.1 MB/s\u001b[0m eta \u001b[36m0:00:00\u001b[0m\n",
            "\u001b[?25hDownloading dash-2.18.1-py3-none-any.whl (7.5 MB)\n",
            "\u001b[2K   \u001b[90m━━━━━━━━━━━━━━━━━━━━━━━━━━━━━━━━━━━━━━━━\u001b[0m \u001b[32m7.5/7.5 MB\u001b[0m \u001b[31m80.4 MB/s\u001b[0m eta \u001b[36m0:00:00\u001b[0m\n",
            "\u001b[?25hDownloading dash_core_components-2.0.0-py3-none-any.whl (3.8 kB)\n",
            "Downloading dash_html_components-2.0.0-py3-none-any.whl (4.1 kB)\n",
            "Downloading dash_table-5.0.0-py3-none-any.whl (3.9 kB)\n",
            "Downloading jedi-0.19.1-py2.py3-none-any.whl (1.6 MB)\n",
            "\u001b[2K   \u001b[90m━━━━━━━━━━━━━━━━━━━━━━━━━━━━━━━━━━━━━━━━\u001b[0m \u001b[32m1.6/1.6 MB\u001b[0m \u001b[31m56.4 MB/s\u001b[0m eta \u001b[36m0:00:00\u001b[0m\n",
            "\u001b[?25hDownloading orjson-3.10.10-cp310-cp310-manylinux_2_17_x86_64.manylinux2014_x86_64.whl (144 kB)\n",
            "\u001b[2K   \u001b[90m━━━━━━━━━━━━━━━━━━━━━━━━━━━━━━━━━━━━━━━━\u001b[0m \u001b[32m144.5/144.5 kB\u001b[0m \u001b[31m5.5 MB/s\u001b[0m eta \u001b[36m0:00:00\u001b[0m\n",
            "\u001b[?25hDownloading scikit_base-0.7.8-py3-none-any.whl (130 kB)\n",
            "\u001b[2K   \u001b[90m━━━━━━━━━━━━━━━━━━━━━━━━━━━━━━━━━━━━━━━━\u001b[0m \u001b[32m130.1/130.1 kB\u001b[0m \u001b[31m1.8 MB/s\u001b[0m eta \u001b[36m0:00:00\u001b[0m\n",
            "\u001b[?25hDownloading tsdownsample-0.1.3-cp310-cp310-manylinux_2_17_x86_64.manylinux2014_x86_64.whl (2.1 MB)\n",
            "\u001b[2K   \u001b[90m━━━━━━━━━━━━━━━━━━━━━━━━━━━━━━━━━━━━━━━━\u001b[0m \u001b[32m2.1/2.1 MB\u001b[0m \u001b[31m32.0 MB/s\u001b[0m eta \u001b[36m0:00:00\u001b[0m\n",
            "\u001b[?25hDownloading retrying-1.3.4-py3-none-any.whl (11 kB)\n",
            "Building wheels for collected packages: pyod\n",
            "  Building wheel for pyod (setup.py) ... \u001b[?25l\u001b[?25hdone\n",
            "  Created wheel for pyod: filename=pyod-2.0.2-py3-none-any.whl size=198469 sha256=4d18cb564f94c1607dc0dea6a7b418adaec297c20bdcb65f847e65704265fbc2\n",
            "  Stored in directory: /root/.cache/pip/wheels/77/c2/20/34d1f15b41b701ba69f42a32304825810d680754d509f91391\n",
            "Successfully built pyod\n",
            "Installing collected packages: kaleido, dash-table, dash-html-components, dash-core-components, xxhash, wurlitzer, tsdownsample, scipy, scikit-base, schemdraw, retrying, orjson, joblib, jedi, deprecation, scikit-learn, pandas, sktime, scikit-plot, pyod, dash, pmdarima, plotly-resampler, category-encoders, tbats, pycaret\n",
            "  Attempting uninstall: scipy\n",
            "    Found existing installation: scipy 1.13.1\n",
            "    Uninstalling scipy-1.13.1:\n",
            "      Successfully uninstalled scipy-1.13.1\n",
            "  Attempting uninstall: joblib\n",
            "    Found existing installation: joblib 1.4.2\n",
            "    Uninstalling joblib-1.4.2:\n",
            "      Successfully uninstalled joblib-1.4.2\n",
            "  Attempting uninstall: scikit-learn\n",
            "    Found existing installation: scikit-learn 1.5.2\n",
            "    Uninstalling scikit-learn-1.5.2:\n",
            "      Successfully uninstalled scikit-learn-1.5.2\n",
            "  Attempting uninstall: pandas\n",
            "    Found existing installation: pandas 2.2.2\n",
            "    Uninstalling pandas-2.2.2:\n",
            "      Successfully uninstalled pandas-2.2.2\n",
            "\u001b[31mERROR: pip's dependency resolver does not currently take into account all the packages that are installed. This behaviour is the source of the following dependency conflicts.\n",
            "google-colab 1.0.0 requires pandas==2.2.2, but you have pandas 2.1.4 which is incompatible.\u001b[0m\u001b[31m\n",
            "\u001b[0mSuccessfully installed category-encoders-2.6.4 dash-2.18.1 dash-core-components-2.0.0 dash-html-components-2.0.0 dash-table-5.0.0 deprecation-2.1.0 jedi-0.19.1 joblib-1.3.2 kaleido-0.2.1 orjson-3.10.10 pandas-2.1.4 plotly-resampler-0.10.0 pmdarima-2.0.4 pycaret-3.3.2 pyod-2.0.2 retrying-1.3.4 schemdraw-0.15 scikit-base-0.7.8 scikit-learn-1.4.2 scikit-plot-0.3.7 scipy-1.11.4 sktime-0.26.0 tbats-1.1.3 tsdownsample-0.1.3 wurlitzer-3.1.1 xxhash-3.5.0\n"
          ]
        }
      ]
    },
    {
      "cell_type": "code",
      "source": [
        "!pip install catboost"
      ],
      "metadata": {
        "colab": {
          "base_uri": "https://localhost:8080/"
        },
        "id": "HVB4LADgQvZA",
        "outputId": "7c434c88-9610-44c3-8c89-b11127df5b64"
      },
      "execution_count": null,
      "outputs": [
        {
          "output_type": "stream",
          "name": "stdout",
          "text": [
            "Collecting catboost\n",
            "  Downloading catboost-1.2.7-cp310-cp310-manylinux2014_x86_64.whl.metadata (1.2 kB)\n",
            "Requirement already satisfied: graphviz in /usr/local/lib/python3.10/dist-packages (from catboost) (0.20.3)\n",
            "Requirement already satisfied: matplotlib in /usr/local/lib/python3.10/dist-packages (from catboost) (3.8.0)\n",
            "Requirement already satisfied: numpy<2.0,>=1.16.0 in /usr/local/lib/python3.10/dist-packages (from catboost) (1.26.4)\n",
            "Requirement already satisfied: pandas>=0.24 in /usr/local/lib/python3.10/dist-packages (from catboost) (2.2.2)\n",
            "Requirement already satisfied: scipy in /usr/local/lib/python3.10/dist-packages (from catboost) (1.13.1)\n",
            "Requirement already satisfied: plotly in /usr/local/lib/python3.10/dist-packages (from catboost) (5.24.1)\n",
            "Requirement already satisfied: six in /usr/local/lib/python3.10/dist-packages (from catboost) (1.16.0)\n",
            "Requirement already satisfied: python-dateutil>=2.8.2 in /usr/local/lib/python3.10/dist-packages (from pandas>=0.24->catboost) (2.8.2)\n",
            "Requirement already satisfied: pytz>=2020.1 in /usr/local/lib/python3.10/dist-packages (from pandas>=0.24->catboost) (2024.2)\n",
            "Requirement already satisfied: tzdata>=2022.7 in /usr/local/lib/python3.10/dist-packages (from pandas>=0.24->catboost) (2024.2)\n",
            "Requirement already satisfied: contourpy>=1.0.1 in /usr/local/lib/python3.10/dist-packages (from matplotlib->catboost) (1.3.1)\n",
            "Requirement already satisfied: cycler>=0.10 in /usr/local/lib/python3.10/dist-packages (from matplotlib->catboost) (0.12.1)\n",
            "Requirement already satisfied: fonttools>=4.22.0 in /usr/local/lib/python3.10/dist-packages (from matplotlib->catboost) (4.54.1)\n",
            "Requirement already satisfied: kiwisolver>=1.0.1 in /usr/local/lib/python3.10/dist-packages (from matplotlib->catboost) (1.4.7)\n",
            "Requirement already satisfied: packaging>=20.0 in /usr/local/lib/python3.10/dist-packages (from matplotlib->catboost) (24.2)\n",
            "Requirement already satisfied: pillow>=6.2.0 in /usr/local/lib/python3.10/dist-packages (from matplotlib->catboost) (11.0.0)\n",
            "Requirement already satisfied: pyparsing>=2.3.1 in /usr/local/lib/python3.10/dist-packages (from matplotlib->catboost) (3.2.0)\n",
            "Requirement already satisfied: tenacity>=6.2.0 in /usr/local/lib/python3.10/dist-packages (from plotly->catboost) (9.0.0)\n",
            "Downloading catboost-1.2.7-cp310-cp310-manylinux2014_x86_64.whl (98.7 MB)\n",
            "\u001b[2K   \u001b[90m━━━━━━━━━━━━━━━━━━━━━━━━━━━━━━━━━━━━━━━━\u001b[0m \u001b[32m98.7/98.7 MB\u001b[0m \u001b[31m6.7 MB/s\u001b[0m eta \u001b[36m0:00:00\u001b[0m\n",
            "\u001b[?25hInstalling collected packages: catboost\n",
            "Successfully installed catboost-1.2.7\n"
          ]
        }
      ]
    },
    {
      "cell_type": "markdown",
      "source": [
        "#### 1.1  Import Libraries"
      ],
      "metadata": {
        "id": "FYOcuF8hu_FE"
      }
    },
    {
      "cell_type": "code",
      "execution_count": null,
      "metadata": {
        "id": "1h4yNnxltTZt"
      },
      "outputs": [],
      "source": [
        "import pandas as pd\n",
        "import numpy as np\n",
        "import matplotlib.pyplot as plt\n",
        "import seaborn as sns\n",
        "from sklearn.linear_model import LogisticRegression\n",
        "from sklearn.linear_model import RidgeClassifier\n",
        "from sklearn.ensemble import AdaBoostClassifier\n",
        "from sklearn.neighbors import KNeighborsClassifier\n",
        "from sklearn.tree import DecisionTreeClassifier\n",
        "from sklearn.ensemble import ExtraTreesClassifier\n",
        "from sklearn.discriminant_analysis import LinearDiscriminantAnalysis\n",
        "import lightgbm as lgb\n",
        "import xgboost as xgb\n",
        "from sklearn.linear_model import SGDClassifier\n",
        "from sklearn.ensemble import GradientBoostingClassifier\n",
        "from sklearn.ensemble import RandomForestClassifier\n",
        "from sklearn.preprocessing import StandardScaler, OneHotEncoder\n",
        "from sklearn.preprocessing import LabelEncoder\n",
        "from sklearn.metrics import recall_score\n",
        "from sklearn.metrics import accuracy_score, classification_report, confusion_matrix, fbeta_score, ConfusionMatrixDisplay\n",
        "from sklearn.metrics import roc_curve, auc"
      ]
    },
    {
      "cell_type": "markdown",
      "source": [
        "### 2.  Loading dataset"
      ],
      "metadata": {
        "id": "6RzTBBhMvDqM"
      }
    },
    {
      "cell_type": "code",
      "source": [
        "from google.colab import drive\n",
        "drive.mount('/content/drive')\n",
        "import os\n",
        "os.chdir(\"/content/drive/My Drive/ApzivaProjects\")\n",
        "\n",
        "# Importing dataset\n",
        "path = r'term-deposit-marketing-2020.csv'\n",
        "data = pd.read_csv(f\"{path}\")\n",
        "\n",
        "data"
      ],
      "metadata": {
        "colab": {
          "base_uri": "https://localhost:8080/",
          "height": 441
        },
        "id": "asYldxnovF9E",
        "outputId": "d55a1f8a-b30d-4702-a23a-09c792cd550c"
      },
      "execution_count": null,
      "outputs": [
        {
          "output_type": "stream",
          "name": "stdout",
          "text": [
            "Mounted at /content/drive\n"
          ]
        },
        {
          "output_type": "execute_result",
          "data": {
            "text/plain": [
              "       age           job   marital  education default  balance housing loan  \\\n",
              "0       58    management   married   tertiary      no     2143     yes   no   \n",
              "1       44    technician    single  secondary      no       29     yes   no   \n",
              "2       33  entrepreneur   married  secondary      no        2     yes  yes   \n",
              "3       47   blue-collar   married    unknown      no     1506     yes   no   \n",
              "4       33       unknown    single    unknown      no        1      no   no   \n",
              "...    ...           ...       ...        ...     ...      ...     ...  ...   \n",
              "39995   53    technician   married   tertiary      no      395      no   no   \n",
              "39996   30    management    single   tertiary      no     3340      no   no   \n",
              "39997   54         admin  divorced  secondary      no      200      no   no   \n",
              "39998   34    management   married   tertiary      no     1047      no   no   \n",
              "39999   38    technician   married  secondary      no     1442     yes   no   \n",
              "\n",
              "        contact  day month  duration  campaign    y  \n",
              "0       unknown    5   may       261         1   no  \n",
              "1       unknown    5   may       151         1   no  \n",
              "2       unknown    5   may        76         1   no  \n",
              "3       unknown    5   may        92         1   no  \n",
              "4       unknown    5   may       198         1   no  \n",
              "...         ...  ...   ...       ...       ...  ...  \n",
              "39995  cellular    3   jun       107         1   no  \n",
              "39996  cellular    3   jun       238         3  yes  \n",
              "39997  cellular    3   jun       170         1  yes  \n",
              "39998  cellular    3   jun       342         1   no  \n",
              "39999  cellular    3   jun       113         1   no  \n",
              "\n",
              "[40000 rows x 14 columns]"
            ],
            "text/html": [
              "\n",
              "  <div id=\"df-0016afe4-ecc7-410a-8315-38b7b8d4c376\" class=\"colab-df-container\">\n",
              "    <div>\n",
              "<style scoped>\n",
              "    .dataframe tbody tr th:only-of-type {\n",
              "        vertical-align: middle;\n",
              "    }\n",
              "\n",
              "    .dataframe tbody tr th {\n",
              "        vertical-align: top;\n",
              "    }\n",
              "\n",
              "    .dataframe thead th {\n",
              "        text-align: right;\n",
              "    }\n",
              "</style>\n",
              "<table border=\"1\" class=\"dataframe\">\n",
              "  <thead>\n",
              "    <tr style=\"text-align: right;\">\n",
              "      <th></th>\n",
              "      <th>age</th>\n",
              "      <th>job</th>\n",
              "      <th>marital</th>\n",
              "      <th>education</th>\n",
              "      <th>default</th>\n",
              "      <th>balance</th>\n",
              "      <th>housing</th>\n",
              "      <th>loan</th>\n",
              "      <th>contact</th>\n",
              "      <th>day</th>\n",
              "      <th>month</th>\n",
              "      <th>duration</th>\n",
              "      <th>campaign</th>\n",
              "      <th>y</th>\n",
              "    </tr>\n",
              "  </thead>\n",
              "  <tbody>\n",
              "    <tr>\n",
              "      <th>0</th>\n",
              "      <td>58</td>\n",
              "      <td>management</td>\n",
              "      <td>married</td>\n",
              "      <td>tertiary</td>\n",
              "      <td>no</td>\n",
              "      <td>2143</td>\n",
              "      <td>yes</td>\n",
              "      <td>no</td>\n",
              "      <td>unknown</td>\n",
              "      <td>5</td>\n",
              "      <td>may</td>\n",
              "      <td>261</td>\n",
              "      <td>1</td>\n",
              "      <td>no</td>\n",
              "    </tr>\n",
              "    <tr>\n",
              "      <th>1</th>\n",
              "      <td>44</td>\n",
              "      <td>technician</td>\n",
              "      <td>single</td>\n",
              "      <td>secondary</td>\n",
              "      <td>no</td>\n",
              "      <td>29</td>\n",
              "      <td>yes</td>\n",
              "      <td>no</td>\n",
              "      <td>unknown</td>\n",
              "      <td>5</td>\n",
              "      <td>may</td>\n",
              "      <td>151</td>\n",
              "      <td>1</td>\n",
              "      <td>no</td>\n",
              "    </tr>\n",
              "    <tr>\n",
              "      <th>2</th>\n",
              "      <td>33</td>\n",
              "      <td>entrepreneur</td>\n",
              "      <td>married</td>\n",
              "      <td>secondary</td>\n",
              "      <td>no</td>\n",
              "      <td>2</td>\n",
              "      <td>yes</td>\n",
              "      <td>yes</td>\n",
              "      <td>unknown</td>\n",
              "      <td>5</td>\n",
              "      <td>may</td>\n",
              "      <td>76</td>\n",
              "      <td>1</td>\n",
              "      <td>no</td>\n",
              "    </tr>\n",
              "    <tr>\n",
              "      <th>3</th>\n",
              "      <td>47</td>\n",
              "      <td>blue-collar</td>\n",
              "      <td>married</td>\n",
              "      <td>unknown</td>\n",
              "      <td>no</td>\n",
              "      <td>1506</td>\n",
              "      <td>yes</td>\n",
              "      <td>no</td>\n",
              "      <td>unknown</td>\n",
              "      <td>5</td>\n",
              "      <td>may</td>\n",
              "      <td>92</td>\n",
              "      <td>1</td>\n",
              "      <td>no</td>\n",
              "    </tr>\n",
              "    <tr>\n",
              "      <th>4</th>\n",
              "      <td>33</td>\n",
              "      <td>unknown</td>\n",
              "      <td>single</td>\n",
              "      <td>unknown</td>\n",
              "      <td>no</td>\n",
              "      <td>1</td>\n",
              "      <td>no</td>\n",
              "      <td>no</td>\n",
              "      <td>unknown</td>\n",
              "      <td>5</td>\n",
              "      <td>may</td>\n",
              "      <td>198</td>\n",
              "      <td>1</td>\n",
              "      <td>no</td>\n",
              "    </tr>\n",
              "    <tr>\n",
              "      <th>...</th>\n",
              "      <td>...</td>\n",
              "      <td>...</td>\n",
              "      <td>...</td>\n",
              "      <td>...</td>\n",
              "      <td>...</td>\n",
              "      <td>...</td>\n",
              "      <td>...</td>\n",
              "      <td>...</td>\n",
              "      <td>...</td>\n",
              "      <td>...</td>\n",
              "      <td>...</td>\n",
              "      <td>...</td>\n",
              "      <td>...</td>\n",
              "      <td>...</td>\n",
              "    </tr>\n",
              "    <tr>\n",
              "      <th>39995</th>\n",
              "      <td>53</td>\n",
              "      <td>technician</td>\n",
              "      <td>married</td>\n",
              "      <td>tertiary</td>\n",
              "      <td>no</td>\n",
              "      <td>395</td>\n",
              "      <td>no</td>\n",
              "      <td>no</td>\n",
              "      <td>cellular</td>\n",
              "      <td>3</td>\n",
              "      <td>jun</td>\n",
              "      <td>107</td>\n",
              "      <td>1</td>\n",
              "      <td>no</td>\n",
              "    </tr>\n",
              "    <tr>\n",
              "      <th>39996</th>\n",
              "      <td>30</td>\n",
              "      <td>management</td>\n",
              "      <td>single</td>\n",
              "      <td>tertiary</td>\n",
              "      <td>no</td>\n",
              "      <td>3340</td>\n",
              "      <td>no</td>\n",
              "      <td>no</td>\n",
              "      <td>cellular</td>\n",
              "      <td>3</td>\n",
              "      <td>jun</td>\n",
              "      <td>238</td>\n",
              "      <td>3</td>\n",
              "      <td>yes</td>\n",
              "    </tr>\n",
              "    <tr>\n",
              "      <th>39997</th>\n",
              "      <td>54</td>\n",
              "      <td>admin</td>\n",
              "      <td>divorced</td>\n",
              "      <td>secondary</td>\n",
              "      <td>no</td>\n",
              "      <td>200</td>\n",
              "      <td>no</td>\n",
              "      <td>no</td>\n",
              "      <td>cellular</td>\n",
              "      <td>3</td>\n",
              "      <td>jun</td>\n",
              "      <td>170</td>\n",
              "      <td>1</td>\n",
              "      <td>yes</td>\n",
              "    </tr>\n",
              "    <tr>\n",
              "      <th>39998</th>\n",
              "      <td>34</td>\n",
              "      <td>management</td>\n",
              "      <td>married</td>\n",
              "      <td>tertiary</td>\n",
              "      <td>no</td>\n",
              "      <td>1047</td>\n",
              "      <td>no</td>\n",
              "      <td>no</td>\n",
              "      <td>cellular</td>\n",
              "      <td>3</td>\n",
              "      <td>jun</td>\n",
              "      <td>342</td>\n",
              "      <td>1</td>\n",
              "      <td>no</td>\n",
              "    </tr>\n",
              "    <tr>\n",
              "      <th>39999</th>\n",
              "      <td>38</td>\n",
              "      <td>technician</td>\n",
              "      <td>married</td>\n",
              "      <td>secondary</td>\n",
              "      <td>no</td>\n",
              "      <td>1442</td>\n",
              "      <td>yes</td>\n",
              "      <td>no</td>\n",
              "      <td>cellular</td>\n",
              "      <td>3</td>\n",
              "      <td>jun</td>\n",
              "      <td>113</td>\n",
              "      <td>1</td>\n",
              "      <td>no</td>\n",
              "    </tr>\n",
              "  </tbody>\n",
              "</table>\n",
              "<p>40000 rows × 14 columns</p>\n",
              "</div>\n",
              "    <div class=\"colab-df-buttons\">\n",
              "\n",
              "  <div class=\"colab-df-container\">\n",
              "    <button class=\"colab-df-convert\" onclick=\"convertToInteractive('df-0016afe4-ecc7-410a-8315-38b7b8d4c376')\"\n",
              "            title=\"Convert this dataframe to an interactive table.\"\n",
              "            style=\"display:none;\">\n",
              "\n",
              "  <svg xmlns=\"http://www.w3.org/2000/svg\" height=\"24px\" viewBox=\"0 -960 960 960\">\n",
              "    <path d=\"M120-120v-720h720v720H120Zm60-500h600v-160H180v160Zm220 220h160v-160H400v160Zm0 220h160v-160H400v160ZM180-400h160v-160H180v160Zm440 0h160v-160H620v160ZM180-180h160v-160H180v160Zm440 0h160v-160H620v160Z\"/>\n",
              "  </svg>\n",
              "    </button>\n",
              "\n",
              "  <style>\n",
              "    .colab-df-container {\n",
              "      display:flex;\n",
              "      gap: 12px;\n",
              "    }\n",
              "\n",
              "    .colab-df-convert {\n",
              "      background-color: #E8F0FE;\n",
              "      border: none;\n",
              "      border-radius: 50%;\n",
              "      cursor: pointer;\n",
              "      display: none;\n",
              "      fill: #1967D2;\n",
              "      height: 32px;\n",
              "      padding: 0 0 0 0;\n",
              "      width: 32px;\n",
              "    }\n",
              "\n",
              "    .colab-df-convert:hover {\n",
              "      background-color: #E2EBFA;\n",
              "      box-shadow: 0px 1px 2px rgba(60, 64, 67, 0.3), 0px 1px 3px 1px rgba(60, 64, 67, 0.15);\n",
              "      fill: #174EA6;\n",
              "    }\n",
              "\n",
              "    .colab-df-buttons div {\n",
              "      margin-bottom: 4px;\n",
              "    }\n",
              "\n",
              "    [theme=dark] .colab-df-convert {\n",
              "      background-color: #3B4455;\n",
              "      fill: #D2E3FC;\n",
              "    }\n",
              "\n",
              "    [theme=dark] .colab-df-convert:hover {\n",
              "      background-color: #434B5C;\n",
              "      box-shadow: 0px 1px 3px 1px rgba(0, 0, 0, 0.15);\n",
              "      filter: drop-shadow(0px 1px 2px rgba(0, 0, 0, 0.3));\n",
              "      fill: #FFFFFF;\n",
              "    }\n",
              "  </style>\n",
              "\n",
              "    <script>\n",
              "      const buttonEl =\n",
              "        document.querySelector('#df-0016afe4-ecc7-410a-8315-38b7b8d4c376 button.colab-df-convert');\n",
              "      buttonEl.style.display =\n",
              "        google.colab.kernel.accessAllowed ? 'block' : 'none';\n",
              "\n",
              "      async function convertToInteractive(key) {\n",
              "        const element = document.querySelector('#df-0016afe4-ecc7-410a-8315-38b7b8d4c376');\n",
              "        const dataTable =\n",
              "          await google.colab.kernel.invokeFunction('convertToInteractive',\n",
              "                                                    [key], {});\n",
              "        if (!dataTable) return;\n",
              "\n",
              "        const docLinkHtml = 'Like what you see? Visit the ' +\n",
              "          '<a target=\"_blank\" href=https://colab.research.google.com/notebooks/data_table.ipynb>data table notebook</a>'\n",
              "          + ' to learn more about interactive tables.';\n",
              "        element.innerHTML = '';\n",
              "        dataTable['output_type'] = 'display_data';\n",
              "        await google.colab.output.renderOutput(dataTable, element);\n",
              "        const docLink = document.createElement('div');\n",
              "        docLink.innerHTML = docLinkHtml;\n",
              "        element.appendChild(docLink);\n",
              "      }\n",
              "    </script>\n",
              "  </div>\n",
              "\n",
              "\n",
              "<div id=\"df-06a14482-7096-43f2-a496-e99dbb66b8f9\">\n",
              "  <button class=\"colab-df-quickchart\" onclick=\"quickchart('df-06a14482-7096-43f2-a496-e99dbb66b8f9')\"\n",
              "            title=\"Suggest charts\"\n",
              "            style=\"display:none;\">\n",
              "\n",
              "<svg xmlns=\"http://www.w3.org/2000/svg\" height=\"24px\"viewBox=\"0 0 24 24\"\n",
              "     width=\"24px\">\n",
              "    <g>\n",
              "        <path d=\"M19 3H5c-1.1 0-2 .9-2 2v14c0 1.1.9 2 2 2h14c1.1 0 2-.9 2-2V5c0-1.1-.9-2-2-2zM9 17H7v-7h2v7zm4 0h-2V7h2v10zm4 0h-2v-4h2v4z\"/>\n",
              "    </g>\n",
              "</svg>\n",
              "  </button>\n",
              "\n",
              "<style>\n",
              "  .colab-df-quickchart {\n",
              "      --bg-color: #E8F0FE;\n",
              "      --fill-color: #1967D2;\n",
              "      --hover-bg-color: #E2EBFA;\n",
              "      --hover-fill-color: #174EA6;\n",
              "      --disabled-fill-color: #AAA;\n",
              "      --disabled-bg-color: #DDD;\n",
              "  }\n",
              "\n",
              "  [theme=dark] .colab-df-quickchart {\n",
              "      --bg-color: #3B4455;\n",
              "      --fill-color: #D2E3FC;\n",
              "      --hover-bg-color: #434B5C;\n",
              "      --hover-fill-color: #FFFFFF;\n",
              "      --disabled-bg-color: #3B4455;\n",
              "      --disabled-fill-color: #666;\n",
              "  }\n",
              "\n",
              "  .colab-df-quickchart {\n",
              "    background-color: var(--bg-color);\n",
              "    border: none;\n",
              "    border-radius: 50%;\n",
              "    cursor: pointer;\n",
              "    display: none;\n",
              "    fill: var(--fill-color);\n",
              "    height: 32px;\n",
              "    padding: 0;\n",
              "    width: 32px;\n",
              "  }\n",
              "\n",
              "  .colab-df-quickchart:hover {\n",
              "    background-color: var(--hover-bg-color);\n",
              "    box-shadow: 0 1px 2px rgba(60, 64, 67, 0.3), 0 1px 3px 1px rgba(60, 64, 67, 0.15);\n",
              "    fill: var(--button-hover-fill-color);\n",
              "  }\n",
              "\n",
              "  .colab-df-quickchart-complete:disabled,\n",
              "  .colab-df-quickchart-complete:disabled:hover {\n",
              "    background-color: var(--disabled-bg-color);\n",
              "    fill: var(--disabled-fill-color);\n",
              "    box-shadow: none;\n",
              "  }\n",
              "\n",
              "  .colab-df-spinner {\n",
              "    border: 2px solid var(--fill-color);\n",
              "    border-color: transparent;\n",
              "    border-bottom-color: var(--fill-color);\n",
              "    animation:\n",
              "      spin 1s steps(1) infinite;\n",
              "  }\n",
              "\n",
              "  @keyframes spin {\n",
              "    0% {\n",
              "      border-color: transparent;\n",
              "      border-bottom-color: var(--fill-color);\n",
              "      border-left-color: var(--fill-color);\n",
              "    }\n",
              "    20% {\n",
              "      border-color: transparent;\n",
              "      border-left-color: var(--fill-color);\n",
              "      border-top-color: var(--fill-color);\n",
              "    }\n",
              "    30% {\n",
              "      border-color: transparent;\n",
              "      border-left-color: var(--fill-color);\n",
              "      border-top-color: var(--fill-color);\n",
              "      border-right-color: var(--fill-color);\n",
              "    }\n",
              "    40% {\n",
              "      border-color: transparent;\n",
              "      border-right-color: var(--fill-color);\n",
              "      border-top-color: var(--fill-color);\n",
              "    }\n",
              "    60% {\n",
              "      border-color: transparent;\n",
              "      border-right-color: var(--fill-color);\n",
              "    }\n",
              "    80% {\n",
              "      border-color: transparent;\n",
              "      border-right-color: var(--fill-color);\n",
              "      border-bottom-color: var(--fill-color);\n",
              "    }\n",
              "    90% {\n",
              "      border-color: transparent;\n",
              "      border-bottom-color: var(--fill-color);\n",
              "    }\n",
              "  }\n",
              "</style>\n",
              "\n",
              "  <script>\n",
              "    async function quickchart(key) {\n",
              "      const quickchartButtonEl =\n",
              "        document.querySelector('#' + key + ' button');\n",
              "      quickchartButtonEl.disabled = true;  // To prevent multiple clicks.\n",
              "      quickchartButtonEl.classList.add('colab-df-spinner');\n",
              "      try {\n",
              "        const charts = await google.colab.kernel.invokeFunction(\n",
              "            'suggestCharts', [key], {});\n",
              "      } catch (error) {\n",
              "        console.error('Error during call to suggestCharts:', error);\n",
              "      }\n",
              "      quickchartButtonEl.classList.remove('colab-df-spinner');\n",
              "      quickchartButtonEl.classList.add('colab-df-quickchart-complete');\n",
              "    }\n",
              "    (() => {\n",
              "      let quickchartButtonEl =\n",
              "        document.querySelector('#df-06a14482-7096-43f2-a496-e99dbb66b8f9 button');\n",
              "      quickchartButtonEl.style.display =\n",
              "        google.colab.kernel.accessAllowed ? 'block' : 'none';\n",
              "    })();\n",
              "  </script>\n",
              "</div>\n",
              "\n",
              "  <div id=\"id_b9d943eb-8185-4f76-9b82-5339a72f7bba\">\n",
              "    <style>\n",
              "      .colab-df-generate {\n",
              "        background-color: #E8F0FE;\n",
              "        border: none;\n",
              "        border-radius: 50%;\n",
              "        cursor: pointer;\n",
              "        display: none;\n",
              "        fill: #1967D2;\n",
              "        height: 32px;\n",
              "        padding: 0 0 0 0;\n",
              "        width: 32px;\n",
              "      }\n",
              "\n",
              "      .colab-df-generate:hover {\n",
              "        background-color: #E2EBFA;\n",
              "        box-shadow: 0px 1px 2px rgba(60, 64, 67, 0.3), 0px 1px 3px 1px rgba(60, 64, 67, 0.15);\n",
              "        fill: #174EA6;\n",
              "      }\n",
              "\n",
              "      [theme=dark] .colab-df-generate {\n",
              "        background-color: #3B4455;\n",
              "        fill: #D2E3FC;\n",
              "      }\n",
              "\n",
              "      [theme=dark] .colab-df-generate:hover {\n",
              "        background-color: #434B5C;\n",
              "        box-shadow: 0px 1px 3px 1px rgba(0, 0, 0, 0.15);\n",
              "        filter: drop-shadow(0px 1px 2px rgba(0, 0, 0, 0.3));\n",
              "        fill: #FFFFFF;\n",
              "      }\n",
              "    </style>\n",
              "    <button class=\"colab-df-generate\" onclick=\"generateWithVariable('data')\"\n",
              "            title=\"Generate code using this dataframe.\"\n",
              "            style=\"display:none;\">\n",
              "\n",
              "  <svg xmlns=\"http://www.w3.org/2000/svg\" height=\"24px\"viewBox=\"0 0 24 24\"\n",
              "       width=\"24px\">\n",
              "    <path d=\"M7,19H8.4L18.45,9,17,7.55,7,17.6ZM5,21V16.75L18.45,3.32a2,2,0,0,1,2.83,0l1.4,1.43a1.91,1.91,0,0,1,.58,1.4,1.91,1.91,0,0,1-.58,1.4L9.25,21ZM18.45,9,17,7.55Zm-12,3A5.31,5.31,0,0,0,4.9,8.1,5.31,5.31,0,0,0,1,6.5,5.31,5.31,0,0,0,4.9,4.9,5.31,5.31,0,0,0,6.5,1,5.31,5.31,0,0,0,8.1,4.9,5.31,5.31,0,0,0,12,6.5,5.46,5.46,0,0,0,6.5,12Z\"/>\n",
              "  </svg>\n",
              "    </button>\n",
              "    <script>\n",
              "      (() => {\n",
              "      const buttonEl =\n",
              "        document.querySelector('#id_b9d943eb-8185-4f76-9b82-5339a72f7bba button.colab-df-generate');\n",
              "      buttonEl.style.display =\n",
              "        google.colab.kernel.accessAllowed ? 'block' : 'none';\n",
              "\n",
              "      buttonEl.onclick = () => {\n",
              "        google.colab.notebook.generateWithVariable('data');\n",
              "      }\n",
              "      })();\n",
              "    </script>\n",
              "  </div>\n",
              "\n",
              "    </div>\n",
              "  </div>\n"
            ],
            "application/vnd.google.colaboratory.intrinsic+json": {
              "type": "dataframe",
              "variable_name": "data",
              "summary": "{\n  \"name\": \"data\",\n  \"rows\": 40000,\n  \"fields\": [\n    {\n      \"column\": \"age\",\n      \"properties\": {\n        \"dtype\": \"number\",\n        \"std\": 9,\n        \"min\": 19,\n        \"max\": 95,\n        \"num_unique_values\": 70,\n        \"samples\": [\n          36,\n          58,\n          68\n        ],\n        \"semantic_type\": \"\",\n        \"description\": \"\"\n      }\n    },\n    {\n      \"column\": \"job\",\n      \"properties\": {\n        \"dtype\": \"category\",\n        \"num_unique_values\": 12,\n        \"samples\": [\n          \"housemaid\",\n          \"unemployed\",\n          \"management\"\n        ],\n        \"semantic_type\": \"\",\n        \"description\": \"\"\n      }\n    },\n    {\n      \"column\": \"marital\",\n      \"properties\": {\n        \"dtype\": \"category\",\n        \"num_unique_values\": 3,\n        \"samples\": [\n          \"married\",\n          \"single\",\n          \"divorced\"\n        ],\n        \"semantic_type\": \"\",\n        \"description\": \"\"\n      }\n    },\n    {\n      \"column\": \"education\",\n      \"properties\": {\n        \"dtype\": \"category\",\n        \"num_unique_values\": 4,\n        \"samples\": [\n          \"secondary\",\n          \"primary\",\n          \"tertiary\"\n        ],\n        \"semantic_type\": \"\",\n        \"description\": \"\"\n      }\n    },\n    {\n      \"column\": \"default\",\n      \"properties\": {\n        \"dtype\": \"category\",\n        \"num_unique_values\": 2,\n        \"samples\": [\n          \"yes\",\n          \"no\"\n        ],\n        \"semantic_type\": \"\",\n        \"description\": \"\"\n      }\n    },\n    {\n      \"column\": \"balance\",\n      \"properties\": {\n        \"dtype\": \"number\",\n        \"std\": 2903,\n        \"min\": -8019,\n        \"max\": 102127,\n        \"num_unique_values\": 6849,\n        \"samples\": [\n          13711,\n          5745\n        ],\n        \"semantic_type\": \"\",\n        \"description\": \"\"\n      }\n    },\n    {\n      \"column\": \"housing\",\n      \"properties\": {\n        \"dtype\": \"category\",\n        \"num_unique_values\": 2,\n        \"samples\": [\n          \"no\",\n          \"yes\"\n        ],\n        \"semantic_type\": \"\",\n        \"description\": \"\"\n      }\n    },\n    {\n      \"column\": \"loan\",\n      \"properties\": {\n        \"dtype\": \"category\",\n        \"num_unique_values\": 2,\n        \"samples\": [\n          \"yes\",\n          \"no\"\n        ],\n        \"semantic_type\": \"\",\n        \"description\": \"\"\n      }\n    },\n    {\n      \"column\": \"contact\",\n      \"properties\": {\n        \"dtype\": \"category\",\n        \"num_unique_values\": 3,\n        \"samples\": [\n          \"unknown\",\n          \"cellular\"\n        ],\n        \"semantic_type\": \"\",\n        \"description\": \"\"\n      }\n    },\n    {\n      \"column\": \"day\",\n      \"properties\": {\n        \"dtype\": \"number\",\n        \"std\": 8,\n        \"min\": 1,\n        \"max\": 31,\n        \"num_unique_values\": 31,\n        \"samples\": [\n          1,\n          27\n        ],\n        \"semantic_type\": \"\",\n        \"description\": \"\"\n      }\n    },\n    {\n      \"column\": \"month\",\n      \"properties\": {\n        \"dtype\": \"category\",\n        \"num_unique_values\": 11,\n        \"samples\": [\n          \"nov\",\n          \"may\"\n        ],\n        \"semantic_type\": \"\",\n        \"description\": \"\"\n      }\n    },\n    {\n      \"column\": \"duration\",\n      \"properties\": {\n        \"dtype\": \"number\",\n        \"std\": 259,\n        \"min\": 0,\n        \"max\": 4918,\n        \"num_unique_values\": 1535,\n        \"samples\": [\n          856,\n          1467\n        ],\n        \"semantic_type\": \"\",\n        \"description\": \"\"\n      }\n    },\n    {\n      \"column\": \"campaign\",\n      \"properties\": {\n        \"dtype\": \"number\",\n        \"std\": 3,\n        \"min\": 1,\n        \"max\": 63,\n        \"num_unique_values\": 48,\n        \"samples\": [\n          41,\n          27\n        ],\n        \"semantic_type\": \"\",\n        \"description\": \"\"\n      }\n    },\n    {\n      \"column\": \"y\",\n      \"properties\": {\n        \"dtype\": \"category\",\n        \"num_unique_values\": 2,\n        \"samples\": [\n          \"yes\",\n          \"no\"\n        ],\n        \"semantic_type\": \"\",\n        \"description\": \"\"\n      }\n    }\n  ]\n}"
            }
          },
          "metadata": {},
          "execution_count": 4
        }
      ]
    },
    {
      "cell_type": "markdown",
      "source": [
        "##### Count of Yes and No before removing outliers"
      ],
      "metadata": {
        "id": "ShXgMSAA1kc7"
      }
    },
    {
      "cell_type": "code",
      "source": [
        "# Specify the column name\n",
        "column_name = 'y'\n",
        "\n",
        "# Get the value counts and calculate percentages\n",
        "value_counts = data[column_name].value_counts()\n",
        "total_count = value_counts.sum()\n",
        "percentages = (value_counts / total_count) * 100\n",
        "\n",
        "# Print the count and percentage for each category\n",
        "print(\"Category Counts and Percentages:\")\n",
        "for category, count in value_counts.items():\n",
        "    percentage = (count / total_count) * 100\n",
        "    print(f\"Category: {category}, Count: {count}, Percentage: {percentage:.2f}%\")"
      ],
      "metadata": {
        "colab": {
          "base_uri": "https://localhost:8080/"
        },
        "id": "RKBg1gjC1j7P",
        "outputId": "4c395a23-2b62-4b55-f5fe-7ea64ca92b6f"
      },
      "execution_count": null,
      "outputs": [
        {
          "output_type": "stream",
          "name": "stdout",
          "text": [
            "Category Counts and Percentages:\n",
            "Category: no, Count: 37104, Percentage: 92.76%\n",
            "Category: yes, Count: 2896, Percentage: 7.24%\n"
          ]
        }
      ]
    },
    {
      "cell_type": "code",
      "source": [
        "df1 = data"
      ],
      "metadata": {
        "id": "29uMVchi7V3B"
      },
      "execution_count": null,
      "outputs": []
    },
    {
      "cell_type": "markdown",
      "source": [
        "### 3.  Modelling"
      ],
      "metadata": {
        "id": "RRV0L2mJ3u9m"
      }
    },
    {
      "cell_type": "markdown",
      "source": [
        "#### 3.1  Splitting and Training dataset"
      ],
      "metadata": {
        "id": "wK2ZwiPt3wHs"
      }
    },
    {
      "cell_type": "code",
      "source": [
        "from sklearn.model_selection import train_test_split\n",
        "import random\n",
        "seed = random.randint(1000,9999)\n",
        "#seed = 4114  3453\n",
        "# Assign the seed after experimenting\n",
        "print(seed)\n",
        "\n",
        "train, test = train_test_split(df1, test_size=0.2, random_state=seed)\n",
        "#train, val = train_test_split(train, test_size=0.2, random_state=seed)\n",
        "X_train = train.drop(columns=['y'])\n",
        "y_train = train['y']\n",
        "\n",
        "#X_val = val.drop(columns=['Y'])\n",
        "#y_val = val['Y']\n",
        "\n",
        "X_test = test.drop(columns=['y'])\n",
        "y_test = test['y']\n",
        "\n",
        "print(f\"Training set has {len(X_train)} samples\")\n",
        "print(f\"Training set has {len(y_train)} samples\")\n",
        "#print(f\"Validation set has {len(X_val)} samples\")\n",
        "#print(f\"Validation set has {len(y_val)} samples\")\n",
        "print(f\"Test set has {len(X_test)} samples\")\n",
        "print(f\"Test set has {len(y_test)} samples\")"
      ],
      "metadata": {
        "colab": {
          "base_uri": "https://localhost:8080/"
        },
        "id": "NWQSCugk3wjo",
        "outputId": "29e5b114-f8b7-4080-f0ac-6bb285ac56fc"
      },
      "execution_count": null,
      "outputs": [
        {
          "output_type": "stream",
          "name": "stdout",
          "text": [
            "4263\n",
            "Training set has 32000 samples\n",
            "Training set has 32000 samples\n",
            "Test set has 8000 samples\n",
            "Test set has 8000 samples\n"
          ]
        }
      ]
    },
    {
      "cell_type": "markdown",
      "source": [
        "##### Pycaret Algorithm"
      ],
      "metadata": {
        "id": "ZcEuDMBz4Ke9"
      }
    },
    {
      "cell_type": "code",
      "source": [
        "from pycaret.classification import *\n",
        "\n",
        "# Initialize the PyCaret environment\n",
        "# Specify your target variable (output variable)\n",
        "clf_setup = setup(df1, target='y', session_id=seed)\n",
        "\n",
        "# Compare different models\n",
        "best_model = compare_models()\n",
        "\n",
        "# Create and evaluate a specific model (e.g., Logistic Regression)\n",
        "lr_model = create_model('lr')\n",
        "evaluate_model(lr_model)\n",
        "\n",
        "# Tune hyperparameters for the best model\n",
        "tuned_model = tune_model(best_model)\n",
        "\n",
        "# Finalize the model\n",
        "final_model = finalize_model(tuned_model)\n",
        "\n",
        "predictions = predict_model(final_model, data= df1)\n",
        "\n",
        "# Save the model for future use\n",
        "save_model(final_model, 'final_model')"
      ],
      "metadata": {
        "id": "XKZGFjmc4IyY",
        "colab": {
          "base_uri": "https://localhost:8080/",
          "height": 1000,
          "referenced_widgets": [
            "c12fc6b9f70a40d4a4d5c4f4d8017de8",
            "c4357b9ede3e4a38b3e13d5caf423e91",
            "ce7769a6904244a4a84f59d984566b8d",
            "cc7b5072ed5241e0862a4d22a1f77a4a",
            "3014fd4e77ab4145b21511bebc55f282",
            "87684130b459435ea36c1e589228a5cd",
            "50cca39df5b94d5ea6d05e07a2c14d72",
            "fd8202f3e8e9488fb0f3a26898b0ef4f",
            "8387714de55b43e6b68e37414397d41b",
            "d6cb847d969b49bfae72acb1685b377b",
            "f4ec5e26abc947559ce5a9aa823a6065",
            "21a26424bf4b4c5f802063fa2b6eb286",
            "66c42d57f867452e9994e69b88ca0ce2",
            "842061b389364864be2d6bf4bca4b2b4",
            "0beab3f17e38459aa2ec8693d5d5e7c1",
            "055ef259567040b89ab03968a5f73fe0",
            "0faf6924c47347ca850961e4faf8209c",
            "530496b96d4f4ee2a1ff17a694e77479",
            "3d9e8775780d431ba82f92338e66de46",
            "db091573e5a1465f94d70c49678debab",
            "a3d27abc260247049c96aac131d943d7",
            "8a07d76dfba9410b996eeb0001aa4416",
            "961bb647be25433d8ae9924c83c79724",
            "571148e113fd46b1bdcce963414caebe",
            "fedaa98dd0cf47a1b896341c73f29c69",
            "96fe2827d7c148c19e4f92faf76cc945",
            "68980ec20a5e4c67b2f83d9d7aef8a1f",
            "a60681e0335c4a5abbb5d242909078de",
            "77556f4e05d94f06941b0235f905778e",
            "f2c93fdc991e48d6a1542c7ad12c8a48",
            "c1a74aa51df64b268f6c8a0bf5b00871",
            "150fb8713b554bc98d17e376f67a6487",
            "b526eb41884148738bd55d0bfbdd4738",
            "55616463066346e48b7929b24c16c4b9",
            "5d2e0bfcafc24825b9add390d8f6cedc",
            "d4a7436a795b4239a30d03ee828116b9",
            "f261ca81c9724b398b295bdc9ebd1652",
            "ff31ad3793d64476847f30f8fcbe83a8",
            "2e98a3f122a3496fa931d7b67096a7c9",
            "2579942d07fa4c21aa419d9670f8b1d6"
          ]
        },
        "outputId": "bb075796-4b74-4fc0-c004-d98fb26f285c"
      },
      "execution_count": null,
      "outputs": [
        {
          "output_type": "display_data",
          "data": {
            "text/plain": [
              "<pandas.io.formats.style.Styler at 0x7e54142c26e0>"
            ],
            "text/html": [
              "<style type=\"text/css\">\n",
              "#T_60188_row10_col1 {\n",
              "  background-color: lightgreen;\n",
              "}\n",
              "</style>\n",
              "<table id=\"T_60188\" class=\"dataframe\">\n",
              "  <thead>\n",
              "    <tr>\n",
              "      <th class=\"blank level0\" >&nbsp;</th>\n",
              "      <th id=\"T_60188_level0_col0\" class=\"col_heading level0 col0\" >Description</th>\n",
              "      <th id=\"T_60188_level0_col1\" class=\"col_heading level0 col1\" >Value</th>\n",
              "    </tr>\n",
              "  </thead>\n",
              "  <tbody>\n",
              "    <tr>\n",
              "      <th id=\"T_60188_level0_row0\" class=\"row_heading level0 row0\" >0</th>\n",
              "      <td id=\"T_60188_row0_col0\" class=\"data row0 col0\" >Session id</td>\n",
              "      <td id=\"T_60188_row0_col1\" class=\"data row0 col1\" >8968</td>\n",
              "    </tr>\n",
              "    <tr>\n",
              "      <th id=\"T_60188_level0_row1\" class=\"row_heading level0 row1\" >1</th>\n",
              "      <td id=\"T_60188_row1_col0\" class=\"data row1 col0\" >Target</td>\n",
              "      <td id=\"T_60188_row1_col1\" class=\"data row1 col1\" >y</td>\n",
              "    </tr>\n",
              "    <tr>\n",
              "      <th id=\"T_60188_level0_row2\" class=\"row_heading level0 row2\" >2</th>\n",
              "      <td id=\"T_60188_row2_col0\" class=\"data row2 col0\" >Target type</td>\n",
              "      <td id=\"T_60188_row2_col1\" class=\"data row2 col1\" >Binary</td>\n",
              "    </tr>\n",
              "    <tr>\n",
              "      <th id=\"T_60188_level0_row3\" class=\"row_heading level0 row3\" >3</th>\n",
              "      <td id=\"T_60188_row3_col0\" class=\"data row3 col0\" >Target mapping</td>\n",
              "      <td id=\"T_60188_row3_col1\" class=\"data row3 col1\" >no: 0, yes: 1</td>\n",
              "    </tr>\n",
              "    <tr>\n",
              "      <th id=\"T_60188_level0_row4\" class=\"row_heading level0 row4\" >4</th>\n",
              "      <td id=\"T_60188_row4_col0\" class=\"data row4 col0\" >Original data shape</td>\n",
              "      <td id=\"T_60188_row4_col1\" class=\"data row4 col1\" >(38995, 14)</td>\n",
              "    </tr>\n",
              "    <tr>\n",
              "      <th id=\"T_60188_level0_row5\" class=\"row_heading level0 row5\" >5</th>\n",
              "      <td id=\"T_60188_row5_col0\" class=\"data row5 col0\" >Transformed data shape</td>\n",
              "      <td id=\"T_60188_row5_col1\" class=\"data row5 col1\" >(38995, 42)</td>\n",
              "    </tr>\n",
              "    <tr>\n",
              "      <th id=\"T_60188_level0_row6\" class=\"row_heading level0 row6\" >6</th>\n",
              "      <td id=\"T_60188_row6_col0\" class=\"data row6 col0\" >Transformed train set shape</td>\n",
              "      <td id=\"T_60188_row6_col1\" class=\"data row6 col1\" >(27296, 42)</td>\n",
              "    </tr>\n",
              "    <tr>\n",
              "      <th id=\"T_60188_level0_row7\" class=\"row_heading level0 row7\" >7</th>\n",
              "      <td id=\"T_60188_row7_col0\" class=\"data row7 col0\" >Transformed test set shape</td>\n",
              "      <td id=\"T_60188_row7_col1\" class=\"data row7 col1\" >(11699, 42)</td>\n",
              "    </tr>\n",
              "    <tr>\n",
              "      <th id=\"T_60188_level0_row8\" class=\"row_heading level0 row8\" >8</th>\n",
              "      <td id=\"T_60188_row8_col0\" class=\"data row8 col0\" >Numeric features</td>\n",
              "      <td id=\"T_60188_row8_col1\" class=\"data row8 col1\" >5</td>\n",
              "    </tr>\n",
              "    <tr>\n",
              "      <th id=\"T_60188_level0_row9\" class=\"row_heading level0 row9\" >9</th>\n",
              "      <td id=\"T_60188_row9_col0\" class=\"data row9 col0\" >Categorical features</td>\n",
              "      <td id=\"T_60188_row9_col1\" class=\"data row9 col1\" >8</td>\n",
              "    </tr>\n",
              "    <tr>\n",
              "      <th id=\"T_60188_level0_row10\" class=\"row_heading level0 row10\" >10</th>\n",
              "      <td id=\"T_60188_row10_col0\" class=\"data row10 col0\" >Preprocess</td>\n",
              "      <td id=\"T_60188_row10_col1\" class=\"data row10 col1\" >True</td>\n",
              "    </tr>\n",
              "    <tr>\n",
              "      <th id=\"T_60188_level0_row11\" class=\"row_heading level0 row11\" >11</th>\n",
              "      <td id=\"T_60188_row11_col0\" class=\"data row11 col0\" >Imputation type</td>\n",
              "      <td id=\"T_60188_row11_col1\" class=\"data row11 col1\" >simple</td>\n",
              "    </tr>\n",
              "    <tr>\n",
              "      <th id=\"T_60188_level0_row12\" class=\"row_heading level0 row12\" >12</th>\n",
              "      <td id=\"T_60188_row12_col0\" class=\"data row12 col0\" >Numeric imputation</td>\n",
              "      <td id=\"T_60188_row12_col1\" class=\"data row12 col1\" >mean</td>\n",
              "    </tr>\n",
              "    <tr>\n",
              "      <th id=\"T_60188_level0_row13\" class=\"row_heading level0 row13\" >13</th>\n",
              "      <td id=\"T_60188_row13_col0\" class=\"data row13 col0\" >Categorical imputation</td>\n",
              "      <td id=\"T_60188_row13_col1\" class=\"data row13 col1\" >mode</td>\n",
              "    </tr>\n",
              "    <tr>\n",
              "      <th id=\"T_60188_level0_row14\" class=\"row_heading level0 row14\" >14</th>\n",
              "      <td id=\"T_60188_row14_col0\" class=\"data row14 col0\" >Maximum one-hot encoding</td>\n",
              "      <td id=\"T_60188_row14_col1\" class=\"data row14 col1\" >25</td>\n",
              "    </tr>\n",
              "    <tr>\n",
              "      <th id=\"T_60188_level0_row15\" class=\"row_heading level0 row15\" >15</th>\n",
              "      <td id=\"T_60188_row15_col0\" class=\"data row15 col0\" >Encoding method</td>\n",
              "      <td id=\"T_60188_row15_col1\" class=\"data row15 col1\" >None</td>\n",
              "    </tr>\n",
              "    <tr>\n",
              "      <th id=\"T_60188_level0_row16\" class=\"row_heading level0 row16\" >16</th>\n",
              "      <td id=\"T_60188_row16_col0\" class=\"data row16 col0\" >Fold Generator</td>\n",
              "      <td id=\"T_60188_row16_col1\" class=\"data row16 col1\" >StratifiedKFold</td>\n",
              "    </tr>\n",
              "    <tr>\n",
              "      <th id=\"T_60188_level0_row17\" class=\"row_heading level0 row17\" >17</th>\n",
              "      <td id=\"T_60188_row17_col0\" class=\"data row17 col0\" >Fold Number</td>\n",
              "      <td id=\"T_60188_row17_col1\" class=\"data row17 col1\" >10</td>\n",
              "    </tr>\n",
              "    <tr>\n",
              "      <th id=\"T_60188_level0_row18\" class=\"row_heading level0 row18\" >18</th>\n",
              "      <td id=\"T_60188_row18_col0\" class=\"data row18 col0\" >CPU Jobs</td>\n",
              "      <td id=\"T_60188_row18_col1\" class=\"data row18 col1\" >-1</td>\n",
              "    </tr>\n",
              "    <tr>\n",
              "      <th id=\"T_60188_level0_row19\" class=\"row_heading level0 row19\" >19</th>\n",
              "      <td id=\"T_60188_row19_col0\" class=\"data row19 col0\" >Use GPU</td>\n",
              "      <td id=\"T_60188_row19_col1\" class=\"data row19 col1\" >False</td>\n",
              "    </tr>\n",
              "    <tr>\n",
              "      <th id=\"T_60188_level0_row20\" class=\"row_heading level0 row20\" >20</th>\n",
              "      <td id=\"T_60188_row20_col0\" class=\"data row20 col0\" >Log Experiment</td>\n",
              "      <td id=\"T_60188_row20_col1\" class=\"data row20 col1\" >False</td>\n",
              "    </tr>\n",
              "    <tr>\n",
              "      <th id=\"T_60188_level0_row21\" class=\"row_heading level0 row21\" >21</th>\n",
              "      <td id=\"T_60188_row21_col0\" class=\"data row21 col0\" >Experiment Name</td>\n",
              "      <td id=\"T_60188_row21_col1\" class=\"data row21 col1\" >clf-default-name</td>\n",
              "    </tr>\n",
              "    <tr>\n",
              "      <th id=\"T_60188_level0_row22\" class=\"row_heading level0 row22\" >22</th>\n",
              "      <td id=\"T_60188_row22_col0\" class=\"data row22 col0\" >USI</td>\n",
              "      <td id=\"T_60188_row22_col1\" class=\"data row22 col1\" >5632</td>\n",
              "    </tr>\n",
              "  </tbody>\n",
              "</table>\n"
            ]
          },
          "metadata": {}
        },
        {
          "output_type": "display_data",
          "data": {
            "text/plain": [
              "<IPython.core.display.HTML object>"
            ],
            "text/html": []
          },
          "metadata": {}
        },
        {
          "output_type": "display_data",
          "data": {
            "text/plain": [
              "<pandas.io.formats.style.Styler at 0x7e54140bcb20>"
            ],
            "text/html": [
              "<style type=\"text/css\">\n",
              "#T_ff11f th {\n",
              "  text-align: left;\n",
              "}\n",
              "#T_ff11f_row0_col0, #T_ff11f_row1_col0, #T_ff11f_row1_col1, #T_ff11f_row1_col2, #T_ff11f_row1_col3, #T_ff11f_row1_col4, #T_ff11f_row1_col5, #T_ff11f_row1_col6, #T_ff11f_row1_col7, #T_ff11f_row2_col0, #T_ff11f_row2_col1, #T_ff11f_row2_col2, #T_ff11f_row2_col3, #T_ff11f_row2_col4, #T_ff11f_row2_col5, #T_ff11f_row2_col6, #T_ff11f_row2_col7, #T_ff11f_row3_col0, #T_ff11f_row3_col1, #T_ff11f_row3_col2, #T_ff11f_row3_col3, #T_ff11f_row3_col4, #T_ff11f_row3_col5, #T_ff11f_row3_col6, #T_ff11f_row3_col7, #T_ff11f_row4_col0, #T_ff11f_row4_col1, #T_ff11f_row4_col2, #T_ff11f_row4_col3, #T_ff11f_row4_col4, #T_ff11f_row4_col5, #T_ff11f_row4_col6, #T_ff11f_row4_col7, #T_ff11f_row5_col0, #T_ff11f_row5_col1, #T_ff11f_row5_col2, #T_ff11f_row5_col3, #T_ff11f_row5_col4, #T_ff11f_row5_col5, #T_ff11f_row5_col6, #T_ff11f_row5_col7, #T_ff11f_row6_col0, #T_ff11f_row6_col1, #T_ff11f_row6_col2, #T_ff11f_row6_col3, #T_ff11f_row6_col4, #T_ff11f_row6_col5, #T_ff11f_row6_col6, #T_ff11f_row6_col7, #T_ff11f_row7_col0, #T_ff11f_row7_col1, #T_ff11f_row7_col2, #T_ff11f_row7_col3, #T_ff11f_row7_col4, #T_ff11f_row7_col5, #T_ff11f_row7_col6, #T_ff11f_row7_col7, #T_ff11f_row8_col0, #T_ff11f_row8_col1, #T_ff11f_row8_col2, #T_ff11f_row8_col3, #T_ff11f_row8_col4, #T_ff11f_row8_col5, #T_ff11f_row8_col6, #T_ff11f_row8_col7, #T_ff11f_row9_col0, #T_ff11f_row9_col1, #T_ff11f_row9_col2, #T_ff11f_row9_col3, #T_ff11f_row9_col4, #T_ff11f_row9_col5, #T_ff11f_row9_col6, #T_ff11f_row9_col7, #T_ff11f_row10_col0, #T_ff11f_row10_col1, #T_ff11f_row10_col2, #T_ff11f_row10_col3, #T_ff11f_row10_col4, #T_ff11f_row10_col5, #T_ff11f_row10_col6, #T_ff11f_row10_col7, #T_ff11f_row11_col0, #T_ff11f_row11_col1, #T_ff11f_row11_col2, #T_ff11f_row11_col3, #T_ff11f_row11_col4, #T_ff11f_row11_col5, #T_ff11f_row11_col6, #T_ff11f_row11_col7, #T_ff11f_row12_col0, #T_ff11f_row12_col1, #T_ff11f_row12_col2, #T_ff11f_row12_col3, #T_ff11f_row12_col4, #T_ff11f_row12_col5, #T_ff11f_row12_col6, #T_ff11f_row12_col7, #T_ff11f_row13_col0, #T_ff11f_row13_col1, #T_ff11f_row13_col2, #T_ff11f_row13_col3, #T_ff11f_row13_col4, #T_ff11f_row13_col5, #T_ff11f_row13_col6, #T_ff11f_row13_col7, #T_ff11f_row14_col0, #T_ff11f_row14_col1, #T_ff11f_row14_col2, #T_ff11f_row14_col3, #T_ff11f_row14_col4, #T_ff11f_row14_col5, #T_ff11f_row14_col6, #T_ff11f_row14_col7 {\n",
              "  text-align: left;\n",
              "}\n",
              "#T_ff11f_row0_col1, #T_ff11f_row0_col2, #T_ff11f_row0_col3, #T_ff11f_row0_col4, #T_ff11f_row0_col5, #T_ff11f_row0_col6, #T_ff11f_row0_col7 {\n",
              "  text-align: left;\n",
              "  background-color: yellow;\n",
              "}\n",
              "#T_ff11f_row0_col8, #T_ff11f_row1_col8, #T_ff11f_row2_col8, #T_ff11f_row3_col8, #T_ff11f_row4_col8, #T_ff11f_row5_col8, #T_ff11f_row6_col8, #T_ff11f_row7_col8, #T_ff11f_row8_col8, #T_ff11f_row10_col8, #T_ff11f_row11_col8, #T_ff11f_row12_col8, #T_ff11f_row13_col8, #T_ff11f_row14_col8 {\n",
              "  text-align: left;\n",
              "  background-color: lightgrey;\n",
              "}\n",
              "#T_ff11f_row9_col8 {\n",
              "  text-align: left;\n",
              "  background-color: yellow;\n",
              "  background-color: lightgrey;\n",
              "}\n",
              "</style>\n",
              "<table id=\"T_ff11f\" class=\"dataframe\">\n",
              "  <thead>\n",
              "    <tr>\n",
              "      <th class=\"blank level0\" >&nbsp;</th>\n",
              "      <th id=\"T_ff11f_level0_col0\" class=\"col_heading level0 col0\" >Model</th>\n",
              "      <th id=\"T_ff11f_level0_col1\" class=\"col_heading level0 col1\" >Accuracy</th>\n",
              "      <th id=\"T_ff11f_level0_col2\" class=\"col_heading level0 col2\" >AUC</th>\n",
              "      <th id=\"T_ff11f_level0_col3\" class=\"col_heading level0 col3\" >Recall</th>\n",
              "      <th id=\"T_ff11f_level0_col4\" class=\"col_heading level0 col4\" >Prec.</th>\n",
              "      <th id=\"T_ff11f_level0_col5\" class=\"col_heading level0 col5\" >F1</th>\n",
              "      <th id=\"T_ff11f_level0_col6\" class=\"col_heading level0 col6\" >Kappa</th>\n",
              "      <th id=\"T_ff11f_level0_col7\" class=\"col_heading level0 col7\" >MCC</th>\n",
              "      <th id=\"T_ff11f_level0_col8\" class=\"col_heading level0 col8\" >TT (Sec)</th>\n",
              "    </tr>\n",
              "  </thead>\n",
              "  <tbody>\n",
              "    <tr>\n",
              "      <th id=\"T_ff11f_level0_row0\" class=\"row_heading level0 row0\" >lightgbm</th>\n",
              "      <td id=\"T_ff11f_row0_col0\" class=\"data row0 col0\" >Light Gradient Boosting Machine</td>\n",
              "      <td id=\"T_ff11f_row0_col1\" class=\"data row0 col1\" >0.9387</td>\n",
              "      <td id=\"T_ff11f_row0_col2\" class=\"data row0 col2\" >0.9499</td>\n",
              "      <td id=\"T_ff11f_row0_col3\" class=\"data row0 col3\" >0.9387</td>\n",
              "      <td id=\"T_ff11f_row0_col4\" class=\"data row0 col4\" >0.9308</td>\n",
              "      <td id=\"T_ff11f_row0_col5\" class=\"data row0 col5\" >0.9333</td>\n",
              "      <td id=\"T_ff11f_row0_col6\" class=\"data row0 col6\" >0.4552</td>\n",
              "      <td id=\"T_ff11f_row0_col7\" class=\"data row0 col7\" >0.4650</td>\n",
              "      <td id=\"T_ff11f_row0_col8\" class=\"data row0 col8\" >2.8340</td>\n",
              "    </tr>\n",
              "    <tr>\n",
              "      <th id=\"T_ff11f_level0_row1\" class=\"row_heading level0 row1\" >gbc</th>\n",
              "      <td id=\"T_ff11f_row1_col0\" class=\"data row1 col0\" >Gradient Boosting Classifier</td>\n",
              "      <td id=\"T_ff11f_row1_col1\" class=\"data row1 col1\" >0.9386</td>\n",
              "      <td id=\"T_ff11f_row1_col2\" class=\"data row1 col2\" >0.9435</td>\n",
              "      <td id=\"T_ff11f_row1_col3\" class=\"data row1 col3\" >0.9386</td>\n",
              "      <td id=\"T_ff11f_row1_col4\" class=\"data row1 col4\" >0.9281</td>\n",
              "      <td id=\"T_ff11f_row1_col5\" class=\"data row1 col5\" >0.9300</td>\n",
              "      <td id=\"T_ff11f_row1_col6\" class=\"data row1 col6\" >0.4089</td>\n",
              "      <td id=\"T_ff11f_row1_col7\" class=\"data row1 col7\" >0.4308</td>\n",
              "      <td id=\"T_ff11f_row1_col8\" class=\"data row1 col8\" >5.2590</td>\n",
              "    </tr>\n",
              "    <tr>\n",
              "      <th id=\"T_ff11f_level0_row2\" class=\"row_heading level0 row2\" >xgboost</th>\n",
              "      <td id=\"T_ff11f_row2_col0\" class=\"data row2 col0\" >Extreme Gradient Boosting</td>\n",
              "      <td id=\"T_ff11f_row2_col1\" class=\"data row2 col1\" >0.9372</td>\n",
              "      <td id=\"T_ff11f_row2_col2\" class=\"data row2 col2\" >0.9449</td>\n",
              "      <td id=\"T_ff11f_row2_col3\" class=\"data row2 col3\" >0.9372</td>\n",
              "      <td id=\"T_ff11f_row2_col4\" class=\"data row2 col4\" >0.9295</td>\n",
              "      <td id=\"T_ff11f_row2_col5\" class=\"data row2 col5\" >0.9322</td>\n",
              "      <td id=\"T_ff11f_row2_col6\" class=\"data row2 col6\" >0.4491</td>\n",
              "      <td id=\"T_ff11f_row2_col7\" class=\"data row2 col7\" >0.4569</td>\n",
              "      <td id=\"T_ff11f_row2_col8\" class=\"data row2 col8\" >1.7210</td>\n",
              "    </tr>\n",
              "    <tr>\n",
              "      <th id=\"T_ff11f_level0_row3\" class=\"row_heading level0 row3\" >rf</th>\n",
              "      <td id=\"T_ff11f_row3_col0\" class=\"data row3 col0\" >Random Forest Classifier</td>\n",
              "      <td id=\"T_ff11f_row3_col1\" class=\"data row3 col1\" >0.9370</td>\n",
              "      <td id=\"T_ff11f_row3_col2\" class=\"data row3 col2\" >0.9379</td>\n",
              "      <td id=\"T_ff11f_row3_col3\" class=\"data row3 col3\" >0.9370</td>\n",
              "      <td id=\"T_ff11f_row3_col4\" class=\"data row3 col4\" >0.9247</td>\n",
              "      <td id=\"T_ff11f_row3_col5\" class=\"data row3 col5\" >0.9261</td>\n",
              "      <td id=\"T_ff11f_row3_col6\" class=\"data row3 col6\" >0.3645</td>\n",
              "      <td id=\"T_ff11f_row3_col7\" class=\"data row3 col7\" >0.3950</td>\n",
              "      <td id=\"T_ff11f_row3_col8\" class=\"data row3 col8\" >3.4740</td>\n",
              "    </tr>\n",
              "    <tr>\n",
              "      <th id=\"T_ff11f_level0_row4\" class=\"row_heading level0 row4\" >et</th>\n",
              "      <td id=\"T_ff11f_row4_col0\" class=\"data row4 col0\" >Extra Trees Classifier</td>\n",
              "      <td id=\"T_ff11f_row4_col1\" class=\"data row4 col1\" >0.9348</td>\n",
              "      <td id=\"T_ff11f_row4_col2\" class=\"data row4 col2\" >0.9257</td>\n",
              "      <td id=\"T_ff11f_row4_col3\" class=\"data row4 col3\" >0.9348</td>\n",
              "      <td id=\"T_ff11f_row4_col4\" class=\"data row4 col4\" >0.9206</td>\n",
              "      <td id=\"T_ff11f_row4_col5\" class=\"data row4 col5\" >0.9226</td>\n",
              "      <td id=\"T_ff11f_row4_col6\" class=\"data row4 col6\" >0.3294</td>\n",
              "      <td id=\"T_ff11f_row4_col7\" class=\"data row4 col7\" >0.3618</td>\n",
              "      <td id=\"T_ff11f_row4_col8\" class=\"data row4 col8\" >3.7360</td>\n",
              "    </tr>\n",
              "    <tr>\n",
              "      <th id=\"T_ff11f_level0_row5\" class=\"row_heading level0 row5\" >lr</th>\n",
              "      <td id=\"T_ff11f_row5_col0\" class=\"data row5 col0\" >Logistic Regression</td>\n",
              "      <td id=\"T_ff11f_row5_col1\" class=\"data row5 col1\" >0.9346</td>\n",
              "      <td id=\"T_ff11f_row5_col2\" class=\"data row5 col2\" >0.9248</td>\n",
              "      <td id=\"T_ff11f_row5_col3\" class=\"data row5 col3\" >0.9346</td>\n",
              "      <td id=\"T_ff11f_row5_col4\" class=\"data row5 col4\" >0.9209</td>\n",
              "      <td id=\"T_ff11f_row5_col5\" class=\"data row5 col5\" >0.9232</td>\n",
              "      <td id=\"T_ff11f_row5_col6\" class=\"data row5 col6\" >0.3392</td>\n",
              "      <td id=\"T_ff11f_row5_col7\" class=\"data row5 col7\" >0.3679</td>\n",
              "      <td id=\"T_ff11f_row5_col8\" class=\"data row5 col8\" >3.6960</td>\n",
              "    </tr>\n",
              "    <tr>\n",
              "      <th id=\"T_ff11f_level0_row6\" class=\"row_heading level0 row6\" >ridge</th>\n",
              "      <td id=\"T_ff11f_row6_col0\" class=\"data row6 col0\" >Ridge Classifier</td>\n",
              "      <td id=\"T_ff11f_row6_col1\" class=\"data row6 col1\" >0.9331</td>\n",
              "      <td id=\"T_ff11f_row6_col2\" class=\"data row6 col2\" >0.9271</td>\n",
              "      <td id=\"T_ff11f_row6_col3\" class=\"data row6 col3\" >0.9331</td>\n",
              "      <td id=\"T_ff11f_row6_col4\" class=\"data row6 col4\" >0.9160</td>\n",
              "      <td id=\"T_ff11f_row6_col5\" class=\"data row6 col5\" >0.9142</td>\n",
              "      <td id=\"T_ff11f_row6_col6\" class=\"data row6 col6\" >0.2261</td>\n",
              "      <td id=\"T_ff11f_row6_col7\" class=\"data row6 col7\" >0.2861</td>\n",
              "      <td id=\"T_ff11f_row6_col8\" class=\"data row6 col8\" >0.4520</td>\n",
              "    </tr>\n",
              "    <tr>\n",
              "      <th id=\"T_ff11f_level0_row7\" class=\"row_heading level0 row7\" >lda</th>\n",
              "      <td id=\"T_ff11f_row7_col0\" class=\"data row7 col0\" >Linear Discriminant Analysis</td>\n",
              "      <td id=\"T_ff11f_row7_col1\" class=\"data row7 col1\" >0.9317</td>\n",
              "      <td id=\"T_ff11f_row7_col2\" class=\"data row7 col2\" >0.9271</td>\n",
              "      <td id=\"T_ff11f_row7_col3\" class=\"data row7 col3\" >0.9317</td>\n",
              "      <td id=\"T_ff11f_row7_col4\" class=\"data row7 col4\" >0.9278</td>\n",
              "      <td id=\"T_ff11f_row7_col5\" class=\"data row7 col5\" >0.9296</td>\n",
              "      <td id=\"T_ff11f_row7_col6\" class=\"data row7 col6\" >0.4490</td>\n",
              "      <td id=\"T_ff11f_row7_col7\" class=\"data row7 col7\" >0.4505</td>\n",
              "      <td id=\"T_ff11f_row7_col8\" class=\"data row7 col8\" >1.0680</td>\n",
              "    </tr>\n",
              "    <tr>\n",
              "      <th id=\"T_ff11f_level0_row8\" class=\"row_heading level0 row8\" >ada</th>\n",
              "      <td id=\"T_ff11f_row8_col0\" class=\"data row8 col0\" >Ada Boost Classifier</td>\n",
              "      <td id=\"T_ff11f_row8_col1\" class=\"data row8 col1\" >0.9313</td>\n",
              "      <td id=\"T_ff11f_row8_col2\" class=\"data row8 col2\" >0.9289</td>\n",
              "      <td id=\"T_ff11f_row8_col3\" class=\"data row8 col3\" >0.9313</td>\n",
              "      <td id=\"T_ff11f_row8_col4\" class=\"data row8 col4\" >0.9196</td>\n",
              "      <td id=\"T_ff11f_row8_col5\" class=\"data row8 col5\" >0.9233</td>\n",
              "      <td id=\"T_ff11f_row8_col6\" class=\"data row8 col6\" >0.3606</td>\n",
              "      <td id=\"T_ff11f_row8_col7\" class=\"data row8 col7\" >0.3748</td>\n",
              "      <td id=\"T_ff11f_row8_col8\" class=\"data row8 col8\" >1.5430</td>\n",
              "    </tr>\n",
              "    <tr>\n",
              "      <th id=\"T_ff11f_level0_row9\" class=\"row_heading level0 row9\" >dummy</th>\n",
              "      <td id=\"T_ff11f_row9_col0\" class=\"data row9 col0\" >Dummy Classifier</td>\n",
              "      <td id=\"T_ff11f_row9_col1\" class=\"data row9 col1\" >0.9291</td>\n",
              "      <td id=\"T_ff11f_row9_col2\" class=\"data row9 col2\" >0.5000</td>\n",
              "      <td id=\"T_ff11f_row9_col3\" class=\"data row9 col3\" >0.9291</td>\n",
              "      <td id=\"T_ff11f_row9_col4\" class=\"data row9 col4\" >0.8632</td>\n",
              "      <td id=\"T_ff11f_row9_col5\" class=\"data row9 col5\" >0.8950</td>\n",
              "      <td id=\"T_ff11f_row9_col6\" class=\"data row9 col6\" >0.0000</td>\n",
              "      <td id=\"T_ff11f_row9_col7\" class=\"data row9 col7\" >0.0000</td>\n",
              "      <td id=\"T_ff11f_row9_col8\" class=\"data row9 col8\" >0.4220</td>\n",
              "    </tr>\n",
              "    <tr>\n",
              "      <th id=\"T_ff11f_level0_row10\" class=\"row_heading level0 row10\" >knn</th>\n",
              "      <td id=\"T_ff11f_row10_col0\" class=\"data row10 col0\" >K Neighbors Classifier</td>\n",
              "      <td id=\"T_ff11f_row10_col1\" class=\"data row10 col1\" >0.9273</td>\n",
              "      <td id=\"T_ff11f_row10_col2\" class=\"data row10 col2\" >0.7628</td>\n",
              "      <td id=\"T_ff11f_row10_col3\" class=\"data row10 col3\" >0.9273</td>\n",
              "      <td id=\"T_ff11f_row10_col4\" class=\"data row10 col4\" >0.9110</td>\n",
              "      <td id=\"T_ff11f_row10_col5\" class=\"data row10 col5\" >0.9160</td>\n",
              "      <td id=\"T_ff11f_row10_col6\" class=\"data row10 col6\" >0.2843</td>\n",
              "      <td id=\"T_ff11f_row10_col7\" class=\"data row10 col7\" >0.3035</td>\n",
              "      <td id=\"T_ff11f_row10_col8\" class=\"data row10 col8\" >1.8260</td>\n",
              "    </tr>\n",
              "    <tr>\n",
              "      <th id=\"T_ff11f_level0_row11\" class=\"row_heading level0 row11\" >dt</th>\n",
              "      <td id=\"T_ff11f_row11_col0\" class=\"data row11 col0\" >Decision Tree Classifier</td>\n",
              "      <td id=\"T_ff11f_row11_col1\" class=\"data row11 col1\" >0.9163</td>\n",
              "      <td id=\"T_ff11f_row11_col2\" class=\"data row11 col2\" >0.6970</td>\n",
              "      <td id=\"T_ff11f_row11_col3\" class=\"data row11 col3\" >0.9163</td>\n",
              "      <td id=\"T_ff11f_row11_col4\" class=\"data row11 col4\" >0.9187</td>\n",
              "      <td id=\"T_ff11f_row11_col5\" class=\"data row11 col5\" >0.9174</td>\n",
              "      <td id=\"T_ff11f_row11_col6\" class=\"data row11 col6\" >0.3823</td>\n",
              "      <td id=\"T_ff11f_row11_col7\" class=\"data row11 col7\" >0.3828</td>\n",
              "      <td id=\"T_ff11f_row11_col8\" class=\"data row11 col8\" >0.5850</td>\n",
              "    </tr>\n",
              "    <tr>\n",
              "      <th id=\"T_ff11f_level0_row12\" class=\"row_heading level0 row12\" >nb</th>\n",
              "      <td id=\"T_ff11f_row12_col0\" class=\"data row12 col0\" >Naive Bayes</td>\n",
              "      <td id=\"T_ff11f_row12_col1\" class=\"data row12 col1\" >0.8954</td>\n",
              "      <td id=\"T_ff11f_row12_col2\" class=\"data row12 col2\" >0.8288</td>\n",
              "      <td id=\"T_ff11f_row12_col3\" class=\"data row12 col3\" >0.8954</td>\n",
              "      <td id=\"T_ff11f_row12_col4\" class=\"data row12 col4\" >0.9124</td>\n",
              "      <td id=\"T_ff11f_row12_col5\" class=\"data row12 col5\" >0.9030</td>\n",
              "      <td id=\"T_ff11f_row12_col6\" class=\"data row12 col6\" >0.3248</td>\n",
              "      <td id=\"T_ff11f_row12_col7\" class=\"data row12 col7\" >0.3301</td>\n",
              "      <td id=\"T_ff11f_row12_col8\" class=\"data row12 col8\" >0.7280</td>\n",
              "    </tr>\n",
              "    <tr>\n",
              "      <th id=\"T_ff11f_level0_row13\" class=\"row_heading level0 row13\" >svm</th>\n",
              "      <td id=\"T_ff11f_row13_col0\" class=\"data row13 col0\" >SVM - Linear Kernel</td>\n",
              "      <td id=\"T_ff11f_row13_col1\" class=\"data row13 col1\" >0.8539</td>\n",
              "      <td id=\"T_ff11f_row13_col2\" class=\"data row13 col2\" >0.7229</td>\n",
              "      <td id=\"T_ff11f_row13_col3\" class=\"data row13 col3\" >0.8539</td>\n",
              "      <td id=\"T_ff11f_row13_col4\" class=\"data row13 col4\" >0.9104</td>\n",
              "      <td id=\"T_ff11f_row13_col5\" class=\"data row13 col5\" >0.8700</td>\n",
              "      <td id=\"T_ff11f_row13_col6\" class=\"data row13 col6\" >0.2709</td>\n",
              "      <td id=\"T_ff11f_row13_col7\" class=\"data row13 col7\" >0.2905</td>\n",
              "      <td id=\"T_ff11f_row13_col8\" class=\"data row13 col8\" >1.1780</td>\n",
              "    </tr>\n",
              "    <tr>\n",
              "      <th id=\"T_ff11f_level0_row14\" class=\"row_heading level0 row14\" >qda</th>\n",
              "      <td id=\"T_ff11f_row14_col0\" class=\"data row14 col0\" >Quadratic Discriminant Analysis</td>\n",
              "      <td id=\"T_ff11f_row14_col1\" class=\"data row14 col1\" >0.6837</td>\n",
              "      <td id=\"T_ff11f_row14_col2\" class=\"data row14 col2\" >0.7726</td>\n",
              "      <td id=\"T_ff11f_row14_col3\" class=\"data row14 col3\" >0.6837</td>\n",
              "      <td id=\"T_ff11f_row14_col4\" class=\"data row14 col4\" >0.9084</td>\n",
              "      <td id=\"T_ff11f_row14_col5\" class=\"data row14 col5\" >0.7273</td>\n",
              "      <td id=\"T_ff11f_row14_col6\" class=\"data row14 col6\" >0.1726</td>\n",
              "      <td id=\"T_ff11f_row14_col7\" class=\"data row14 col7\" >0.2113</td>\n",
              "      <td id=\"T_ff11f_row14_col8\" class=\"data row14 col8\" >0.6470</td>\n",
              "    </tr>\n",
              "  </tbody>\n",
              "</table>\n"
            ]
          },
          "metadata": {}
        },
        {
          "output_type": "display_data",
          "data": {
            "text/plain": [
              "Processing:   0%|          | 0/65 [00:00<?, ?it/s]"
            ],
            "application/vnd.jupyter.widget-view+json": {
              "version_major": 2,
              "version_minor": 0,
              "model_id": "c12fc6b9f70a40d4a4d5c4f4d8017de8"
            }
          },
          "metadata": {
            "application/vnd.jupyter.widget-view+json": {
              "colab": {
                "custom_widget_manager": {
                  "url": "https://ssl.gstatic.com/colaboratory-static/widgets/colab-cdn-widget-manager/2b70e893a8ba7c0f/manager.min.js"
                }
              }
            }
          }
        },
        {
          "output_type": "display_data",
          "data": {
            "text/plain": [
              "<IPython.core.display.HTML object>"
            ],
            "text/html": []
          },
          "metadata": {}
        },
        {
          "output_type": "display_data",
          "data": {
            "text/plain": [
              "<IPython.core.display.HTML object>"
            ],
            "text/html": []
          },
          "metadata": {}
        },
        {
          "output_type": "display_data",
          "data": {
            "text/plain": [
              "<pandas.io.formats.style.Styler at 0x7e54145a5870>"
            ],
            "text/html": [
              "<style type=\"text/css\">\n",
              "#T_96063_row10_col0, #T_96063_row10_col1, #T_96063_row10_col2, #T_96063_row10_col3, #T_96063_row10_col4, #T_96063_row10_col5, #T_96063_row10_col6 {\n",
              "  background: yellow;\n",
              "}\n",
              "</style>\n",
              "<table id=\"T_96063\" class=\"dataframe\">\n",
              "  <thead>\n",
              "    <tr>\n",
              "      <th class=\"blank level0\" >&nbsp;</th>\n",
              "      <th id=\"T_96063_level0_col0\" class=\"col_heading level0 col0\" >Accuracy</th>\n",
              "      <th id=\"T_96063_level0_col1\" class=\"col_heading level0 col1\" >AUC</th>\n",
              "      <th id=\"T_96063_level0_col2\" class=\"col_heading level0 col2\" >Recall</th>\n",
              "      <th id=\"T_96063_level0_col3\" class=\"col_heading level0 col3\" >Prec.</th>\n",
              "      <th id=\"T_96063_level0_col4\" class=\"col_heading level0 col4\" >F1</th>\n",
              "      <th id=\"T_96063_level0_col5\" class=\"col_heading level0 col5\" >Kappa</th>\n",
              "      <th id=\"T_96063_level0_col6\" class=\"col_heading level0 col6\" >MCC</th>\n",
              "    </tr>\n",
              "    <tr>\n",
              "      <th class=\"index_name level0\" >Fold</th>\n",
              "      <th class=\"blank col0\" >&nbsp;</th>\n",
              "      <th class=\"blank col1\" >&nbsp;</th>\n",
              "      <th class=\"blank col2\" >&nbsp;</th>\n",
              "      <th class=\"blank col3\" >&nbsp;</th>\n",
              "      <th class=\"blank col4\" >&nbsp;</th>\n",
              "      <th class=\"blank col5\" >&nbsp;</th>\n",
              "      <th class=\"blank col6\" >&nbsp;</th>\n",
              "    </tr>\n",
              "  </thead>\n",
              "  <tbody>\n",
              "    <tr>\n",
              "      <th id=\"T_96063_level0_row0\" class=\"row_heading level0 row0\" >0</th>\n",
              "      <td id=\"T_96063_row0_col0\" class=\"data row0 col0\" >0.9388</td>\n",
              "      <td id=\"T_96063_row0_col1\" class=\"data row0 col1\" >0.9277</td>\n",
              "      <td id=\"T_96063_row0_col2\" class=\"data row0 col2\" >0.9388</td>\n",
              "      <td id=\"T_96063_row0_col3\" class=\"data row0 col3\" >0.9270</td>\n",
              "      <td id=\"T_96063_row0_col4\" class=\"data row0 col4\" >0.9268</td>\n",
              "      <td id=\"T_96063_row0_col5\" class=\"data row0 col5\" >0.3618</td>\n",
              "      <td id=\"T_96063_row0_col6\" class=\"data row0 col6\" >0.4012</td>\n",
              "    </tr>\n",
              "    <tr>\n",
              "      <th id=\"T_96063_level0_row1\" class=\"row_heading level0 row1\" >1</th>\n",
              "      <td id=\"T_96063_row1_col0\" class=\"data row1 col0\" >0.9319</td>\n",
              "      <td id=\"T_96063_row1_col1\" class=\"data row1 col1\" >0.9219</td>\n",
              "      <td id=\"T_96063_row1_col2\" class=\"data row1 col2\" >0.9319</td>\n",
              "      <td id=\"T_96063_row1_col3\" class=\"data row1 col3\" >0.9146</td>\n",
              "      <td id=\"T_96063_row1_col4\" class=\"data row1 col4\" >0.9170</td>\n",
              "      <td id=\"T_96063_row1_col5\" class=\"data row1 col5\" >0.2728</td>\n",
              "      <td id=\"T_96063_row1_col6\" class=\"data row1 col6\" >0.3104</td>\n",
              "    </tr>\n",
              "    <tr>\n",
              "      <th id=\"T_96063_level0_row2\" class=\"row_heading level0 row2\" >2</th>\n",
              "      <td id=\"T_96063_row2_col0\" class=\"data row2 col0\" >0.9330</td>\n",
              "      <td id=\"T_96063_row2_col1\" class=\"data row2 col1\" >0.9336</td>\n",
              "      <td id=\"T_96063_row2_col2\" class=\"data row2 col2\" >0.9330</td>\n",
              "      <td id=\"T_96063_row2_col3\" class=\"data row2 col3\" >0.9203</td>\n",
              "      <td id=\"T_96063_row2_col4\" class=\"data row2 col4\" >0.9238</td>\n",
              "      <td id=\"T_96063_row2_col5\" class=\"data row2 col5\" >0.3597</td>\n",
              "      <td id=\"T_96063_row2_col6\" class=\"data row2 col6\" >0.3776</td>\n",
              "    </tr>\n",
              "    <tr>\n",
              "      <th id=\"T_96063_level0_row3\" class=\"row_heading level0 row3\" >3</th>\n",
              "      <td id=\"T_96063_row3_col0\" class=\"data row3 col0\" >0.9341</td>\n",
              "      <td id=\"T_96063_row3_col1\" class=\"data row3 col1\" >0.9194</td>\n",
              "      <td id=\"T_96063_row3_col2\" class=\"data row3 col2\" >0.9341</td>\n",
              "      <td id=\"T_96063_row3_col3\" class=\"data row3 col3\" >0.9202</td>\n",
              "      <td id=\"T_96063_row3_col4\" class=\"data row3 col4\" >0.9230</td>\n",
              "      <td id=\"T_96063_row3_col5\" class=\"data row3 col5\" >0.3405</td>\n",
              "      <td id=\"T_96063_row3_col6\" class=\"data row3 col6\" >0.3671</td>\n",
              "    </tr>\n",
              "    <tr>\n",
              "      <th id=\"T_96063_level0_row4\" class=\"row_heading level0 row4\" >4</th>\n",
              "      <td id=\"T_96063_row4_col0\" class=\"data row4 col0\" >0.9344</td>\n",
              "      <td id=\"T_96063_row4_col1\" class=\"data row4 col1\" >0.9227</td>\n",
              "      <td id=\"T_96063_row4_col2\" class=\"data row4 col2\" >0.9344</td>\n",
              "      <td id=\"T_96063_row4_col3\" class=\"data row4 col3\" >0.9202</td>\n",
              "      <td id=\"T_96063_row4_col4\" class=\"data row4 col4\" >0.9223</td>\n",
              "      <td id=\"T_96063_row4_col5\" class=\"data row4 col5\" >0.3294</td>\n",
              "      <td id=\"T_96063_row4_col6\" class=\"data row4 col6\" >0.3608</td>\n",
              "    </tr>\n",
              "    <tr>\n",
              "      <th id=\"T_96063_level0_row5\" class=\"row_heading level0 row5\" >5</th>\n",
              "      <td id=\"T_96063_row5_col0\" class=\"data row5 col0\" >0.9344</td>\n",
              "      <td id=\"T_96063_row5_col1\" class=\"data row5 col1\" >0.9371</td>\n",
              "      <td id=\"T_96063_row5_col2\" class=\"data row5 col2\" >0.9344</td>\n",
              "      <td id=\"T_96063_row5_col3\" class=\"data row5 col3\" >0.9200</td>\n",
              "      <td id=\"T_96063_row5_col4\" class=\"data row5 col4\" >0.9220</td>\n",
              "      <td id=\"T_96063_row5_col5\" class=\"data row5 col5\" >0.3250</td>\n",
              "      <td id=\"T_96063_row5_col6\" class=\"data row5 col6\" >0.3579</td>\n",
              "    </tr>\n",
              "    <tr>\n",
              "      <th id=\"T_96063_level0_row6\" class=\"row_heading level0 row6\" >6</th>\n",
              "      <td id=\"T_96063_row6_col0\" class=\"data row6 col0\" >0.9340</td>\n",
              "      <td id=\"T_96063_row6_col1\" class=\"data row6 col1\" >0.9206</td>\n",
              "      <td id=\"T_96063_row6_col2\" class=\"data row6 col2\" >0.9340</td>\n",
              "      <td id=\"T_96063_row6_col3\" class=\"data row6 col3\" >0.9196</td>\n",
              "      <td id=\"T_96063_row6_col4\" class=\"data row6 col4\" >0.9222</td>\n",
              "      <td id=\"T_96063_row6_col5\" class=\"data row6 col5\" >0.3276</td>\n",
              "      <td id=\"T_96063_row6_col6\" class=\"data row6 col6\" >0.3568</td>\n",
              "    </tr>\n",
              "    <tr>\n",
              "      <th id=\"T_96063_level0_row7\" class=\"row_heading level0 row7\" >7</th>\n",
              "      <td id=\"T_96063_row7_col0\" class=\"data row7 col0\" >0.9318</td>\n",
              "      <td id=\"T_96063_row7_col1\" class=\"data row7 col1\" >0.9139</td>\n",
              "      <td id=\"T_96063_row7_col2\" class=\"data row7 col2\" >0.9318</td>\n",
              "      <td id=\"T_96063_row7_col3\" class=\"data row7 col3\" >0.9169</td>\n",
              "      <td id=\"T_96063_row7_col4\" class=\"data row7 col4\" >0.9206</td>\n",
              "      <td id=\"T_96063_row7_col5\" class=\"data row7 col5\" >0.3183</td>\n",
              "      <td id=\"T_96063_row7_col6\" class=\"data row7 col6\" >0.3421</td>\n",
              "    </tr>\n",
              "    <tr>\n",
              "      <th id=\"T_96063_level0_row8\" class=\"row_heading level0 row8\" >8</th>\n",
              "      <td id=\"T_96063_row8_col0\" class=\"data row8 col0\" >0.9373</td>\n",
              "      <td id=\"T_96063_row8_col1\" class=\"data row8 col1\" >0.9246</td>\n",
              "      <td id=\"T_96063_row8_col2\" class=\"data row8 col2\" >0.9373</td>\n",
              "      <td id=\"T_96063_row8_col3\" class=\"data row8 col3\" >0.9254</td>\n",
              "      <td id=\"T_96063_row8_col4\" class=\"data row8 col4\" >0.9274</td>\n",
              "      <td id=\"T_96063_row8_col5\" class=\"data row8 col5\" >0.3791</td>\n",
              "      <td id=\"T_96063_row8_col6\" class=\"data row8 col6\" >0.4051</td>\n",
              "    </tr>\n",
              "    <tr>\n",
              "      <th id=\"T_96063_level0_row9\" class=\"row_heading level0 row9\" >9</th>\n",
              "      <td id=\"T_96063_row9_col0\" class=\"data row9 col0\" >0.9362</td>\n",
              "      <td id=\"T_96063_row9_col1\" class=\"data row9 col1\" >0.9264</td>\n",
              "      <td id=\"T_96063_row9_col2\" class=\"data row9 col2\" >0.9362</td>\n",
              "      <td id=\"T_96063_row9_col3\" class=\"data row9 col3\" >0.9243</td>\n",
              "      <td id=\"T_96063_row9_col4\" class=\"data row9 col4\" >0.9268</td>\n",
              "      <td id=\"T_96063_row9_col5\" class=\"data row9 col5\" >0.3779</td>\n",
              "      <td id=\"T_96063_row9_col6\" class=\"data row9 col6\" >0.4002</td>\n",
              "    </tr>\n",
              "    <tr>\n",
              "      <th id=\"T_96063_level0_row10\" class=\"row_heading level0 row10\" >Mean</th>\n",
              "      <td id=\"T_96063_row10_col0\" class=\"data row10 col0\" >0.9346</td>\n",
              "      <td id=\"T_96063_row10_col1\" class=\"data row10 col1\" >0.9248</td>\n",
              "      <td id=\"T_96063_row10_col2\" class=\"data row10 col2\" >0.9346</td>\n",
              "      <td id=\"T_96063_row10_col3\" class=\"data row10 col3\" >0.9209</td>\n",
              "      <td id=\"T_96063_row10_col4\" class=\"data row10 col4\" >0.9232</td>\n",
              "      <td id=\"T_96063_row10_col5\" class=\"data row10 col5\" >0.3392</td>\n",
              "      <td id=\"T_96063_row10_col6\" class=\"data row10 col6\" >0.3679</td>\n",
              "    </tr>\n",
              "    <tr>\n",
              "      <th id=\"T_96063_level0_row11\" class=\"row_heading level0 row11\" >Std</th>\n",
              "      <td id=\"T_96063_row11_col0\" class=\"data row11 col0\" >0.0022</td>\n",
              "      <td id=\"T_96063_row11_col1\" class=\"data row11 col1\" >0.0065</td>\n",
              "      <td id=\"T_96063_row11_col2\" class=\"data row11 col2\" >0.0022</td>\n",
              "      <td id=\"T_96063_row11_col3\" class=\"data row11 col3\" >0.0036</td>\n",
              "      <td id=\"T_96063_row11_col4\" class=\"data row11 col4\" >0.0030</td>\n",
              "      <td id=\"T_96063_row11_col5\" class=\"data row11 col5\" >0.0305</td>\n",
              "      <td id=\"T_96063_row11_col6\" class=\"data row11 col6\" >0.0281</td>\n",
              "    </tr>\n",
              "  </tbody>\n",
              "</table>\n"
            ]
          },
          "metadata": {}
        },
        {
          "output_type": "display_data",
          "data": {
            "text/plain": [
              "Processing:   0%|          | 0/4 [00:00<?, ?it/s]"
            ],
            "application/vnd.jupyter.widget-view+json": {
              "version_major": 2,
              "version_minor": 0,
              "model_id": "8a07d76dfba9410b996eeb0001aa4416"
            }
          },
          "metadata": {
            "application/vnd.jupyter.widget-view+json": {
              "colab": {
                "custom_widget_manager": {
                  "url": "https://ssl.gstatic.com/colaboratory-static/widgets/colab-cdn-widget-manager/2b70e893a8ba7c0f/manager.min.js"
                }
              }
            }
          }
        },
        {
          "output_type": "display_data",
          "data": {
            "text/plain": [
              "<IPython.core.display.HTML object>"
            ],
            "text/html": []
          },
          "metadata": {}
        },
        {
          "output_type": "display_data",
          "data": {
            "text/plain": [
              "interactive(children=(ToggleButtons(description='Plot Type:', icons=('',), options=(('Pipeline Plot', 'pipelin…"
            ],
            "application/vnd.jupyter.widget-view+json": {
              "version_major": 2,
              "version_minor": 0,
              "model_id": "68980ec20a5e4c67b2f83d9d7aef8a1f"
            }
          },
          "metadata": {
            "application/vnd.jupyter.widget-view+json": {
              "colab": {
                "custom_widget_manager": {
                  "url": "https://ssl.gstatic.com/colaboratory-static/widgets/colab-cdn-widget-manager/2b70e893a8ba7c0f/manager.min.js"
                }
              }
            }
          }
        },
        {
          "output_type": "display_data",
          "data": {
            "text/plain": [
              "<IPython.core.display.HTML object>"
            ],
            "text/html": []
          },
          "metadata": {}
        },
        {
          "output_type": "display_data",
          "data": {
            "text/plain": [
              "<pandas.io.formats.style.Styler at 0x7e541452e200>"
            ],
            "text/html": [
              "<style type=\"text/css\">\n",
              "#T_74218_row10_col0, #T_74218_row10_col1, #T_74218_row10_col2, #T_74218_row10_col3, #T_74218_row10_col4, #T_74218_row10_col5, #T_74218_row10_col6 {\n",
              "  background: yellow;\n",
              "}\n",
              "</style>\n",
              "<table id=\"T_74218\" class=\"dataframe\">\n",
              "  <thead>\n",
              "    <tr>\n",
              "      <th class=\"blank level0\" >&nbsp;</th>\n",
              "      <th id=\"T_74218_level0_col0\" class=\"col_heading level0 col0\" >Accuracy</th>\n",
              "      <th id=\"T_74218_level0_col1\" class=\"col_heading level0 col1\" >AUC</th>\n",
              "      <th id=\"T_74218_level0_col2\" class=\"col_heading level0 col2\" >Recall</th>\n",
              "      <th id=\"T_74218_level0_col3\" class=\"col_heading level0 col3\" >Prec.</th>\n",
              "      <th id=\"T_74218_level0_col4\" class=\"col_heading level0 col4\" >F1</th>\n",
              "      <th id=\"T_74218_level0_col5\" class=\"col_heading level0 col5\" >Kappa</th>\n",
              "      <th id=\"T_74218_level0_col6\" class=\"col_heading level0 col6\" >MCC</th>\n",
              "    </tr>\n",
              "    <tr>\n",
              "      <th class=\"index_name level0\" >Fold</th>\n",
              "      <th class=\"blank col0\" >&nbsp;</th>\n",
              "      <th class=\"blank col1\" >&nbsp;</th>\n",
              "      <th class=\"blank col2\" >&nbsp;</th>\n",
              "      <th class=\"blank col3\" >&nbsp;</th>\n",
              "      <th class=\"blank col4\" >&nbsp;</th>\n",
              "      <th class=\"blank col5\" >&nbsp;</th>\n",
              "      <th class=\"blank col6\" >&nbsp;</th>\n",
              "    </tr>\n",
              "  </thead>\n",
              "  <tbody>\n",
              "    <tr>\n",
              "      <th id=\"T_74218_level0_row0\" class=\"row_heading level0 row0\" >0</th>\n",
              "      <td id=\"T_74218_row0_col0\" class=\"data row0 col0\" >0.9363</td>\n",
              "      <td id=\"T_74218_row0_col1\" class=\"data row0 col1\" >0.9513</td>\n",
              "      <td id=\"T_74218_row0_col2\" class=\"data row0 col2\" >0.9363</td>\n",
              "      <td id=\"T_74218_row0_col3\" class=\"data row0 col3\" >0.9251</td>\n",
              "      <td id=\"T_74218_row0_col4\" class=\"data row0 col4\" >0.9279</td>\n",
              "      <td id=\"T_74218_row0_col5\" class=\"data row0 col5\" >0.3929</td>\n",
              "      <td id=\"T_74218_row0_col6\" class=\"data row0 col6\" >0.4109</td>\n",
              "    </tr>\n",
              "    <tr>\n",
              "      <th id=\"T_74218_level0_row1\" class=\"row_heading level0 row1\" >1</th>\n",
              "      <td id=\"T_74218_row1_col0\" class=\"data row1 col0\" >0.9374</td>\n",
              "      <td id=\"T_74218_row1_col1\" class=\"data row1 col1\" >0.9421</td>\n",
              "      <td id=\"T_74218_row1_col2\" class=\"data row1 col2\" >0.9374</td>\n",
              "      <td id=\"T_74218_row1_col3\" class=\"data row1 col3\" >0.9264</td>\n",
              "      <td id=\"T_74218_row1_col4\" class=\"data row1 col4\" >0.9288</td>\n",
              "      <td id=\"T_74218_row1_col5\" class=\"data row1 col5\" >0.4017</td>\n",
              "      <td id=\"T_74218_row1_col6\" class=\"data row1 col6\" >0.4217</td>\n",
              "    </tr>\n",
              "    <tr>\n",
              "      <th id=\"T_74218_level0_row2\" class=\"row_heading level0 row2\" >2</th>\n",
              "      <td id=\"T_74218_row2_col0\" class=\"data row2 col0\" >0.9352</td>\n",
              "      <td id=\"T_74218_row2_col1\" class=\"data row2 col1\" >0.9473</td>\n",
              "      <td id=\"T_74218_row2_col2\" class=\"data row2 col2\" >0.9352</td>\n",
              "      <td id=\"T_74218_row2_col3\" class=\"data row2 col3\" >0.9254</td>\n",
              "      <td id=\"T_74218_row2_col4\" class=\"data row2 col4\" >0.9286</td>\n",
              "      <td id=\"T_74218_row2_col5\" class=\"data row2 col5\" >0.4124</td>\n",
              "      <td id=\"T_74218_row2_col6\" class=\"data row2 col6\" >0.4237</td>\n",
              "    </tr>\n",
              "    <tr>\n",
              "      <th id=\"T_74218_level0_row3\" class=\"row_heading level0 row3\" >3</th>\n",
              "      <td id=\"T_74218_row3_col0\" class=\"data row3 col0\" >0.9341</td>\n",
              "      <td id=\"T_74218_row3_col1\" class=\"data row3 col1\" >0.9386</td>\n",
              "      <td id=\"T_74218_row3_col2\" class=\"data row3 col2\" >0.9341</td>\n",
              "      <td id=\"T_74218_row3_col3\" class=\"data row3 col3\" >0.9232</td>\n",
              "      <td id=\"T_74218_row3_col4\" class=\"data row3 col4\" >0.9265</td>\n",
              "      <td id=\"T_74218_row3_col5\" class=\"data row3 col5\" >0.3903</td>\n",
              "      <td id=\"T_74218_row3_col6\" class=\"data row3 col6\" >0.4039</td>\n",
              "    </tr>\n",
              "    <tr>\n",
              "      <th id=\"T_74218_level0_row4\" class=\"row_heading level0 row4\" >4</th>\n",
              "      <td id=\"T_74218_row4_col0\" class=\"data row4 col0\" >0.9381</td>\n",
              "      <td id=\"T_74218_row4_col1\" class=\"data row4 col1\" >0.9481</td>\n",
              "      <td id=\"T_74218_row4_col2\" class=\"data row4 col2\" >0.9381</td>\n",
              "      <td id=\"T_74218_row4_col3\" class=\"data row4 col3\" >0.9298</td>\n",
              "      <td id=\"T_74218_row4_col4\" class=\"data row4 col4\" >0.9325</td>\n",
              "      <td id=\"T_74218_row4_col5\" class=\"data row4 col5\" >0.4484</td>\n",
              "      <td id=\"T_74218_row4_col6\" class=\"data row4 col6\" >0.4582</td>\n",
              "    </tr>\n",
              "    <tr>\n",
              "      <th id=\"T_74218_level0_row5\" class=\"row_heading level0 row5\" >5</th>\n",
              "      <td id=\"T_74218_row5_col0\" class=\"data row5 col0\" >0.9355</td>\n",
              "      <td id=\"T_74218_row5_col1\" class=\"data row5 col1\" >0.9512</td>\n",
              "      <td id=\"T_74218_row5_col2\" class=\"data row5 col2\" >0.9355</td>\n",
              "      <td id=\"T_74218_row5_col3\" class=\"data row5 col3\" >0.9242</td>\n",
              "      <td id=\"T_74218_row5_col4\" class=\"data row5 col4\" >0.9271</td>\n",
              "      <td id=\"T_74218_row5_col5\" class=\"data row5 col5\" >0.3897</td>\n",
              "      <td id=\"T_74218_row5_col6\" class=\"data row5 col6\" >0.4073</td>\n",
              "    </tr>\n",
              "    <tr>\n",
              "      <th id=\"T_74218_level0_row6\" class=\"row_heading level0 row6\" >6</th>\n",
              "      <td id=\"T_74218_row6_col0\" class=\"data row6 col0\" >0.9381</td>\n",
              "      <td id=\"T_74218_row6_col1\" class=\"data row6 col1\" >0.9416</td>\n",
              "      <td id=\"T_74218_row6_col2\" class=\"data row6 col2\" >0.9381</td>\n",
              "      <td id=\"T_74218_row6_col3\" class=\"data row6 col3\" >0.9276</td>\n",
              "      <td id=\"T_74218_row6_col4\" class=\"data row6 col4\" >0.9301</td>\n",
              "      <td id=\"T_74218_row6_col5\" class=\"data row6 col5\" >0.4121</td>\n",
              "      <td id=\"T_74218_row6_col6\" class=\"data row6 col6\" >0.4304</td>\n",
              "    </tr>\n",
              "    <tr>\n",
              "      <th id=\"T_74218_level0_row7\" class=\"row_heading level0 row7\" >7</th>\n",
              "      <td id=\"T_74218_row7_col0\" class=\"data row7 col0\" >0.9399</td>\n",
              "      <td id=\"T_74218_row7_col1\" class=\"data row7 col1\" >0.9439</td>\n",
              "      <td id=\"T_74218_row7_col2\" class=\"data row7 col2\" >0.9399</td>\n",
              "      <td id=\"T_74218_row7_col3\" class=\"data row7 col3\" >0.9309</td>\n",
              "      <td id=\"T_74218_row7_col4\" class=\"data row7 col4\" >0.9332</td>\n",
              "      <td id=\"T_74218_row7_col5\" class=\"data row7 col5\" >0.4444</td>\n",
              "      <td id=\"T_74218_row7_col6\" class=\"data row7 col6\" >0.4590</td>\n",
              "    </tr>\n",
              "    <tr>\n",
              "      <th id=\"T_74218_level0_row8\" class=\"row_heading level0 row8\" >8</th>\n",
              "      <td id=\"T_74218_row8_col0\" class=\"data row8 col0\" >0.9392</td>\n",
              "      <td id=\"T_74218_row8_col1\" class=\"data row8 col1\" >0.9504</td>\n",
              "      <td id=\"T_74218_row8_col2\" class=\"data row8 col2\" >0.9392</td>\n",
              "      <td id=\"T_74218_row8_col3\" class=\"data row8 col3\" >0.9298</td>\n",
              "      <td id=\"T_74218_row8_col4\" class=\"data row8 col4\" >0.9322</td>\n",
              "      <td id=\"T_74218_row8_col5\" class=\"data row8 col5\" >0.4343</td>\n",
              "      <td id=\"T_74218_row8_col6\" class=\"data row8 col6\" >0.4497</td>\n",
              "    </tr>\n",
              "    <tr>\n",
              "      <th id=\"T_74218_level0_row9\" class=\"row_heading level0 row9\" >9</th>\n",
              "      <td id=\"T_74218_row9_col0\" class=\"data row9 col0\" >0.9403</td>\n",
              "      <td id=\"T_74218_row9_col1\" class=\"data row9 col1\" >0.9429</td>\n",
              "      <td id=\"T_74218_row9_col2\" class=\"data row9 col2\" >0.9403</td>\n",
              "      <td id=\"T_74218_row9_col3\" class=\"data row9 col3\" >0.9313</td>\n",
              "      <td id=\"T_74218_row9_col4\" class=\"data row9 col4\" >0.9335</td>\n",
              "      <td id=\"T_74218_row9_col5\" class=\"data row9 col5\" >0.4462</td>\n",
              "      <td id=\"T_74218_row9_col6\" class=\"data row9 col6\" >0.4614</td>\n",
              "    </tr>\n",
              "    <tr>\n",
              "      <th id=\"T_74218_level0_row10\" class=\"row_heading level0 row10\" >Mean</th>\n",
              "      <td id=\"T_74218_row10_col0\" class=\"data row10 col0\" >0.9374</td>\n",
              "      <td id=\"T_74218_row10_col1\" class=\"data row10 col1\" >0.9457</td>\n",
              "      <td id=\"T_74218_row10_col2\" class=\"data row10 col2\" >0.9374</td>\n",
              "      <td id=\"T_74218_row10_col3\" class=\"data row10 col3\" >0.9274</td>\n",
              "      <td id=\"T_74218_row10_col4\" class=\"data row10 col4\" >0.9300</td>\n",
              "      <td id=\"T_74218_row10_col5\" class=\"data row10 col5\" >0.4172</td>\n",
              "      <td id=\"T_74218_row10_col6\" class=\"data row10 col6\" >0.4326</td>\n",
              "    </tr>\n",
              "    <tr>\n",
              "      <th id=\"T_74218_level0_row11\" class=\"row_heading level0 row11\" >Std</th>\n",
              "      <td id=\"T_74218_row11_col0\" class=\"data row11 col0\" >0.0020</td>\n",
              "      <td id=\"T_74218_row11_col1\" class=\"data row11 col1\" >0.0043</td>\n",
              "      <td id=\"T_74218_row11_col2\" class=\"data row11 col2\" >0.0020</td>\n",
              "      <td id=\"T_74218_row11_col3\" class=\"data row11 col3\" >0.0028</td>\n",
              "      <td id=\"T_74218_row11_col4\" class=\"data row11 col4\" >0.0025</td>\n",
              "      <td id=\"T_74218_row11_col5\" class=\"data row11 col5\" >0.0228</td>\n",
              "      <td id=\"T_74218_row11_col6\" class=\"data row11 col6\" >0.0215</td>\n",
              "    </tr>\n",
              "  </tbody>\n",
              "</table>\n"
            ]
          },
          "metadata": {}
        },
        {
          "output_type": "display_data",
          "data": {
            "text/plain": [
              "Processing:   0%|          | 0/7 [00:00<?, ?it/s]"
            ],
            "application/vnd.jupyter.widget-view+json": {
              "version_major": 2,
              "version_minor": 0,
              "model_id": "2579942d07fa4c21aa419d9670f8b1d6"
            }
          },
          "metadata": {
            "application/vnd.jupyter.widget-view+json": {
              "colab": {
                "custom_widget_manager": {
                  "url": "https://ssl.gstatic.com/colaboratory-static/widgets/colab-cdn-widget-manager/2b70e893a8ba7c0f/manager.min.js"
                }
              }
            }
          }
        },
        {
          "output_type": "stream",
          "name": "stdout",
          "text": [
            "Fitting 10 folds for each of 10 candidates, totalling 100 fits\n"
          ]
        },
        {
          "output_type": "display_data",
          "data": {
            "text/plain": [
              "<IPython.core.display.HTML object>"
            ],
            "text/html": []
          },
          "metadata": {}
        },
        {
          "output_type": "stream",
          "name": "stdout",
          "text": [
            "Original model was better than the tuned model, hence it will be returned. NOTE: The display metrics are for the tuned model (not the original one).\n"
          ]
        },
        {
          "output_type": "display_data",
          "data": {
            "text/plain": [
              "<pandas.io.formats.style.Styler at 0x7e54145a6ad0>"
            ],
            "text/html": [
              "<style type=\"text/css\">\n",
              "</style>\n",
              "<table id=\"T_22dc9\" class=\"dataframe\">\n",
              "  <thead>\n",
              "    <tr>\n",
              "      <th class=\"blank level0\" >&nbsp;</th>\n",
              "      <th id=\"T_22dc9_level0_col0\" class=\"col_heading level0 col0\" >Model</th>\n",
              "      <th id=\"T_22dc9_level0_col1\" class=\"col_heading level0 col1\" >Accuracy</th>\n",
              "      <th id=\"T_22dc9_level0_col2\" class=\"col_heading level0 col2\" >AUC</th>\n",
              "      <th id=\"T_22dc9_level0_col3\" class=\"col_heading level0 col3\" >Recall</th>\n",
              "      <th id=\"T_22dc9_level0_col4\" class=\"col_heading level0 col4\" >Prec.</th>\n",
              "      <th id=\"T_22dc9_level0_col5\" class=\"col_heading level0 col5\" >F1</th>\n",
              "      <th id=\"T_22dc9_level0_col6\" class=\"col_heading level0 col6\" >Kappa</th>\n",
              "      <th id=\"T_22dc9_level0_col7\" class=\"col_heading level0 col7\" >MCC</th>\n",
              "    </tr>\n",
              "  </thead>\n",
              "  <tbody>\n",
              "    <tr>\n",
              "      <th id=\"T_22dc9_level0_row0\" class=\"row_heading level0 row0\" >0</th>\n",
              "      <td id=\"T_22dc9_row0_col0\" class=\"data row0 col0\" >Light Gradient Boosting Machine</td>\n",
              "      <td id=\"T_22dc9_row0_col1\" class=\"data row0 col1\" >0.9574</td>\n",
              "      <td id=\"T_22dc9_row0_col2\" class=\"data row0 col2\" >0.9771</td>\n",
              "      <td id=\"T_22dc9_row0_col3\" class=\"data row0 col3\" >0.9574</td>\n",
              "      <td id=\"T_22dc9_row0_col4\" class=\"data row0 col4\" >0.9537</td>\n",
              "      <td id=\"T_22dc9_row0_col5\" class=\"data row0 col5\" >0.9543</td>\n",
              "      <td id=\"T_22dc9_row0_col6\" class=\"data row0 col6\" >0.6299</td>\n",
              "      <td id=\"T_22dc9_row0_col7\" class=\"data row0 col7\" >0.6392</td>\n",
              "    </tr>\n",
              "  </tbody>\n",
              "</table>\n"
            ]
          },
          "metadata": {}
        },
        {
          "output_type": "stream",
          "name": "stdout",
          "text": [
            "Transformation Pipeline and Model Successfully Saved\n"
          ]
        },
        {
          "output_type": "execute_result",
          "data": {
            "text/plain": [
              "(Pipeline(memory=Memory(location=None),\n",
              "          steps=[('label_encoding',\n",
              "                  TransformerWrapperWithInverse(exclude=None, include=None,\n",
              "                                                transformer=LabelEncoder())),\n",
              "                 ('numerical_imputer',\n",
              "                  TransformerWrapper(exclude=None,\n",
              "                                     include=['age', 'balance', 'day',\n",
              "                                              'duration', 'campaign'],\n",
              "                                     transformer=SimpleImputer(add_indicator=False,\n",
              "                                                               copy=True,\n",
              "                                                               fill_value=None,\n",
              "                                                               keep_empty_features=Fal...\n",
              "                  LGBMClassifier(boosting_type='gbdt', class_weight=None,\n",
              "                                 colsample_bytree=1.0, importance_type='split',\n",
              "                                 learning_rate=0.1, max_depth=-1,\n",
              "                                 min_child_samples=20, min_child_weight=0.001,\n",
              "                                 min_split_gain=0.0, n_estimators=100, n_jobs=-1,\n",
              "                                 num_leaves=31, objective=None,\n",
              "                                 random_state=8968, reg_alpha=0.0,\n",
              "                                 reg_lambda=0.0, subsample=1.0,\n",
              "                                 subsample_for_bin=200000, subsample_freq=0))],\n",
              "          verbose=False),\n",
              " 'final_model.pkl')"
            ]
          },
          "metadata": {},
          "execution_count": 11
        }
      ]
    },
    {
      "cell_type": "markdown",
      "source": [
        "##### Convert categorical features"
      ],
      "metadata": {
        "id": "-ou9TAIZeUHf"
      }
    },
    {
      "cell_type": "code",
      "source": [
        "# Identify columns with 'object' dtype\n",
        "object_cols = X_train.select_dtypes(include=['object']).columns\n",
        "\n",
        "# Apply Label Encoding to convert categorical features to numerical\n",
        "label_encoder = LabelEncoder()\n",
        "for col in object_cols:\n",
        "    X_train[col] = label_encoder.fit_transform(X_train[col])\n",
        "    X_test[col] = label_encoder.transform(X_test[col])"
      ],
      "metadata": {
        "id": "HqVefAWGwgdA"
      },
      "execution_count": null,
      "outputs": []
    },
    {
      "cell_type": "markdown",
      "source": [
        "#### 3.1.1  Gradient Boosting Classifier"
      ],
      "metadata": {
        "id": "6kMIpAYnuZja"
      }
    },
    {
      "cell_type": "code",
      "source": [
        "# Initialize and train Gradient Boosting Classifier\n",
        "gb_clf = GradientBoostingClassifier(random_state=seed)\n",
        "\n",
        "# Train the classifier\n",
        "gb_clf.fit(X_train, y_train)\n",
        "\n",
        "# Make predictions\n",
        "y_pred = gb_clf.predict(X_test)\n",
        "\n",
        "# Evaluate accuracy\n",
        "accuracy = accuracy_score(y_test, y_pred)\n",
        "print(f'Accuracy: {accuracy:.4f}')\n",
        "\n",
        "# Classification report\n",
        "print(\"\\nClassification Report:\\n\")\n",
        "print(classification_report(y_test, y_pred))\n",
        "\n",
        "# Calculate F2 score\n",
        "f2_score = fbeta_score(y_test, y_pred, beta=2, pos_label='yes')\n",
        "print(f'F2 Score: {f2_score:.4f}\\n')\n"
      ],
      "metadata": {
        "colab": {
          "base_uri": "https://localhost:8080/"
        },
        "id": "-yp7RAMpuk7N",
        "outputId": "ca4cecf1-4ae4-4f4b-aa25-680b1217e648"
      },
      "execution_count": null,
      "outputs": [
        {
          "output_type": "stream",
          "name": "stdout",
          "text": [
            "Accuracy: 0.9404\n",
            "\n",
            "Classification Report:\n",
            "\n",
            "              precision    recall  f1-score   support\n",
            "\n",
            "          no       0.95      0.98      0.97      7430\n",
            "         yes       0.64      0.38      0.47       570\n",
            "\n",
            "    accuracy                           0.94      8000\n",
            "   macro avg       0.80      0.68      0.72      8000\n",
            "weighted avg       0.93      0.94      0.93      8000\n",
            "\n",
            "F2 Score: 0.4108\n",
            "\n"
          ]
        }
      ]
    },
    {
      "cell_type": "markdown",
      "source": [
        "#### 3.1.2 LightGBM Classifier"
      ],
      "metadata": {
        "id": "kdl_SYlT3nVM"
      }
    },
    {
      "cell_type": "code",
      "source": [
        "# Train the LightGBM model\n",
        "clf = lgb.LGBMClassifier(random_state=seed)\n",
        "clf.fit(X_train, y_train)\n",
        "\n",
        "# Make predictions\n",
        "y_pred = clf.predict(X_test)\n",
        "\n",
        "# Evaluate accuracy\n",
        "accuracy = accuracy_score(y_test, y_pred)\n",
        "print(f'Accuracy: {accuracy:.4f}')\n",
        "\n",
        "# Classification report\n",
        "print(\"\\nClassification Report:\\n\")\n",
        "print(classification_report(y_test, y_pred))\n",
        "\n",
        "# Calculate F2 score\n",
        "f2_score = fbeta_score(y_test, y_pred, beta=2, pos_label='yes')\n",
        "print(f'F2 Score: {f2_score:.4f}\\n')"
      ],
      "metadata": {
        "colab": {
          "base_uri": "https://localhost:8080/"
        },
        "id": "gCubtzfm3ppR",
        "outputId": "11f0e8c1-9e80-4c1a-9e2c-cf255ddd23d8"
      },
      "execution_count": null,
      "outputs": [
        {
          "output_type": "stream",
          "name": "stdout",
          "text": [
            "[LightGBM] [Info] Number of positive: 2326, number of negative: 29674\n",
            "[LightGBM] [Info] Auto-choosing row-wise multi-threading, the overhead of testing was 0.003394 seconds.\n",
            "You can set `force_row_wise=true` to remove the overhead.\n",
            "And if memory is not enough, you can set `force_col_wise=true`.\n",
            "[LightGBM] [Info] Total Bins 686\n",
            "[LightGBM] [Info] Number of data points in the train set: 32000, number of used features: 13\n",
            "[LightGBM] [Info] [binary:BoostFromScore]: pavg=0.072688 -> initscore=-2.546121\n",
            "[LightGBM] [Info] Start training from score -2.546121\n",
            "Accuracy: 0.9401\n",
            "\n",
            "Classification Report:\n",
            "\n",
            "              precision    recall  f1-score   support\n",
            "\n",
            "          no       0.96      0.98      0.97      7430\n",
            "         yes       0.61      0.43      0.51       570\n",
            "\n",
            "    accuracy                           0.94      8000\n",
            "   macro avg       0.79      0.71      0.74      8000\n",
            "weighted avg       0.93      0.94      0.94      8000\n",
            "\n",
            "F2 Score: 0.4603\n",
            "\n"
          ]
        }
      ]
    },
    {
      "cell_type": "markdown",
      "source": [
        "#### 3.1.3 Extreme Gradient Boosting"
      ],
      "metadata": {
        "id": "sb9-yXhF33_b"
      }
    },
    {
      "cell_type": "code",
      "source": [
        "from sklearn.preprocessing import LabelEncoder\n",
        "\n",
        "# Initialize LabelEncoder\n",
        "le = LabelEncoder()\n",
        "\n",
        "# Fit and transform the target variable\n",
        "y_train_encoded = le.fit_transform(y_train)\n",
        "y_test_encoded = le.transform(y_test)  # Transform y_test using the same encoder\n",
        "\n",
        "# Train the Extreme Gradient model\n",
        "xgb_clf = xgb.XGBClassifier(use_label_encoder=False, eval_metric='mlogloss', random_state=seed)\n",
        "xgb_clf.fit(X_train, y_train_encoded)  # Use the encoded target variable\n",
        "\n",
        "# Make predictions\n",
        "y_pred_encoded = xgb_clf.predict(X_test)\n",
        "\n",
        "# Inverse transform predictions to original labels\n",
        "y_pred = le.inverse_transform(y_pred_encoded)\n",
        "\n",
        "# Evaluate accuracy\n",
        "accuracy = accuracy_score(y_test, y_pred)\n",
        "print(f'Accuracy: {accuracy:.4f}')\n",
        "\n",
        "# Classification report\n",
        "print(\"\\nClassification Report:\\n\")\n",
        "print(classification_report(y_test, y_pred))\n",
        "\n",
        "# Calculate F2 score\n",
        "# Using 'yes' as pos_label since we've inverse transformed predictions\n",
        "f2_score = fbeta_score(y_test, y_pred, beta=2, pos_label='yes')\n",
        "print(f'F2 Score: {f2_score:.4f}\\n')"
      ],
      "metadata": {
        "colab": {
          "base_uri": "https://localhost:8080/"
        },
        "id": "1FebdxAmyrkf",
        "outputId": "e3536d1e-ecf9-4846-edf9-c2ad74560899"
      },
      "execution_count": null,
      "outputs": [
        {
          "output_type": "stream",
          "name": "stderr",
          "text": [
            "/usr/local/lib/python3.10/dist-packages/xgboost/core.py:158: UserWarning: [23:48:25] WARNING: /workspace/src/learner.cc:740: \n",
            "Parameters: { \"use_label_encoder\" } are not used.\n",
            "\n",
            "  warnings.warn(smsg, UserWarning)\n"
          ]
        },
        {
          "output_type": "stream",
          "name": "stdout",
          "text": [
            "Accuracy: 0.9390\n",
            "\n",
            "Classification Report:\n",
            "\n",
            "              precision    recall  f1-score   support\n",
            "\n",
            "          no       0.96      0.98      0.97      7430\n",
            "         yes       0.60      0.44      0.51       570\n",
            "\n",
            "    accuracy                           0.94      8000\n",
            "   macro avg       0.78      0.71      0.74      8000\n",
            "weighted avg       0.93      0.94      0.93      8000\n",
            "\n",
            "F2 Score: 0.4633\n",
            "\n"
          ]
        }
      ]
    },
    {
      "cell_type": "markdown",
      "source": [
        "#### 3.1.4 RandomForestClassifier"
      ],
      "metadata": {
        "id": "0fy1cMPw4sEh"
      }
    },
    {
      "cell_type": "code",
      "source": [
        "# Initialize and train the Random Forest model\n",
        "rf_clf = RandomForestClassifier(random_state=seed)\n",
        "rf_clf.fit(X_train, y_train)\n",
        "\n",
        "# Make predictions\n",
        "y_pred = rf_clf.predict(X_test)\n",
        "\n",
        "# Evaluate accuracy\n",
        "accuracy = accuracy_score(y_test, y_pred)\n",
        "print(f'Accuracy: {accuracy:.4f}')\n",
        "\n",
        "# Classification report\n",
        "print(\"\\nClassification Report:\\n\")\n",
        "print(classification_report(y_test, y_pred))\n",
        "\n",
        "# Calculate F2 score\n",
        "# Set pos_label to 'yes' since 'yes' represents the positive class in your target variable\n",
        "f2_score = fbeta_score(y_test, y_pred, beta=2, pos_label='yes')\n",
        "print(f'F2 Score: {f2_score:.4f}\\n')"
      ],
      "metadata": {
        "colab": {
          "base_uri": "https://localhost:8080/"
        },
        "id": "H0Pig32_4sVS",
        "outputId": "a49ff662-6aee-4abf-cde9-29cfac423415"
      },
      "execution_count": null,
      "outputs": [
        {
          "output_type": "stream",
          "name": "stdout",
          "text": [
            "Accuracy: 0.9367\n",
            "\n",
            "Classification Report:\n",
            "\n",
            "              precision    recall  f1-score   support\n",
            "\n",
            "          no       0.95      0.98      0.97      7430\n",
            "         yes       0.60      0.33      0.42       570\n",
            "\n",
            "    accuracy                           0.94      8000\n",
            "   macro avg       0.78      0.65      0.70      8000\n",
            "weighted avg       0.93      0.94      0.93      8000\n",
            "\n",
            "F2 Score: 0.3594\n",
            "\n"
          ]
        }
      ]
    },
    {
      "cell_type": "markdown",
      "source": [
        "#### 3.1.5 ExtraTreesClassifier"
      ],
      "metadata": {
        "id": "BElmhAiq5HII"
      }
    },
    {
      "cell_type": "code",
      "source": [
        "# Initialize and train the Extra Trees model\n",
        "et_clf = ExtraTreesClassifier(random_state=seed)\n",
        "et_clf.fit(X_train, y_train)\n",
        "\n",
        "# Make predictions\n",
        "y_pred = et_clf.predict(X_test)\n",
        "\n",
        "# Evaluate accuracy\n",
        "accuracy = accuracy_score(y_test, y_pred)\n",
        "print(f'Accuracy: {accuracy:.4f}')\n",
        "\n",
        "# Classification report\n",
        "print(\"\\nClassification Report:\\n\")\n",
        "print(classification_report(y_test, y_pred))\n",
        "\n",
        "# Calculate F2 score\n",
        "# Set pos_label to 'yes' since 'yes' represents the positive class in your target variable\n",
        "f2_score = fbeta_score(y_test, y_pred, beta=2, pos_label='yes')\n",
        "print(f'F2 Score: {f2_score:.4f}\\n')"
      ],
      "metadata": {
        "colab": {
          "base_uri": "https://localhost:8080/"
        },
        "id": "HrVkPYPZz_hf",
        "outputId": "4b37b4d2-8665-4a83-ed34-aa7263a720ae"
      },
      "execution_count": null,
      "outputs": [
        {
          "output_type": "stream",
          "name": "stdout",
          "text": [
            "Accuracy: 0.9385\n",
            "\n",
            "Classification Report:\n",
            "\n",
            "              precision    recall  f1-score   support\n",
            "\n",
            "          no       0.95      0.99      0.97      7430\n",
            "         yes       0.68      0.26      0.38       570\n",
            "\n",
            "    accuracy                           0.94      8000\n",
            "   macro avg       0.81      0.63      0.67      8000\n",
            "weighted avg       0.93      0.94      0.93      8000\n",
            "\n",
            "F2 Score: 0.2998\n",
            "\n"
          ]
        }
      ]
    },
    {
      "cell_type": "markdown",
      "source": [
        "####  3.1.6 Ridge Classifier"
      ],
      "metadata": {
        "id": "g_P4T_kW5Tzx"
      }
    },
    {
      "cell_type": "code",
      "source": [
        "# Initialize and train Ridge Classifier\n",
        "ridge_clf = RidgeClassifier(class_weight='balanced', random_state=seed,)\n",
        "ridge_clf.fit(X_train, y_train)\n",
        "\n",
        "# Make predictions\n",
        "y_pred = ridge_clf.predict(X_test)\n",
        "\n",
        "# Evaluate accuracy\n",
        "accuracy = accuracy_score(y_test, y_pred)\n",
        "print(f'Accuracy: {accuracy:.4f}')\n",
        "\n",
        "# Classification report\n",
        "print(\"\\nClassification Report:\\n\")\n",
        "print(classification_report(y_test, y_pred))\n",
        "\n",
        "# Calculate F2 score\n",
        "f2_score = fbeta_score(y_test, y_pred, beta=2, pos_label='yes')\n",
        "print(f'F2 Score: {f2_score:.4f}\\n')"
      ],
      "metadata": {
        "colab": {
          "base_uri": "https://localhost:8080/"
        },
        "id": "aoNsCEnI5UMZ",
        "outputId": "4c5b36b7-9ef9-4d7a-865f-1d74c2332c64"
      },
      "execution_count": null,
      "outputs": [
        {
          "output_type": "stream",
          "name": "stdout",
          "text": [
            "Accuracy: 0.8769\n",
            "\n",
            "Classification Report:\n",
            "\n",
            "              precision    recall  f1-score   support\n",
            "\n",
            "          no       0.98      0.89      0.93      7398\n",
            "         yes       0.35      0.74      0.48       602\n",
            "\n",
            "    accuracy                           0.88      8000\n",
            "   macro avg       0.66      0.82      0.70      8000\n",
            "weighted avg       0.93      0.88      0.90      8000\n",
            "\n",
            "F2 Score: 0.6065\n",
            "\n"
          ]
        }
      ]
    },
    {
      "cell_type": "markdown",
      "source": [
        "#### 3.1.7  Logistic Regression"
      ],
      "metadata": {
        "id": "r-DNGHVj5fS5"
      }
    },
    {
      "cell_type": "code",
      "source": [
        "# Standardize the dataset (Logistic Regression benefits from feature scaling)\n",
        "scaler = StandardScaler()\n",
        "X_train = scaler.fit_transform(X_train)\n",
        "X_test = scaler.transform(X_test)\n",
        "\n",
        "# Initialize and train Logistic Regression\n",
        "log_reg = LogisticRegression(class_weight='balanced')\n",
        "log_reg.fit(X_train, y_train)\n",
        "\n",
        "# Make predictions\n",
        "y_pred = log_reg.predict(X_test)\n",
        "\n",
        "# Evaluate accuracy\n",
        "accuracy = accuracy_score(y_test, y_pred)\n",
        "print(f'Accuracy: {accuracy:.4f}')\n",
        "\n",
        "# Classification report\n",
        "print(\"\\nClassification Report:\\n\")\n",
        "print(classification_report(y_test, y_pred))\n",
        "\n",
        "# Calculate F2 score\n",
        "f2_score = fbeta_score(y_test, y_pred, beta=2, pos_label='yes')\n",
        "print(f'F2 Score: {f2_score:.4f}\\n')"
      ],
      "metadata": {
        "colab": {
          "base_uri": "https://localhost:8080/"
        },
        "id": "dPQ8N5dm5fq6",
        "outputId": "9a67a2bd-507d-4c19-f9fd-04493d641cf1"
      },
      "execution_count": null,
      "outputs": [
        {
          "output_type": "stream",
          "name": "stdout",
          "text": [
            "Accuracy: 0.8516\n",
            "\n",
            "Classification Report:\n",
            "\n",
            "              precision    recall  f1-score   support\n",
            "\n",
            "          no       0.98      0.86      0.91      7398\n",
            "         yes       0.31      0.78      0.44       602\n",
            "\n",
            "    accuracy                           0.85      8000\n",
            "   macro avg       0.64      0.82      0.68      8000\n",
            "weighted avg       0.93      0.85      0.88      8000\n",
            "\n",
            "F2 Score: 0.5985\n",
            "\n"
          ]
        }
      ]
    },
    {
      "cell_type": "markdown",
      "source": [
        "#### 3.1.8. ADA Classifier"
      ],
      "metadata": {
        "id": "iMOfd6PI5vYx"
      }
    },
    {
      "cell_type": "code",
      "source": [
        "# Initialize and train ADA Classifier\n",
        "\n",
        "# Increase the max_depth of the base estimator\n",
        "base_estimator = DecisionTreeClassifier(max_depth=3)\n",
        "\n",
        "ada_clf = AdaBoostClassifier(estimator=base_estimator, n_estimators=50, random_state=seed)\n",
        "ada_clf.fit(X_train, y_train)\n",
        "# Make predictions\n",
        "y_pred = ada_clf.predict(X_test)\n",
        "\n",
        "# Evaluate accuracy\n",
        "accuracy = accuracy_score(y_test, y_pred)\n",
        "print(f'Accuracy: {accuracy:.4f}')\n",
        "\n",
        "# Classification report\n",
        "print(\"\\nClassification Report:\\n\")\n",
        "print(classification_report(y_test, y_pred))\n",
        "\n",
        "# Calculate F2 score\n",
        "f2_score = fbeta_score(y_test, y_pred, beta=2, pos_label='yes')\n",
        "print(f'F2 Score: {f2_score:.4f}\\n')"
      ],
      "metadata": {
        "colab": {
          "base_uri": "https://localhost:8080/"
        },
        "id": "KkHpxf3C5vqZ",
        "outputId": "beaca13b-cceb-4c1a-81b4-a7df311ec661"
      },
      "execution_count": null,
      "outputs": [
        {
          "output_type": "stream",
          "name": "stderr",
          "text": [
            "/usr/local/lib/python3.10/dist-packages/sklearn/ensemble/_weight_boosting.py:527: FutureWarning: The SAMME.R algorithm (the default) is deprecated and will be removed in 1.6. Use the SAMME algorithm to circumvent this warning.\n",
            "  warnings.warn(\n"
          ]
        },
        {
          "output_type": "stream",
          "name": "stdout",
          "text": [
            "Accuracy: 0.9380\n",
            "\n",
            "Classification Report:\n",
            "\n",
            "              precision    recall  f1-score   support\n",
            "\n",
            "          no       0.96      0.97      0.97      7430\n",
            "         yes       0.58      0.46      0.51       570\n",
            "\n",
            "    accuracy                           0.94      8000\n",
            "   macro avg       0.77      0.72      0.74      8000\n",
            "weighted avg       0.93      0.94      0.93      8000\n",
            "\n",
            "F2 Score: 0.4769\n",
            "\n"
          ]
        }
      ]
    },
    {
      "cell_type": "markdown",
      "source": [
        "#### 3.1.9. Linear Discriminant Analysis"
      ],
      "metadata": {
        "id": "kMqWQhrS59xw"
      }
    },
    {
      "cell_type": "code",
      "source": [
        "# Train the Linear Discriminant Model\n",
        "lda = LinearDiscriminantAnalysis()\n",
        "lda.fit(X_train, y_train)\n",
        "\n",
        "# Make predictions\n",
        "y_pred = lda.predict(X_test)\n",
        "\n",
        "# Evaluate accuracy\n",
        "accuracy = accuracy_score(y_test, y_pred)\n",
        "print(f'Accuracy: {accuracy:.4f}')\n",
        "\n",
        "# Classification report\n",
        "print(\"\\nClassification Report:\\n\")\n",
        "print(classification_report(y_test, y_pred))\n",
        "\n",
        "# Calculate F2 score\n",
        "f2_score = fbeta_score(y_test, y_pred, beta=2, pos_label='yes')\n",
        "print(f'F2 Score: {f2_score:.4f}\\n')"
      ],
      "metadata": {
        "colab": {
          "base_uri": "https://localhost:8080/"
        },
        "id": "R3x9CIhf5-eA",
        "outputId": "da8c441f-854a-4afc-c96e-2e58ac34f522"
      },
      "execution_count": null,
      "outputs": [
        {
          "output_type": "stream",
          "name": "stdout",
          "text": [
            "Accuracy: 0.9343\n",
            "\n",
            "Classification Report:\n",
            "\n",
            "              precision    recall  f1-score   support\n",
            "\n",
            "          no       0.95      0.98      0.96      7398\n",
            "         yes       0.59      0.40      0.48       602\n",
            "\n",
            "    accuracy                           0.93      8000\n",
            "   macro avg       0.77      0.69      0.72      8000\n",
            "weighted avg       0.93      0.93      0.93      8000\n",
            "\n",
            "F2 Score: 0.4282\n",
            "\n"
          ]
        }
      ]
    },
    {
      "cell_type": "markdown",
      "source": [
        "### 4. Applying Sampling Techniques on Ridge Classifier"
      ],
      "metadata": {
        "id": "hGBhjRwL6ZSO"
      }
    },
    {
      "cell_type": "markdown",
      "source": [
        "#### 4.1 SMOTE-ENN Sampling"
      ],
      "metadata": {
        "id": "4sJJg7F767tZ"
      }
    },
    {
      "cell_type": "code",
      "source": [
        "# Import necessary libraries\n",
        "from imblearn.combine import SMOTEENN\n",
        "\n",
        "# Apply SMOTE-ENN\n",
        "smote_enn = SMOTEENN(random_state=seed)\n",
        "s_X_resampled, s_y_resampled = smote_enn.fit_resample(X_train, y_train)\n",
        "\n",
        "# Initialize and train Ridge Classifier\n",
        "ridge_clf = RidgeClassifier(random_state=seed)\n",
        "ridge_clf.fit(s_X_resampled, s_y_resampled)\n",
        "\n",
        "# Make predictions\n",
        "y_pred = ridge_clf.predict(X_test)\n",
        "\n",
        "# Evaluate accuracy\n",
        "accuracy = accuracy_score(y_test, y_pred)\n",
        "print(f'Accuracy: {accuracy:.4f}')\n",
        "\n",
        "# Classification report\n",
        "print(\"\\nClassification Report:\\n\")\n",
        "print(classification_report(y_test, y_pred))\n",
        "\n",
        "# Calculate F2 score\n",
        "f2_score = fbeta_score(y_test, y_pred, beta=2, pos_label='yes')\n",
        "print(f'F2 Score: {f2_score:.4f}\\n')"
      ],
      "metadata": {
        "colab": {
          "base_uri": "https://localhost:8080/"
        },
        "id": "O4EW9J5W6bfB",
        "outputId": "04e01c1a-6f51-4fb4-962e-dd7a327a1a2d"
      },
      "execution_count": null,
      "outputs": [
        {
          "output_type": "stream",
          "name": "stdout",
          "text": [
            "Accuracy: 0.8456\n",
            "\n",
            "Classification Report:\n",
            "\n",
            "              precision    recall  f1-score   support\n",
            "\n",
            "          no       0.98      0.85      0.91      7398\n",
            "         yes       0.30      0.79      0.43       602\n",
            "\n",
            "    accuracy                           0.85      8000\n",
            "   macro avg       0.64      0.82      0.67      8000\n",
            "weighted avg       0.93      0.85      0.87      8000\n",
            "\n",
            "F2 Score: 0.5951\n",
            "\n"
          ]
        }
      ]
    },
    {
      "cell_type": "markdown",
      "source": [
        "#### 4.2 SMOTE TOMEK Sampling"
      ],
      "metadata": {
        "id": "IpVsEtBt3ezz"
      }
    },
    {
      "cell_type": "code",
      "source": [
        "from imblearn.over_sampling import SMOTE\n",
        "\n",
        "sm = SMOTE(random_state=seed)\n",
        "sm_X_resampled, sm_y_resampled = sm.fit_resample(X_train, y_train)\n",
        "\n",
        "# Initialize and train Ridge Classifier\n",
        "ridge_clf = RidgeClassifier(random_state=seed)\n",
        "ridge_clf.fit(sm_X_resampled, sm_y_resampled)\n",
        "\n",
        "# Make predictions\n",
        "y_pred = ridge_clf.predict(X_test)\n",
        "\n",
        "# Evaluate accuracy\n",
        "accuracy = accuracy_score(y_test, y_pred)\n",
        "print(f'Accuracy: {accuracy:.4f}')\n",
        "\n",
        "# Classification report\n",
        "print(\"\\nClassification Report:\\n\")\n",
        "print(classification_report(y_test, y_pred))\n",
        "\n",
        "# Calculate F2 score\n",
        "f2_score = fbeta_score(y_test, y_pred, beta=2, pos_label='yes')\n",
        "print(f'F2 Score: {f2_score:.4f}\\n')"
      ],
      "metadata": {
        "colab": {
          "base_uri": "https://localhost:8080/"
        },
        "id": "bbnowD5Q2syg",
        "outputId": "e81d4ddd-7300-4503-e53a-d49faf114bb0"
      },
      "execution_count": null,
      "outputs": [
        {
          "output_type": "stream",
          "name": "stdout",
          "text": [
            "Accuracy: 0.8754\n",
            "\n",
            "Classification Report:\n",
            "\n",
            "              precision    recall  f1-score   support\n",
            "\n",
            "          no       0.98      0.89      0.93      7398\n",
            "         yes       0.35      0.74      0.47       602\n",
            "\n",
            "    accuracy                           0.88      8000\n",
            "   macro avg       0.66      0.81      0.70      8000\n",
            "weighted avg       0.93      0.88      0.89      8000\n",
            "\n",
            "F2 Score: 0.6045\n",
            "\n"
          ]
        }
      ]
    },
    {
      "cell_type": "markdown",
      "source": [
        "#### 4.3  Random - Under Sampling"
      ],
      "metadata": {
        "id": "maN-hhOU3b6z"
      }
    },
    {
      "cell_type": "code",
      "source": [
        "from imblearn.under_sampling import RandomUnderSampler\n",
        "\n",
        "# Apply Random Undersampling\n",
        "rus = RandomUnderSampler(random_state=seed)\n",
        "X_resampled, y_resampled = rus.fit_resample(X_train, y_train)\n",
        "\n",
        "# Initialize and train Ridge Classifier\n",
        "ridge_clf = RidgeClassifier(random_state=seed)\n",
        "ridge_clf.fit(X_resampled, y_resampled)\n",
        "\n",
        "# Make predictions\n",
        "y_pred = ridge_clf.predict(X_test)\n",
        "\n",
        "# Evaluate accuracy\n",
        "accuracy = accuracy_score(y_test, y_pred)\n",
        "print(f'Accuracy: {accuracy:.4f}')\n",
        "\n",
        "# Classification report\n",
        "print(\"\\nClassification Report:\\n\")\n",
        "print(classification_report(y_test, y_pred))\n",
        "\n",
        "# Calculate F2 score\n",
        "f2_score = fbeta_score(y_test, y_pred, beta=2, pos_label='yes')\n",
        "print(f'F2 Score: {f2_score:.4f}\\n')"
      ],
      "metadata": {
        "colab": {
          "base_uri": "https://localhost:8080/"
        },
        "id": "oQ-ldRMZ3EFc",
        "outputId": "4acb2329-628b-4afb-e8e4-4e674b3870f6"
      },
      "execution_count": null,
      "outputs": [
        {
          "output_type": "stream",
          "name": "stdout",
          "text": [
            "Accuracy: 0.8740\n",
            "\n",
            "Classification Report:\n",
            "\n",
            "              precision    recall  f1-score   support\n",
            "\n",
            "          no       0.98      0.88      0.93      7398\n",
            "         yes       0.34      0.74      0.47       602\n",
            "\n",
            "    accuracy                           0.87      8000\n",
            "   macro avg       0.66      0.81      0.70      8000\n",
            "weighted avg       0.93      0.87      0.89      8000\n",
            "\n",
            "F2 Score: 0.6017\n",
            "\n"
          ]
        }
      ]
    },
    {
      "cell_type": "markdown",
      "source": [
        "####4.4  Random - Over Sampling"
      ],
      "metadata": {
        "id": "xblRBlz23Yrk"
      }
    },
    {
      "cell_type": "code",
      "source": [
        "# Import necessary libraries\n",
        "from imblearn.over_sampling import RandomOverSampler\n",
        "\n",
        "# Apply Random Oversampling to balance the classes\n",
        "ros = RandomOverSampler(random_state=seed)\n",
        "o_X_train_resampled, o_y_train_resampled = ros.fit_resample(X_train, y_train)\n",
        "\n",
        "# Initialize and train Ridge Classifier\n",
        "ridge_clf = RidgeClassifier(random_state=seed)\n",
        "ridge_clf.fit(o_X_train_resampled, o_y_train_resampled)\n",
        "\n",
        "# Make predictions\n",
        "y_pred = ridge_clf.predict(X_test)\n",
        "\n",
        "# Evaluate accuracy\n",
        "accuracy = accuracy_score(y_test, y_pred)\n",
        "print(f'Accuracy: {accuracy:.4f}')\n",
        "\n",
        "# Classification report\n",
        "print(\"\\nClassification Report:\\n\")\n",
        "print(classification_report(y_test, y_pred))\n",
        "\n",
        "# Calculate F2 score\n",
        "f2_score = fbeta_score(y_test, y_pred, beta=2, pos_label='yes')\n",
        "print(f'F2 Score: {f2_score:.4f}\\n')"
      ],
      "metadata": {
        "colab": {
          "base_uri": "https://localhost:8080/"
        },
        "id": "E82ieAr93OxM",
        "outputId": "37c68af9-d1bf-4999-f04e-824be9f5d7b6"
      },
      "execution_count": null,
      "outputs": [
        {
          "output_type": "stream",
          "name": "stdout",
          "text": [
            "Accuracy: 0.8766\n",
            "\n",
            "Classification Report:\n",
            "\n",
            "              precision    recall  f1-score   support\n",
            "\n",
            "          no       0.98      0.89      0.93      7398\n",
            "         yes       0.35      0.74      0.48       602\n",
            "\n",
            "    accuracy                           0.88      8000\n",
            "   macro avg       0.66      0.82      0.70      8000\n",
            "weighted avg       0.93      0.88      0.90      8000\n",
            "\n",
            "F2 Score: 0.6062\n",
            "\n"
          ]
        }
      ]
    },
    {
      "cell_type": "markdown",
      "source": [
        "###5. Ensemble Model after Sampling"
      ],
      "metadata": {
        "id": "ef05WgnA_HFP"
      }
    },
    {
      "cell_type": "code",
      "source": [
        "from xgboost import XGBClassifier\n",
        "\n",
        "# Convert o_y_train_resampled to numerical values (0 for 'no', 1 for 'yes')\n",
        "o_y_train_resampled_numeric = o_y_train_resampled.map({'no': 0, 'yes': 1})\n",
        "\n",
        "# Calculate scale_pos_weight using the numerical representation\n",
        "scale_pos_weight = (len(o_y_train_resampled_numeric) - sum(o_y_train_resampled_numeric)) / sum(o_y_train_resampled_numeric)\n",
        "\n",
        "# Initialize and train XGBClassifier\n",
        "xgb_clf = XGBClassifier(scale_pos_weight=scale_pos_weight, random_state=seed)\n",
        "xgb_clf.fit(o_X_train_resampled, o_y_train_resampled_numeric) # Use the numerical representation for training\n",
        "\n",
        "# Make predictions\n",
        "y_pred_xgb = xgb_clf.predict(X_test)\n",
        "\n",
        "# Convert predictions back to original labels\n",
        "y_pred_xgb = ['yes' if pred == 1 else 'no' for pred in y_pred_xgb] # Convert numerical predictions back to 'yes' or 'no'\n",
        "\n",
        "# Evaluate accuracy\n",
        "accuracy = accuracy_score(y_test, y_pred_xgb)\n",
        "print(f'Accuracy: {accuracy:.4f}')\n",
        "\n",
        "# Classification report\n",
        "print(\"\\nClassification Report:\\n\")\n",
        "print(classification_report(y_test, y_pred_xgb))\n",
        "\n",
        "# Calculate F2 score\n",
        "f2_score = fbeta_score(y_test, y_pred_xgb, beta=2, pos_label='yes')\n",
        "print(f'F2 Score: {f2_score:.4f}\\n')"
      ],
      "metadata": {
        "colab": {
          "base_uri": "https://localhost:8080/"
        },
        "id": "y6gwdtzQ_Hpm",
        "outputId": "94f4e9f9-55b6-4086-9319-a05e59c3be5c"
      },
      "execution_count": null,
      "outputs": [
        {
          "output_type": "stream",
          "name": "stdout",
          "text": [
            "Accuracy: 0.9130\n",
            "\n",
            "Classification Report:\n",
            "\n",
            "              precision    recall  f1-score   support\n",
            "\n",
            "          no       0.98      0.92      0.95      7398\n",
            "         yes       0.45      0.78      0.57       602\n",
            "\n",
            "    accuracy                           0.91      8000\n",
            "   macro avg       0.72      0.85      0.76      8000\n",
            "weighted avg       0.94      0.91      0.92      8000\n",
            "\n",
            "F2 Score: 0.6817\n",
            "\n"
          ]
        }
      ]
    },
    {
      "cell_type": "markdown",
      "source": [
        "##### Plotting ROC Curve"
      ],
      "metadata": {
        "id": "PJspOJzaZxV0"
      }
    },
    {
      "cell_type": "code",
      "source": [
        "# Calculate the ROC curve\n",
        "\n",
        "# Convert y_test to numerical format (0 for 'no', 1 for 'yes')\n",
        "y_test_numeric = [1 if label == 'yes' else 0 for label in y_test]\n",
        "# Convert predictions back to original labels\n",
        "y_pred_xgb = [1 if label == 'yes' else 0 for label in y_pred_xgb]\n",
        "\n",
        "fpr, tpr, thresholds = roc_curve(y_test_numeric, y_pred_xgb)\n",
        "roc_auc = auc(fpr, tpr)\n",
        "\n",
        "# Plot the ROC curve\n",
        "plt.figure(figsize=(6, 4))\n",
        "plt.plot(fpr, tpr, color='blue', lw=2, label=f'ROC curve (AUC = {roc_auc:.2f})')\n",
        "plt.plot([0, 1], [0, 1], color='gray', linestyle='--', lw=2)  # Diagonal line\n",
        "plt.xlim([0.0, 1.0])\n",
        "plt.ylim([0.0, 1.05])\n",
        "plt.xlabel('False Positive Rate')\n",
        "plt.ylabel('True Positive Rate')\n",
        "plt.title('Receiver Operating Characteristic (ROC) Curve')\n",
        "plt.legend(loc=\"lower right\")\n",
        "plt.show()"
      ],
      "metadata": {
        "colab": {
          "base_uri": "https://localhost:8080/",
          "height": 410
        },
        "id": "QJ2QJbUzZxta",
        "outputId": "16a6c67c-2d73-413b-e322-7d328d4ea962"
      },
      "execution_count": null,
      "outputs": [
        {
          "output_type": "display_data",
          "data": {
            "text/plain": [
              "<Figure size 600x400 with 1 Axes>"
            ],
            "image/png": "[encoded data removed]"
          },
          "metadata": {}
        }
      ]
    },
    {
      "cell_type": "markdown",
      "source": [
        "### 6. Hyperparamter tuning"
      ],
      "metadata": {
        "id": "pvmT_20wDZ35"
      }
    },
    {
      "cell_type": "code",
      "source": [
        "from sklearn.model_selection import train_test_split, GridSearchCV\n",
        "from sklearn.metrics import roc_auc_score\n",
        "from sklearn.datasets import make_classification\n",
        "\n",
        "\n",
        "# Step 1: Initial Model Training with Cross-Validation to Tune 'n_estimators'\n",
        "xgb_base = XGBClassifier(learning_rate=0.1)\n",
        "param_grid_1 = {\n",
        "    'n_estimators': [50, 100, 150, 200]\n",
        "}"
      ],
      "metadata": {
        "id": "v-x5X5rHFOjD"
      },
      "execution_count": null,
      "outputs": []
    },
    {
      "cell_type": "code",
      "source": [
        "grid_search_1 = GridSearchCV(estimator=xgb_base, param_grid=param_grid_1,\n",
        "                             scoring='roc_auc', cv=5, verbose=1)\n",
        "grid_search_1.fit(o_X_train_resampled, o_y_train_resampled_numeric)\n",
        "best_n_estimators = grid_search_1.best_params_['n_estimators']"
      ],
      "metadata": {
        "colab": {
          "base_uri": "https://localhost:8080/"
        },
        "id": "aQpYTPaMFRyy",
        "outputId": "7d28036a-1934-47c8-d0a7-14a5c0c900e0"
      },
      "execution_count": null,
      "outputs": [
        {
          "output_type": "stream",
          "name": "stdout",
          "text": [
            "Fitting 5 folds for each of 4 candidates, totalling 20 fits\n"
          ]
        }
      ]
    },
    {
      "cell_type": "code",
      "source": [
        "# Step 2: Tune Tree-Specific Parameters ('max_depth', 'min_child_weight', 'gamma')\n",
        "param_grid_2 = {\n",
        "    'max_depth': [3, 5, 7, 10],\n",
        "    'min_child_weight': [1, 3, 5],\n",
        "    'gamma': [0, 0.1, 0.5, 1]\n",
        "}\n",
        "\n",
        "xgb_tree_params = XGBClassifier(learning_rate=0.1, n_estimators=best_n_estimators)\n",
        "grid_search_2 = GridSearchCV(estimator=xgb_tree_params, param_grid=param_grid_2,\n",
        "                             scoring='roc_auc', cv=5, verbose=1)\n",
        "grid_search_2.fit(o_X_train_resampled, o_y_train_resampled_numeric)\n",
        "best_params_tree = grid_search_2.best_params_"
      ],
      "metadata": {
        "colab": {
          "base_uri": "https://localhost:8080/"
        },
        "id": "sosIGwhcFiZ5",
        "outputId": "1c343d7c-7b73-40f1-82d7-bf3d78cef734"
      },
      "execution_count": null,
      "outputs": [
        {
          "output_type": "stream",
          "name": "stdout",
          "text": [
            "Fitting 5 folds for each of 48 candidates, totalling 240 fits\n"
          ]
        }
      ]
    },
    {
      "cell_type": "code",
      "source": [
        "# Step 3: Tune Subsampling Parameters ('subsample', 'colsample_bytree')\n",
        "param_grid_3 = {\n",
        "    'subsample': [0.5, 0.7, 0.9, 1.0],\n",
        "    'colsample_bytree': [0.5, 0.7, 0.9, 1.0]\n",
        "}\n",
        "\n",
        "xgb_sampling_params = XGBClassifier(learning_rate=0.1, n_estimators=best_n_estimators,\n",
        "                                    max_depth=best_params_tree['max_depth'],\n",
        "                                    min_child_weight=best_params_tree['min_child_weight'],\n",
        "                                    gamma=best_params_tree['gamma'])\n",
        "grid_search_3 = GridSearchCV(estimator=xgb_sampling_params, param_grid=param_grid_3,\n",
        "                             scoring='roc_auc', cv=5, verbose=1)\n",
        "grid_search_3.fit(o_X_train_resampled, o_y_train_resampled_numeric)\n",
        "best_params_sampling = grid_search_3.best_params_"
      ],
      "metadata": {
        "colab": {
          "base_uri": "https://localhost:8080/"
        },
        "id": "DbQMGm1QFrBb",
        "outputId": "0b39b43a-2a86-4ba0-8b45-f5122f6caa30"
      },
      "execution_count": null,
      "outputs": [
        {
          "output_type": "stream",
          "name": "stdout",
          "text": [
            "Fitting 5 folds for each of 16 candidates, totalling 80 fits\n"
          ]
        }
      ]
    },
    {
      "cell_type": "code",
      "source": [
        "# Step 4: Tune Regularization Parameters ('lambda', 'alpha')\n",
        "param_grid_4 = {\n",
        "    'reg_lambda': [0, 0.1, 1, 10],\n",
        "    'alpha': [0, 0.1, 1, 10]\n",
        "}\n",
        "\n",
        "xgb_regularization_params = XGBClassifier(learning_rate=0.1, n_estimators=best_n_estimators,\n",
        "                                          max_depth=best_params_tree['max_depth'],\n",
        "                                          min_child_weight=best_params_tree['min_child_weight'],\n",
        "                                          gamma=best_params_tree['gamma'],\n",
        "                                          subsample=best_params_sampling['subsample'],\n",
        "                                          colsample_bytree=best_params_sampling['colsample_bytree'])\n",
        "grid_search_4 = GridSearchCV(estimator=xgb_regularization_params, param_grid=param_grid_4,\n",
        "                             scoring='roc_auc', cv=5, verbose=1)\n",
        "grid_search_4.fit(o_X_train_resampled, o_y_train_resampled_numeric)\n",
        "best_params_regularization = grid_search_4.best_params_"
      ],
      "metadata": {
        "colab": {
          "base_uri": "https://localhost:8080/"
        },
        "id": "R4celYooFy2q",
        "outputId": "1883a027-9eb0-4cf2-e0cf-9929298b7459"
      },
      "execution_count": null,
      "outputs": [
        {
          "output_type": "stream",
          "name": "stdout",
          "text": [
            "Fitting 5 folds for each of 16 candidates, totalling 80 fits\n"
          ]
        }
      ]
    },
    {
      "cell_type": "code",
      "source": [
        "# Step 5: Final Model with All Best Parameters\n",
        "final_model = XGBClassifier(\n",
        "    learning_rate=0.01,  # Lower learning rate for better performance\n",
        "    n_estimators=500,  # Increase number of trees\n",
        "    max_depth=best_params_tree['max_depth'],\n",
        "    min_child_weight=best_params_tree['min_child_weight'],\n",
        "    gamma=best_params_tree['gamma'],\n",
        "    subsample=best_params_sampling['subsample'],\n",
        "    colsample_bytree=best_params_sampling['colsample_bytree'],\n",
        "    reg_lambda=best_params_regularization['reg_lambda'],  # Use 'reg_lambda' instead of 'lambda'\n",
        "    alpha=best_params_regularization['alpha']\n",
        ")\n",
        "\n",
        "# Train the final model\n",
        "final_model.fit(o_X_train_resampled, o_y_train_resampled_numeric)\n",
        "\n",
        "# Evaluate on the test set\n",
        "y_pred_proba = final_model.predict_proba(X_test)[:, 1]  # Get probabilities for the positive class\n",
        "y_pred_hp = (y_pred_proba >= 0.5).astype(int)\n",
        "\n",
        "# Convert y_pred to string labels to match y_test\n",
        "y_pred_hp = ['yes' if p == 1 else 'no' for p in y_pred_hp]\n",
        "\n",
        "roc_auc = roc_auc_score(y_test, y_pred_proba)\n",
        "print(f\"Final Model ROC-AUC Score: {roc_auc:.4f}\")\n",
        "\n",
        "# Classification report\n",
        "print(\"\\nClassification Report:\\n\")\n",
        "print(classification_report(y_test, y_pred_hp))\n",
        "\n",
        "# Calculate F2 score\n",
        "f2_score = fbeta_score(y_test, y_pred_hp, beta=2, pos_label='yes')\n",
        "print(f'F2 Score: {f2_score:.4f}\\n')"
      ],
      "metadata": {
        "colab": {
          "base_uri": "https://localhost:8080/"
        },
        "id": "_3SqfTVGDg1D",
        "outputId": "454aadb7-155f-42b4-ab75-631d1ff97471"
      },
      "execution_count": null,
      "outputs": [
        {
          "output_type": "stream",
          "name": "stdout",
          "text": [
            "Final Model ROC-AUC Score: 0.9487\n",
            "\n",
            "Classification Report:\n",
            "\n",
            "              precision    recall  f1-score   support\n",
            "\n",
            "          no       0.98      0.94      0.96      7398\n",
            "         yes       0.49      0.75      0.59       602\n",
            "\n",
            "    accuracy                           0.92      8000\n",
            "   macro avg       0.73      0.84      0.77      8000\n",
            "weighted avg       0.94      0.92      0.93      8000\n",
            "\n",
            "F2 Score: 0.6750\n",
            "\n"
          ]
        }
      ]
    },
    {
      "cell_type": "markdown",
      "source": [
        "##### Plotting ROC Curve"
      ],
      "metadata": {
        "id": "yIP2XUjKZ9vy"
      }
    },
    {
      "cell_type": "code",
      "source": [
        "# Calculate the ROC curve\n",
        "\n",
        "# Convert y_test to numerical format (0 for 'no', 1 for 'yes')\n",
        "y_test_numeric = [1 if label == 'yes' else 0 for label in y_test]\n",
        "# Convert predictions back to original labels\n",
        "y_pred_hp = [1 if label == 'yes' else 0 for label in y_pred_hp]\n",
        "\n",
        "fpr, tpr, thresholds = roc_curve(y_test_numeric, y_pred_hp)\n",
        "roc_auc = auc(fpr, tpr)\n",
        "\n",
        "# Plot the ROC curve\n",
        "plt.figure(figsize=(6, 4))\n",
        "plt.plot(fpr, tpr, color='blue', lw=2, label=f'ROC curve (AUC = {roc_auc:.2f})')\n",
        "plt.plot([0, 1], [0, 1], color='gray', linestyle='--', lw=2)  # Diagonal line\n",
        "plt.xlim([0.0, 1.0])\n",
        "plt.ylim([0.0, 1.05])\n",
        "plt.xlabel('False Positive Rate')\n",
        "plt.ylabel('True Positive Rate')\n",
        "plt.title('Receiver Operating Characteristic (ROC) Curve')\n",
        "plt.legend(loc=\"lower right\")\n",
        "plt.show()"
      ],
      "metadata": {
        "colab": {
          "base_uri": "https://localhost:8080/",
          "height": 410
        },
        "id": "WBYSynItZ-DC",
        "outputId": "cfe5ac14-9bba-43e4-f3a9-3a6c4fe68af2"
      },
      "execution_count": null,
      "outputs": [
        {
          "output_type": "display_data",
          "data": {
            "text/plain": [
              "<Figure size 600x400 with 1 Axes>"
            ],
            "image/png": "[encoded data removed]"
          },
          "metadata": {}
        }
      ]
    },
    {
      "cell_type": "markdown",
      "source": [
        "###7.  Trying Ensemble Models"
      ],
      "metadata": {
        "id": "SbcSPG7cVsnJ"
      }
    },
    {
      "cell_type": "markdown",
      "source": [
        "####7.1. Bagging (Bootstrap Aggregating) - Random Forest"
      ],
      "metadata": {
        "id": "QNjr-UXLVw-w"
      }
    },
    {
      "cell_type": "code",
      "source": [
        "# Train the final model\n",
        "model = RandomForestClassifier(n_estimators=100, random_state=seed)\n",
        "model.fit(o_X_train_resampled, o_y_train_resampled_numeric)\n",
        "\n",
        "# Make predictions\n",
        "y_predictions = model.predict(X_test)\n",
        "\n",
        "# Convert predictions back to original labels\n",
        "y_predictions = ['yes' if pred == 1 else 'no' for pred in y_predictions] # Convert numerical predictions back to 'yes' or 'no'\n",
        "\n",
        "# Evaluate accuracy\n",
        "accuracy = accuracy_score(y_test, y_predictions)\n",
        "print(f'Accuracy: {accuracy:.4f}')\n",
        "\n",
        "# Classification report\n",
        "print(\"\\nClassification Report:\\n\")\n",
        "print(classification_report(y_test, y_predictions))\n",
        "\n",
        "# Calculate F2 score\n",
        "f2_score = fbeta_score(y_test, y_predictions, beta=2, pos_label='yes')\n",
        "print(f'F2 Score: {f2_score:.4f}\\n')"
      ],
      "metadata": {
        "colab": {
          "base_uri": "https://localhost:8080/"
        },
        "id": "aB3_azo8SbJF",
        "outputId": "16ae9547-cfbd-4e79-80b2-1bc1510406ba"
      },
      "execution_count": null,
      "outputs": [
        {
          "output_type": "stream",
          "name": "stdout",
          "text": [
            "Accuracy: 0.9356\n",
            "\n",
            "Classification Report:\n",
            "\n",
            "              precision    recall  f1-score   support\n",
            "\n",
            "          no       0.95      0.98      0.97      7398\n",
            "         yes       0.60      0.43      0.50       602\n",
            "\n",
            "    accuracy                           0.94      8000\n",
            "   macro avg       0.78      0.70      0.73      8000\n",
            "weighted avg       0.93      0.94      0.93      8000\n",
            "\n",
            "F2 Score: 0.4576\n",
            "\n"
          ]
        }
      ]
    },
    {
      "cell_type": "markdown",
      "source": [
        "####7.2. Boosting using LGBMClassifier\n",
        "\n"
      ],
      "metadata": {
        "id": "bn_469scW0zI"
      }
    },
    {
      "cell_type": "code",
      "source": [
        "# Train the final model\n",
        "modellg = lgb.LGBMClassifier(n_estimators=100, learning_rate=0.1, random_state=seed)\n",
        "modellg.fit(o_X_train_resampled, o_y_train_resampled_numeric)\n",
        "\n",
        "# Make predictions\n",
        "y_predictions_lg = modellg.predict(X_test)\n",
        "\n",
        "# Convert predictions back to original labels\n",
        "y_predictions_lg = ['yes' if pred == 1 else 'no' for pred in y_predictions_lg] # Convert numerical predictions back to 'yes' or 'no'\n",
        "\n",
        "# Evaluate accuracy\n",
        "accuracy = accuracy_score(y_test, y_predictions_lg)\n",
        "print(f'Accuracy: {accuracy:.4f}')\n",
        "\n",
        "# Classification report\n",
        "print(\"\\nClassification Report:\\n\")\n",
        "print(classification_report(y_test, y_predictions_lg))\n",
        "\n",
        "# Calculate F2 score\n",
        "f2_score = fbeta_score(y_test, y_predictions_lg, beta=2, pos_label='yes')\n",
        "print(f'F2 Score: {f2_score:.4f}\\n')\n",
        "\n",
        "# Confusion matrix\n",
        "conf_matrix = confusion_matrix(y_test, y_predictions_lg, labels=['yes', 'no'])\n",
        "\n",
        "# Display confusion matrix as a plot\n",
        "plt.figure(figsize=(4, 3))\n",
        "sns.heatmap(conf_matrix, annot=True, fmt=\"d\", cmap=\"Blues\", xticklabels=['Class 0', 'Class 1'], yticklabels=['Class 0', 'Class 1'])\n",
        "plt.title(\"Confusion Matrix\")\n",
        "plt.ylabel('Actual Class')\n",
        "plt.xlabel('Predicted Class')\n",
        "plt.show()"
      ],
      "metadata": {
        "colab": {
          "base_uri": "https://localhost:8080/",
          "height": 715
        },
        "id": "KPY2xLbTSbCt",
        "outputId": "68fdea9c-409c-4406-ef97-02c1e076066f"
      },
      "execution_count": null,
      "outputs": [
        {
          "output_type": "stream",
          "name": "stdout",
          "text": [
            "[LightGBM] [Info] Number of positive: 29706, number of negative: 29706\n",
            "[LightGBM] [Info] Auto-choosing row-wise multi-threading, the overhead of testing was 0.006520 seconds.\n",
            "You can set `force_row_wise=true` to remove the overhead.\n",
            "And if memory is not enough, you can set `force_col_wise=true`.\n",
            "[LightGBM] [Info] Total Bins 696\n",
            "[LightGBM] [Info] Number of data points in the train set: 59412, number of used features: 13\n",
            "[LightGBM] [Info] [binary:BoostFromScore]: pavg=0.500000 -> initscore=0.000000\n",
            "Accuracy: 0.8885\n",
            "\n",
            "Classification Report:\n",
            "\n",
            "              precision    recall  f1-score   support\n",
            "\n",
            "          no       0.99      0.89      0.94      7398\n",
            "         yes       0.39      0.90      0.55       602\n",
            "\n",
            "    accuracy                           0.89      8000\n",
            "   macro avg       0.69      0.90      0.74      8000\n",
            "weighted avg       0.95      0.89      0.91      8000\n",
            "\n",
            "F2 Score: 0.7184\n",
            "\n"
          ]
        },
        {
          "output_type": "display_data",
          "data": {
            "text/plain": [
              "<Figure size 400x300 with 2 Axes>"
            ],
            "image/png": "[encoded data removed]"
          },
          "metadata": {}
        }
      ]
    },
    {
      "cell_type": "markdown",
      "source": [
        "##### Plot ROC Curve"
      ],
      "metadata": {
        "id": "flkJr4laYEy3"
      }
    },
    {
      "cell_type": "code",
      "source": [
        "# Calculate the ROC curve\n",
        "\n",
        "# Convert y_test to numerical format (0 for 'no', 1 for 'yes')\n",
        "y_test_numeric = [1 if label == 'yes' else 0 for label in y_test]\n",
        "# Convert predictions back to original labels\n",
        "y_predictions_lg = [1 if label == 'yes' else 0 for label in y_predictions_lg]\n",
        "\n",
        "fpr, tpr, thresholds = roc_curve(y_test_numeric, y_predictions_lg)\n",
        "roc_auc = auc(fpr, tpr)\n",
        "\n",
        "# Plot the ROC curve\n",
        "plt.figure(figsize=(4, 3))\n",
        "plt.plot(fpr, tpr, color='blue', lw=2, label=f'ROC curve (AUC = {roc_auc:.2f})')\n",
        "plt.plot([0, 1], [0, 1], color='gray', linestyle='--', lw=2)  # Diagonal line\n",
        "plt.xlim([0.0, 1.0])\n",
        "plt.ylim([0.0, 1.05])\n",
        "plt.xlabel('False Positive Rate')\n",
        "plt.ylabel('True Positive Rate')\n",
        "plt.title('Receiver Operating Characteristic (ROC) Curve')\n",
        "plt.legend(loc=\"lower right\")\n",
        "plt.show()"
      ],
      "metadata": {
        "colab": {
          "base_uri": "https://localhost:8080/",
          "height": 333
        },
        "id": "VBYjaqz-YFGN",
        "outputId": "8f473683-7aee-48a9-b5d1-4652bf7531b5"
      },
      "execution_count": null,
      "outputs": [
        {
          "output_type": "display_data",
          "data": {
            "text/plain": [
              "<Figure size 400x300 with 1 Axes>"
            ],
            "image/png": "[encoded data removed]"
          },
          "metadata": {}
        }
      ]
    },
    {
      "cell_type": "markdown",
      "source": [
        "### 8. **Conclusion**"
      ],
      "metadata": {
        "id": "hVouWl06nny1"
      }
    },
    {
      "cell_type": "markdown",
      "source": [
        "In Part II of the analysis, I utilized the complete model to predict the number of subscribers who are likely to continue responding after identifying potential customers in the initial phase. The dataset was trained and modeled using multiple machine learning algorithms, and the final model selection was based on its performance with respect to the F2 score.\n",
        "\n",
        "The F2 score is calculated as:\n",
        "![Screenshot 2024-11-17 102641.png](data:image/png;base64,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)\n",
        "\n",
        "where:\n",
        "\n",
        "Precision: The proportion of true positives out of all predicted positives.\n",
        "\n",
        "Recall: The proportion of true positives out of all actual positives.\n",
        "\n",
        "The\n",
        "β=2 factor increases the weight of recall.\n",
        "\n",
        "Why F2 Score?:\n",
        "\n",
        "In this project, the priority is to identify as many potential subscribers as possible (high recall), by keeping the precision. The F2 score ensures that the model is optimized for this objective.\n",
        "\n",
        "Application in Model Selection:\n",
        "\n",
        "By comparing the F2 scores across multiple models, the one with the highest F2 score was chosen for predicting subscriber behavior. This ensures the model aligns with the business goal of maximizing customer retention and engagement."
      ],
      "metadata": {
        "id": "brIp0GRFnris"
      }
    },
    {
      "cell_type": "markdown",
      "source": [
        "After conducting thorough modeling and analysis, including sampling and hyperparameter tuning using the Grid Search method, I implemented ensemble techniques such as Boosting with the LightGBM classifier. This approach yielded improved results, achieving an F2 score of 72%.\n",
        "\n",
        "Model Performance Insights:\n",
        "\n",
        "**F2 Score:**\n",
        "\n",
        "The F2 score of 72% highlights the model's effectiveness, especially in prioritizing recall over precision. This metric ensures that the model focuses on minimizing false negatives, aligning with the project's objective of identifying potential subscribers accurately.\n",
        "\n",
        "**Recall for Class 0 (Non-subscribers):**\n",
        "\n",
        "The recall of 89% for non-subscribers demonstrates that the model correctly identifies 89% of those who are unlikely to subscribe. This indicates strong performance in avoiding false negatives within this class.\n",
        "\n",
        "**Recall for Class 1 (Subscribers)**:\n",
        "\n",
        "With a high recall of 90% for subscribers, the model effectively captures almost all actual subscribers. This is critical for maximizing customer engagement and ensuring that potential customers are not overlooked.\n",
        "\n",
        "This robust approach provides a reliable foundation for predicting future customer behavior and optimizing marketing strategies."
      ],
      "metadata": {
        "id": "OxqgUwCdvP1J"
      }
    },
    {
      "cell_type": "markdown",
      "source": [
        "**Time Saved:**\n",
        "\n",
        "Total calls company would make with the new model = (6564+58)6622\n",
        "\n",
        "Total time = 6622 * avg time for call = 6622*4.23 = 28011 mins = 466.8 hours\n",
        "\n",
        "Total call without model is 8000 and total time taken would be 33840 mins = 564 hours.\n",
        "\n",
        "Hence, using this model the company would save 5829 calls with non subscribing customers by saving a time of 17.2%.\n",
        "\n",
        "However, using the model we will lose around 10% of potential customers, which we predicted to be non-customer. This when compared to the larger dataset can be neglected executively. Or either after identifying the customer clusters, we could call the group of customers which were missed in this 10%."
      ],
      "metadata": {
        "id": "a9PEGODJzcNV"
      }
    }
  ]
}